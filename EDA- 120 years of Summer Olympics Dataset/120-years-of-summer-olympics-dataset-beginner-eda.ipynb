{
 "cells": [
  {
   "cell_type": "markdown",
   "id": "60ffb999",
   "metadata": {
    "papermill": {
     "duration": 0.140531,
     "end_time": "2022-03-22T08:26:15.407610",
     "exception": false,
     "start_time": "2022-03-22T08:26:15.267079",
     "status": "completed"
    },
    "tags": []
   },
   "source": [
    "# 120 years of Summer Olympics Dataset | Beginner EDA"
   ]
  },
  {
   "cell_type": "markdown",
   "id": "daabc495",
   "metadata": {
    "papermill": {
     "duration": 0.14156,
     "end_time": "2022-03-22T08:26:15.696369",
     "exception": false,
     "start_time": "2022-03-22T08:26:15.554809",
     "status": "completed"
    },
    "tags": []
   },
   "source": [
    "## Some information about the Dataset"
   ]
  },
  {
   "cell_type": "markdown",
   "id": "4a57a377",
   "metadata": {
    "papermill": {
     "duration": 0.1421,
     "end_time": "2022-03-22T08:26:15.989408",
     "exception": false,
     "start_time": "2022-03-22T08:26:15.847308",
     "status": "completed"
    },
    "tags": []
   },
   "source": [
    "This is a [dataset](https://www.kaggle.com/heesoo37/120-years-of-olympic-history-athletes-and-results) containing records of the modern olympics, spanning from 1896, Athens Olympics to 2016, Rio Olympics. The dataset contains **271116 instances and 15 attributes** .\n",
    "\n",
    "Each row corresponds to an individual athlete competing in an Event of a respective sport. Some of the attributes are as follows:\n",
    "\n",
    "1. ID- Unique Athlete ID\n",
    "2. Name - Athlete's Name\n",
    "3. Sex - M or F\n",
    "4. Age - Integer\n",
    "5. Height - In centimeters\n",
    "6. Weight - In kilograms\n",
    "7. Team - Team name\n",
    "8. Medal- Gold, Silver, Bronze\n"
   ]
  },
  {
   "cell_type": "markdown",
   "id": "58b71aa0",
   "metadata": {
    "papermill": {
     "duration": 0.140504,
     "end_time": "2022-03-22T08:26:16.272783",
     "exception": false,
     "start_time": "2022-03-22T08:26:16.132279",
     "status": "completed"
    },
    "tags": []
   },
   "source": [
    "## Credit and References"
   ]
  },
  {
   "cell_type": "markdown",
   "id": "641eb822",
   "metadata": {
    "papermill": {
     "duration": 0.142873,
     "end_time": "2022-03-22T08:26:16.556079",
     "exception": false,
     "start_time": "2022-03-22T08:26:16.413206",
     "status": "completed"
    },
    "tags": []
   },
   "source": [
    "* https://www.kaggle.com/vishnuarun22/summer-olympics-dataset-beginner-eda/notebook (Notebook)\n",
    "\n",
    "\n",
    "* https://www.kaggle.com/marcogdepinto/let-s-discover-more-about-the-olympic-game (Notebook)\n",
    "\n",
    "\n",
    "* https://www.youtube.com/watch?v=kLDTbavcmd0&t=5315s&ab_channel=Jovian (YouTube)\n",
    "\n"
   ]
  },
  {
   "cell_type": "markdown",
   "id": "13e2946f",
   "metadata": {
    "papermill": {
     "duration": 0.141769,
     "end_time": "2022-03-22T08:26:16.838702",
     "exception": false,
     "start_time": "2022-03-22T08:26:16.696933",
     "status": "completed"
    },
    "tags": []
   },
   "source": [
    "## Import Modules"
   ]
  },
  {
   "cell_type": "code",
   "execution_count": 1,
   "id": "223dc662",
   "metadata": {
    "execution": {
     "iopub.execute_input": "2022-03-22T08:26:17.135603Z",
     "iopub.status.busy": "2022-03-22T08:26:17.134916Z",
     "iopub.status.idle": "2022-03-22T08:26:18.262827Z",
     "shell.execute_reply": "2022-03-22T08:26:18.262110Z",
     "shell.execute_reply.started": "2022-03-22T07:26:41.445059Z"
    },
    "papermill": {
     "duration": 1.282955,
     "end_time": "2022-03-22T08:26:18.263034",
     "exception": false,
     "start_time": "2022-03-22T08:26:16.980079",
     "status": "completed"
    },
    "tags": []
   },
   "outputs": [],
   "source": [
    "#Importing the libraries\n",
    "import pandas as pd\n",
    "import numpy as np\n",
    "import matplotlib.pyplot as plt\n",
    "import seaborn as sns\n",
    "%matplotlib inline"
   ]
  },
  {
   "cell_type": "markdown",
   "id": "17ddbccf",
   "metadata": {
    "papermill": {
     "duration": 0.138376,
     "end_time": "2022-03-22T08:26:18.543844",
     "exception": false,
     "start_time": "2022-03-22T08:26:18.405468",
     "status": "completed"
    },
    "tags": []
   },
   "source": [
    "## Data Importing"
   ]
  },
  {
   "cell_type": "code",
   "execution_count": 2,
   "id": "773f43ac",
   "metadata": {
    "execution": {
     "iopub.execute_input": "2022-03-22T08:26:18.827090Z",
     "iopub.status.busy": "2022-03-22T08:26:18.824331Z",
     "iopub.status.idle": "2022-03-22T08:26:20.144121Z",
     "shell.execute_reply": "2022-03-22T08:26:20.143486Z",
     "shell.execute_reply.started": "2022-03-22T07:26:42.587428Z"
    },
    "papermill": {
     "duration": 1.462078,
     "end_time": "2022-03-22T08:26:20.144284",
     "exception": false,
     "start_time": "2022-03-22T08:26:18.682206",
     "status": "completed"
    },
    "tags": []
   },
   "outputs": [],
   "source": [
    "#Reading the athletics data using pandas\n",
    "athletics_data = pd.read_csv('../input/120-years-of-olympic-history-athletes-and-results/athlete_events.csv')\n",
    "#Reading the National Olympic Committee(NOC) Data\n",
    "regions = pd.read_csv('../input/120-years-of-olympic-history-athletes-and-results/noc_regions.csv')"
   ]
  },
  {
   "cell_type": "markdown",
   "id": "53e1066d",
   "metadata": {
    "papermill": {
     "duration": 0.139267,
     "end_time": "2022-03-22T08:26:20.426153",
     "exception": false,
     "start_time": "2022-03-22T08:26:20.286886",
     "status": "completed"
    },
    "tags": []
   },
   "source": [
    "## Collecting information about the datasets "
   ]
  },
  {
   "cell_type": "markdown",
   "id": "ce8ebfa2",
   "metadata": {
    "papermill": {
     "duration": 0.138834,
     "end_time": "2022-03-22T08:26:20.704278",
     "exception": false,
     "start_time": "2022-03-22T08:26:20.565444",
     "status": "completed"
    },
    "tags": []
   },
   "source": [
    "We will read the first few lines and collect the statsitical information about the datasets."
   ]
  },
  {
   "cell_type": "code",
   "execution_count": 3,
   "id": "90a02a2a",
   "metadata": {
    "execution": {
     "iopub.execute_input": "2022-03-22T08:26:20.993113Z",
     "iopub.status.busy": "2022-03-22T08:26:20.992265Z",
     "iopub.status.idle": "2022-03-22T08:26:21.009849Z",
     "shell.execute_reply": "2022-03-22T08:26:21.010369Z",
     "shell.execute_reply.started": "2022-03-22T07:26:43.803386Z"
    },
    "papermill": {
     "duration": 0.168017,
     "end_time": "2022-03-22T08:26:21.010528",
     "exception": false,
     "start_time": "2022-03-22T08:26:20.842511",
     "status": "completed"
    },
    "tags": []
   },
   "outputs": [
    {
     "data": {
      "text/html": [
       "<div>\n",
       "<style scoped>\n",
       "    .dataframe tbody tr th:only-of-type {\n",
       "        vertical-align: middle;\n",
       "    }\n",
       "\n",
       "    .dataframe tbody tr th {\n",
       "        vertical-align: top;\n",
       "    }\n",
       "\n",
       "    .dataframe thead th {\n",
       "        text-align: right;\n",
       "    }\n",
       "</style>\n",
       "<table border=\"1\" class=\"dataframe\">\n",
       "  <thead>\n",
       "    <tr style=\"text-align: right;\">\n",
       "      <th></th>\n",
       "      <th>ID</th>\n",
       "      <th>Name</th>\n",
       "      <th>Sex</th>\n",
       "      <th>Age</th>\n",
       "      <th>Height</th>\n",
       "      <th>Weight</th>\n",
       "      <th>Team</th>\n",
       "      <th>NOC</th>\n",
       "      <th>Games</th>\n",
       "      <th>Year</th>\n",
       "      <th>Season</th>\n",
       "      <th>City</th>\n",
       "      <th>Sport</th>\n",
       "      <th>Event</th>\n",
       "      <th>Medal</th>\n",
       "    </tr>\n",
       "  </thead>\n",
       "  <tbody>\n",
       "    <tr>\n",
       "      <th>0</th>\n",
       "      <td>1</td>\n",
       "      <td>A Dijiang</td>\n",
       "      <td>M</td>\n",
       "      <td>24.0</td>\n",
       "      <td>180.0</td>\n",
       "      <td>80.0</td>\n",
       "      <td>China</td>\n",
       "      <td>CHN</td>\n",
       "      <td>1992 Summer</td>\n",
       "      <td>1992</td>\n",
       "      <td>Summer</td>\n",
       "      <td>Barcelona</td>\n",
       "      <td>Basketball</td>\n",
       "      <td>Basketball Men's Basketball</td>\n",
       "      <td>NaN</td>\n",
       "    </tr>\n",
       "    <tr>\n",
       "      <th>1</th>\n",
       "      <td>2</td>\n",
       "      <td>A Lamusi</td>\n",
       "      <td>M</td>\n",
       "      <td>23.0</td>\n",
       "      <td>170.0</td>\n",
       "      <td>60.0</td>\n",
       "      <td>China</td>\n",
       "      <td>CHN</td>\n",
       "      <td>2012 Summer</td>\n",
       "      <td>2012</td>\n",
       "      <td>Summer</td>\n",
       "      <td>London</td>\n",
       "      <td>Judo</td>\n",
       "      <td>Judo Men's Extra-Lightweight</td>\n",
       "      <td>NaN</td>\n",
       "    </tr>\n",
       "    <tr>\n",
       "      <th>2</th>\n",
       "      <td>3</td>\n",
       "      <td>Gunnar Nielsen Aaby</td>\n",
       "      <td>M</td>\n",
       "      <td>24.0</td>\n",
       "      <td>NaN</td>\n",
       "      <td>NaN</td>\n",
       "      <td>Denmark</td>\n",
       "      <td>DEN</td>\n",
       "      <td>1920 Summer</td>\n",
       "      <td>1920</td>\n",
       "      <td>Summer</td>\n",
       "      <td>Antwerpen</td>\n",
       "      <td>Football</td>\n",
       "      <td>Football Men's Football</td>\n",
       "      <td>NaN</td>\n",
       "    </tr>\n",
       "    <tr>\n",
       "      <th>3</th>\n",
       "      <td>4</td>\n",
       "      <td>Edgar Lindenau Aabye</td>\n",
       "      <td>M</td>\n",
       "      <td>34.0</td>\n",
       "      <td>NaN</td>\n",
       "      <td>NaN</td>\n",
       "      <td>Denmark/Sweden</td>\n",
       "      <td>DEN</td>\n",
       "      <td>1900 Summer</td>\n",
       "      <td>1900</td>\n",
       "      <td>Summer</td>\n",
       "      <td>Paris</td>\n",
       "      <td>Tug-Of-War</td>\n",
       "      <td>Tug-Of-War Men's Tug-Of-War</td>\n",
       "      <td>Gold</td>\n",
       "    </tr>\n",
       "    <tr>\n",
       "      <th>4</th>\n",
       "      <td>5</td>\n",
       "      <td>Christine Jacoba Aaftink</td>\n",
       "      <td>F</td>\n",
       "      <td>21.0</td>\n",
       "      <td>185.0</td>\n",
       "      <td>82.0</td>\n",
       "      <td>Netherlands</td>\n",
       "      <td>NED</td>\n",
       "      <td>1988 Winter</td>\n",
       "      <td>1988</td>\n",
       "      <td>Winter</td>\n",
       "      <td>Calgary</td>\n",
       "      <td>Speed Skating</td>\n",
       "      <td>Speed Skating Women's 500 metres</td>\n",
       "      <td>NaN</td>\n",
       "    </tr>\n",
       "  </tbody>\n",
       "</table>\n",
       "</div>"
      ],
      "text/plain": [
       "   ID                      Name Sex   Age  Height  Weight            Team  \\\n",
       "0   1                 A Dijiang   M  24.0   180.0    80.0           China   \n",
       "1   2                  A Lamusi   M  23.0   170.0    60.0           China   \n",
       "2   3       Gunnar Nielsen Aaby   M  24.0     NaN     NaN         Denmark   \n",
       "3   4      Edgar Lindenau Aabye   M  34.0     NaN     NaN  Denmark/Sweden   \n",
       "4   5  Christine Jacoba Aaftink   F  21.0   185.0    82.0     Netherlands   \n",
       "\n",
       "   NOC        Games  Year  Season       City          Sport  \\\n",
       "0  CHN  1992 Summer  1992  Summer  Barcelona     Basketball   \n",
       "1  CHN  2012 Summer  2012  Summer     London           Judo   \n",
       "2  DEN  1920 Summer  1920  Summer  Antwerpen       Football   \n",
       "3  DEN  1900 Summer  1900  Summer      Paris     Tug-Of-War   \n",
       "4  NED  1988 Winter  1988  Winter    Calgary  Speed Skating   \n",
       "\n",
       "                              Event Medal  \n",
       "0       Basketball Men's Basketball   NaN  \n",
       "1      Judo Men's Extra-Lightweight   NaN  \n",
       "2           Football Men's Football   NaN  \n",
       "3       Tug-Of-War Men's Tug-Of-War  Gold  \n",
       "4  Speed Skating Women's 500 metres   NaN  "
      ]
     },
     "execution_count": 3,
     "metadata": {},
     "output_type": "execute_result"
    }
   ],
   "source": [
    "athletics_data.head()"
   ]
  },
  {
   "cell_type": "code",
   "execution_count": 4,
   "id": "949187a1",
   "metadata": {
    "execution": {
     "iopub.execute_input": "2022-03-22T08:26:21.297288Z",
     "iopub.status.busy": "2022-03-22T08:26:21.296422Z",
     "iopub.status.idle": "2022-03-22T08:26:21.370147Z",
     "shell.execute_reply": "2022-03-22T08:26:21.369600Z",
     "shell.execute_reply.started": "2022-03-22T07:26:43.837744Z"
    },
    "papermill": {
     "duration": 0.218025,
     "end_time": "2022-03-22T08:26:21.370298",
     "exception": false,
     "start_time": "2022-03-22T08:26:21.152273",
     "status": "completed"
    },
    "tags": []
   },
   "outputs": [
    {
     "data": {
      "text/html": [
       "<div>\n",
       "<style scoped>\n",
       "    .dataframe tbody tr th:only-of-type {\n",
       "        vertical-align: middle;\n",
       "    }\n",
       "\n",
       "    .dataframe tbody tr th {\n",
       "        vertical-align: top;\n",
       "    }\n",
       "\n",
       "    .dataframe thead th {\n",
       "        text-align: right;\n",
       "    }\n",
       "</style>\n",
       "<table border=\"1\" class=\"dataframe\">\n",
       "  <thead>\n",
       "    <tr style=\"text-align: right;\">\n",
       "      <th></th>\n",
       "      <th>ID</th>\n",
       "      <th>Age</th>\n",
       "      <th>Height</th>\n",
       "      <th>Weight</th>\n",
       "      <th>Year</th>\n",
       "    </tr>\n",
       "  </thead>\n",
       "  <tbody>\n",
       "    <tr>\n",
       "      <th>count</th>\n",
       "      <td>271116.000000</td>\n",
       "      <td>261642.000000</td>\n",
       "      <td>210945.000000</td>\n",
       "      <td>208241.000000</td>\n",
       "      <td>271116.000000</td>\n",
       "    </tr>\n",
       "    <tr>\n",
       "      <th>mean</th>\n",
       "      <td>68248.954396</td>\n",
       "      <td>25.556898</td>\n",
       "      <td>175.338970</td>\n",
       "      <td>70.702393</td>\n",
       "      <td>1978.378480</td>\n",
       "    </tr>\n",
       "    <tr>\n",
       "      <th>std</th>\n",
       "      <td>39022.286345</td>\n",
       "      <td>6.393561</td>\n",
       "      <td>10.518462</td>\n",
       "      <td>14.348020</td>\n",
       "      <td>29.877632</td>\n",
       "    </tr>\n",
       "    <tr>\n",
       "      <th>min</th>\n",
       "      <td>1.000000</td>\n",
       "      <td>10.000000</td>\n",
       "      <td>127.000000</td>\n",
       "      <td>25.000000</td>\n",
       "      <td>1896.000000</td>\n",
       "    </tr>\n",
       "    <tr>\n",
       "      <th>25%</th>\n",
       "      <td>34643.000000</td>\n",
       "      <td>21.000000</td>\n",
       "      <td>168.000000</td>\n",
       "      <td>60.000000</td>\n",
       "      <td>1960.000000</td>\n",
       "    </tr>\n",
       "    <tr>\n",
       "      <th>50%</th>\n",
       "      <td>68205.000000</td>\n",
       "      <td>24.000000</td>\n",
       "      <td>175.000000</td>\n",
       "      <td>70.000000</td>\n",
       "      <td>1988.000000</td>\n",
       "    </tr>\n",
       "    <tr>\n",
       "      <th>75%</th>\n",
       "      <td>102097.250000</td>\n",
       "      <td>28.000000</td>\n",
       "      <td>183.000000</td>\n",
       "      <td>79.000000</td>\n",
       "      <td>2002.000000</td>\n",
       "    </tr>\n",
       "    <tr>\n",
       "      <th>max</th>\n",
       "      <td>135571.000000</td>\n",
       "      <td>97.000000</td>\n",
       "      <td>226.000000</td>\n",
       "      <td>214.000000</td>\n",
       "      <td>2016.000000</td>\n",
       "    </tr>\n",
       "  </tbody>\n",
       "</table>\n",
       "</div>"
      ],
      "text/plain": [
       "                  ID            Age         Height         Weight  \\\n",
       "count  271116.000000  261642.000000  210945.000000  208241.000000   \n",
       "mean    68248.954396      25.556898     175.338970      70.702393   \n",
       "std     39022.286345       6.393561      10.518462      14.348020   \n",
       "min         1.000000      10.000000     127.000000      25.000000   \n",
       "25%     34643.000000      21.000000     168.000000      60.000000   \n",
       "50%     68205.000000      24.000000     175.000000      70.000000   \n",
       "75%    102097.250000      28.000000     183.000000      79.000000   \n",
       "max    135571.000000      97.000000     226.000000     214.000000   \n",
       "\n",
       "                Year  \n",
       "count  271116.000000  \n",
       "mean     1978.378480  \n",
       "std        29.877632  \n",
       "min      1896.000000  \n",
       "25%      1960.000000  \n",
       "50%      1988.000000  \n",
       "75%      2002.000000  \n",
       "max      2016.000000  "
      ]
     },
     "execution_count": 4,
     "metadata": {},
     "output_type": "execute_result"
    }
   ],
   "source": [
    "athletics_data.describe()"
   ]
  },
  {
   "cell_type": "code",
   "execution_count": 5,
   "id": "a2ed0149",
   "metadata": {
    "execution": {
     "iopub.execute_input": "2022-03-22T08:26:21.659692Z",
     "iopub.status.busy": "2022-03-22T08:26:21.659036Z",
     "iopub.status.idle": "2022-03-22T08:26:21.765542Z",
     "shell.execute_reply": "2022-03-22T08:26:21.766079Z",
     "shell.execute_reply.started": "2022-03-22T07:26:43.929552Z"
    },
    "papermill": {
     "duration": 0.253718,
     "end_time": "2022-03-22T08:26:21.766276",
     "exception": false,
     "start_time": "2022-03-22T08:26:21.512558",
     "status": "completed"
    },
    "tags": []
   },
   "outputs": [
    {
     "name": "stdout",
     "output_type": "stream",
     "text": [
      "<class 'pandas.core.frame.DataFrame'>\n",
      "RangeIndex: 271116 entries, 0 to 271115\n",
      "Data columns (total 15 columns):\n",
      " #   Column  Non-Null Count   Dtype  \n",
      "---  ------  --------------   -----  \n",
      " 0   ID      271116 non-null  int64  \n",
      " 1   Name    271116 non-null  object \n",
      " 2   Sex     271116 non-null  object \n",
      " 3   Age     261642 non-null  float64\n",
      " 4   Height  210945 non-null  float64\n",
      " 5   Weight  208241 non-null  float64\n",
      " 6   Team    271116 non-null  object \n",
      " 7   NOC     271116 non-null  object \n",
      " 8   Games   271116 non-null  object \n",
      " 9   Year    271116 non-null  int64  \n",
      " 10  Season  271116 non-null  object \n",
      " 11  City    271116 non-null  object \n",
      " 12  Sport   271116 non-null  object \n",
      " 13  Event   271116 non-null  object \n",
      " 14  Medal   39783 non-null   object \n",
      "dtypes: float64(3), int64(2), object(10)\n",
      "memory usage: 31.0+ MB\n"
     ]
    }
   ],
   "source": [
    "athletics_data.info()"
   ]
  },
  {
   "cell_type": "code",
   "execution_count": 6,
   "id": "29766578",
   "metadata": {
    "execution": {
     "iopub.execute_input": "2022-03-22T08:26:22.061202Z",
     "iopub.status.busy": "2022-03-22T08:26:22.060452Z",
     "iopub.status.idle": "2022-03-22T08:26:22.064930Z",
     "shell.execute_reply": "2022-03-22T08:26:22.064310Z",
     "shell.execute_reply.started": "2022-03-22T07:26:44.228513Z"
    },
    "papermill": {
     "duration": 0.155562,
     "end_time": "2022-03-22T08:26:22.065076",
     "exception": false,
     "start_time": "2022-03-22T08:26:21.909514",
     "status": "completed"
    },
    "tags": []
   },
   "outputs": [
    {
     "data": {
      "text/html": [
       "<div>\n",
       "<style scoped>\n",
       "    .dataframe tbody tr th:only-of-type {\n",
       "        vertical-align: middle;\n",
       "    }\n",
       "\n",
       "    .dataframe tbody tr th {\n",
       "        vertical-align: top;\n",
       "    }\n",
       "\n",
       "    .dataframe thead th {\n",
       "        text-align: right;\n",
       "    }\n",
       "</style>\n",
       "<table border=\"1\" class=\"dataframe\">\n",
       "  <thead>\n",
       "    <tr style=\"text-align: right;\">\n",
       "      <th></th>\n",
       "      <th>NOC</th>\n",
       "      <th>region</th>\n",
       "      <th>notes</th>\n",
       "    </tr>\n",
       "  </thead>\n",
       "  <tbody>\n",
       "    <tr>\n",
       "      <th>0</th>\n",
       "      <td>AFG</td>\n",
       "      <td>Afghanistan</td>\n",
       "      <td>NaN</td>\n",
       "    </tr>\n",
       "    <tr>\n",
       "      <th>1</th>\n",
       "      <td>AHO</td>\n",
       "      <td>Curacao</td>\n",
       "      <td>Netherlands Antilles</td>\n",
       "    </tr>\n",
       "    <tr>\n",
       "      <th>2</th>\n",
       "      <td>ALB</td>\n",
       "      <td>Albania</td>\n",
       "      <td>NaN</td>\n",
       "    </tr>\n",
       "    <tr>\n",
       "      <th>3</th>\n",
       "      <td>ALG</td>\n",
       "      <td>Algeria</td>\n",
       "      <td>NaN</td>\n",
       "    </tr>\n",
       "    <tr>\n",
       "      <th>4</th>\n",
       "      <td>AND</td>\n",
       "      <td>Andorra</td>\n",
       "      <td>NaN</td>\n",
       "    </tr>\n",
       "  </tbody>\n",
       "</table>\n",
       "</div>"
      ],
      "text/plain": [
       "   NOC       region                 notes\n",
       "0  AFG  Afghanistan                   NaN\n",
       "1  AHO      Curacao  Netherlands Antilles\n",
       "2  ALB      Albania                   NaN\n",
       "3  ALG      Algeria                   NaN\n",
       "4  AND      Andorra                   NaN"
      ]
     },
     "execution_count": 6,
     "metadata": {},
     "output_type": "execute_result"
    }
   ],
   "source": [
    "regions.head()"
   ]
  },
  {
   "cell_type": "markdown",
   "id": "f34dc13d",
   "metadata": {
    "papermill": {
     "duration": 0.144155,
     "end_time": "2022-03-22T08:26:22.351104",
     "exception": false,
     "start_time": "2022-03-22T08:26:22.206949",
     "status": "completed"
    },
    "tags": []
   },
   "source": [
    "**Note:** I am not going to use the region dataset in the further analysis as I am not using the region attribute of this dataset."
   ]
  },
  {
   "cell_type": "markdown",
   "id": "bf89d5ee",
   "metadata": {
    "papermill": {
     "duration": 0.14506,
     "end_time": "2022-03-22T08:26:22.643539",
     "exception": false,
     "start_time": "2022-03-22T08:26:22.498479",
     "status": "completed"
    },
    "tags": []
   },
   "source": [
    "## Data Preparation and Cleaning"
   ]
  },
  {
   "cell_type": "markdown",
   "id": "4d66f70e",
   "metadata": {
    "papermill": {
     "duration": 0.143797,
     "end_time": "2022-03-22T08:26:22.930997",
     "exception": false,
     "start_time": "2022-03-22T08:26:22.787200",
     "status": "completed"
    },
    "tags": []
   },
   "source": [
    "The sole purpose of this analysis is analysing the Summer Olympics dataset. We will separate the summer and winter olympics and will only analyse the summer olympics data."
   ]
  },
  {
   "cell_type": "code",
   "execution_count": 7,
   "id": "68e92303",
   "metadata": {
    "execution": {
     "iopub.execute_input": "2022-03-22T08:26:23.263521Z",
     "iopub.status.busy": "2022-03-22T08:26:23.262887Z",
     "iopub.status.idle": "2022-03-22T08:26:23.298998Z",
     "shell.execute_reply": "2022-03-22T08:26:23.298317Z",
     "shell.execute_reply.started": "2022-03-22T07:26:44.244088Z"
    },
    "papermill": {
     "duration": 0.22314,
     "end_time": "2022-03-22T08:26:23.299144",
     "exception": false,
     "start_time": "2022-03-22T08:26:23.076004",
     "status": "completed"
    },
    "tags": []
   },
   "outputs": [],
   "source": [
    "df1_summer = athletics_data[athletics_data['Season'] == 'Summer']"
   ]
  },
  {
   "cell_type": "code",
   "execution_count": 8,
   "id": "068852dd",
   "metadata": {
    "execution": {
     "iopub.execute_input": "2022-03-22T08:26:23.606656Z",
     "iopub.status.busy": "2022-03-22T08:26:23.605974Z",
     "iopub.status.idle": "2022-03-22T08:26:23.609455Z",
     "shell.execute_reply": "2022-03-22T08:26:23.608840Z",
     "shell.execute_reply.started": "2022-03-22T07:26:44.330705Z"
    },
    "papermill": {
     "duration": 0.16738,
     "end_time": "2022-03-22T08:26:23.609588",
     "exception": false,
     "start_time": "2022-03-22T08:26:23.442208",
     "status": "completed"
    },
    "scrolled": true,
    "tags": []
   },
   "outputs": [
    {
     "data": {
      "text/html": [
       "<div>\n",
       "<style scoped>\n",
       "    .dataframe tbody tr th:only-of-type {\n",
       "        vertical-align: middle;\n",
       "    }\n",
       "\n",
       "    .dataframe tbody tr th {\n",
       "        vertical-align: top;\n",
       "    }\n",
       "\n",
       "    .dataframe thead th {\n",
       "        text-align: right;\n",
       "    }\n",
       "</style>\n",
       "<table border=\"1\" class=\"dataframe\">\n",
       "  <thead>\n",
       "    <tr style=\"text-align: right;\">\n",
       "      <th></th>\n",
       "      <th>ID</th>\n",
       "      <th>Name</th>\n",
       "      <th>Sex</th>\n",
       "      <th>Age</th>\n",
       "      <th>Height</th>\n",
       "      <th>Weight</th>\n",
       "      <th>Team</th>\n",
       "      <th>NOC</th>\n",
       "      <th>Games</th>\n",
       "      <th>Year</th>\n",
       "      <th>Season</th>\n",
       "      <th>City</th>\n",
       "      <th>Sport</th>\n",
       "      <th>Event</th>\n",
       "      <th>Medal</th>\n",
       "    </tr>\n",
       "  </thead>\n",
       "  <tbody>\n",
       "    <tr>\n",
       "      <th>0</th>\n",
       "      <td>1</td>\n",
       "      <td>A Dijiang</td>\n",
       "      <td>M</td>\n",
       "      <td>24.0</td>\n",
       "      <td>180.0</td>\n",
       "      <td>80.0</td>\n",
       "      <td>China</td>\n",
       "      <td>CHN</td>\n",
       "      <td>1992 Summer</td>\n",
       "      <td>1992</td>\n",
       "      <td>Summer</td>\n",
       "      <td>Barcelona</td>\n",
       "      <td>Basketball</td>\n",
       "      <td>Basketball Men's Basketball</td>\n",
       "      <td>NaN</td>\n",
       "    </tr>\n",
       "    <tr>\n",
       "      <th>1</th>\n",
       "      <td>2</td>\n",
       "      <td>A Lamusi</td>\n",
       "      <td>M</td>\n",
       "      <td>23.0</td>\n",
       "      <td>170.0</td>\n",
       "      <td>60.0</td>\n",
       "      <td>China</td>\n",
       "      <td>CHN</td>\n",
       "      <td>2012 Summer</td>\n",
       "      <td>2012</td>\n",
       "      <td>Summer</td>\n",
       "      <td>London</td>\n",
       "      <td>Judo</td>\n",
       "      <td>Judo Men's Extra-Lightweight</td>\n",
       "      <td>NaN</td>\n",
       "    </tr>\n",
       "    <tr>\n",
       "      <th>2</th>\n",
       "      <td>3</td>\n",
       "      <td>Gunnar Nielsen Aaby</td>\n",
       "      <td>M</td>\n",
       "      <td>24.0</td>\n",
       "      <td>NaN</td>\n",
       "      <td>NaN</td>\n",
       "      <td>Denmark</td>\n",
       "      <td>DEN</td>\n",
       "      <td>1920 Summer</td>\n",
       "      <td>1920</td>\n",
       "      <td>Summer</td>\n",
       "      <td>Antwerpen</td>\n",
       "      <td>Football</td>\n",
       "      <td>Football Men's Football</td>\n",
       "      <td>NaN</td>\n",
       "    </tr>\n",
       "    <tr>\n",
       "      <th>3</th>\n",
       "      <td>4</td>\n",
       "      <td>Edgar Lindenau Aabye</td>\n",
       "      <td>M</td>\n",
       "      <td>34.0</td>\n",
       "      <td>NaN</td>\n",
       "      <td>NaN</td>\n",
       "      <td>Denmark/Sweden</td>\n",
       "      <td>DEN</td>\n",
       "      <td>1900 Summer</td>\n",
       "      <td>1900</td>\n",
       "      <td>Summer</td>\n",
       "      <td>Paris</td>\n",
       "      <td>Tug-Of-War</td>\n",
       "      <td>Tug-Of-War Men's Tug-Of-War</td>\n",
       "      <td>Gold</td>\n",
       "    </tr>\n",
       "    <tr>\n",
       "      <th>26</th>\n",
       "      <td>8</td>\n",
       "      <td>Cornelia \"Cor\" Aalten (-Strannood)</td>\n",
       "      <td>F</td>\n",
       "      <td>18.0</td>\n",
       "      <td>168.0</td>\n",
       "      <td>NaN</td>\n",
       "      <td>Netherlands</td>\n",
       "      <td>NED</td>\n",
       "      <td>1932 Summer</td>\n",
       "      <td>1932</td>\n",
       "      <td>Summer</td>\n",
       "      <td>Los Angeles</td>\n",
       "      <td>Athletics</td>\n",
       "      <td>Athletics Women's 100 metres</td>\n",
       "      <td>NaN</td>\n",
       "    </tr>\n",
       "  </tbody>\n",
       "</table>\n",
       "</div>"
      ],
      "text/plain": [
       "    ID                                Name Sex   Age  Height  Weight  \\\n",
       "0    1                           A Dijiang   M  24.0   180.0    80.0   \n",
       "1    2                            A Lamusi   M  23.0   170.0    60.0   \n",
       "2    3                 Gunnar Nielsen Aaby   M  24.0     NaN     NaN   \n",
       "3    4                Edgar Lindenau Aabye   M  34.0     NaN     NaN   \n",
       "26   8  Cornelia \"Cor\" Aalten (-Strannood)   F  18.0   168.0     NaN   \n",
       "\n",
       "              Team  NOC        Games  Year  Season         City       Sport  \\\n",
       "0            China  CHN  1992 Summer  1992  Summer    Barcelona  Basketball   \n",
       "1            China  CHN  2012 Summer  2012  Summer       London        Judo   \n",
       "2          Denmark  DEN  1920 Summer  1920  Summer    Antwerpen    Football   \n",
       "3   Denmark/Sweden  DEN  1900 Summer  1900  Summer        Paris  Tug-Of-War   \n",
       "26     Netherlands  NED  1932 Summer  1932  Summer  Los Angeles   Athletics   \n",
       "\n",
       "                           Event Medal  \n",
       "0    Basketball Men's Basketball   NaN  \n",
       "1   Judo Men's Extra-Lightweight   NaN  \n",
       "2        Football Men's Football   NaN  \n",
       "3    Tug-Of-War Men's Tug-Of-War  Gold  \n",
       "26  Athletics Women's 100 metres   NaN  "
      ]
     },
     "execution_count": 8,
     "metadata": {},
     "output_type": "execute_result"
    }
   ],
   "source": [
    "df1_summer.head()"
   ]
  },
  {
   "cell_type": "code",
   "execution_count": 9,
   "id": "ee4ad7a3",
   "metadata": {
    "execution": {
     "iopub.execute_input": "2022-03-22T08:26:23.909093Z",
     "iopub.status.busy": "2022-03-22T08:26:23.907713Z",
     "iopub.status.idle": "2022-03-22T08:26:23.958020Z",
     "shell.execute_reply": "2022-03-22T08:26:23.957373Z",
     "shell.execute_reply.started": "2022-03-22T07:26:44.355953Z"
    },
    "papermill": {
     "duration": 0.203253,
     "end_time": "2022-03-22T08:26:23.958152",
     "exception": false,
     "start_time": "2022-03-22T08:26:23.754899",
     "status": "completed"
    },
    "tags": []
   },
   "outputs": [
    {
     "data": {
      "text/html": [
       "<div>\n",
       "<style scoped>\n",
       "    .dataframe tbody tr th:only-of-type {\n",
       "        vertical-align: middle;\n",
       "    }\n",
       "\n",
       "    .dataframe tbody tr th {\n",
       "        vertical-align: top;\n",
       "    }\n",
       "\n",
       "    .dataframe thead th {\n",
       "        text-align: right;\n",
       "    }\n",
       "</style>\n",
       "<table border=\"1\" class=\"dataframe\">\n",
       "  <thead>\n",
       "    <tr style=\"text-align: right;\">\n",
       "      <th></th>\n",
       "      <th>ID</th>\n",
       "      <th>Age</th>\n",
       "      <th>Height</th>\n",
       "      <th>Weight</th>\n",
       "      <th>Year</th>\n",
       "    </tr>\n",
       "  </thead>\n",
       "  <tbody>\n",
       "    <tr>\n",
       "      <th>count</th>\n",
       "      <td>222552.000000</td>\n",
       "      <td>213363.000000</td>\n",
       "      <td>170695.000000</td>\n",
       "      <td>168698.00000</td>\n",
       "      <td>222552.000000</td>\n",
       "    </tr>\n",
       "    <tr>\n",
       "      <th>mean</th>\n",
       "      <td>67998.925712</td>\n",
       "      <td>25.674053</td>\n",
       "      <td>175.515551</td>\n",
       "      <td>70.68906</td>\n",
       "      <td>1976.317094</td>\n",
       "    </tr>\n",
       "    <tr>\n",
       "      <th>std</th>\n",
       "      <td>39139.038228</td>\n",
       "      <td>6.699839</td>\n",
       "      <td>10.914725</td>\n",
       "      <td>14.80394</td>\n",
       "      <td>30.942802</td>\n",
       "    </tr>\n",
       "    <tr>\n",
       "      <th>min</th>\n",
       "      <td>1.000000</td>\n",
       "      <td>10.000000</td>\n",
       "      <td>127.000000</td>\n",
       "      <td>25.00000</td>\n",
       "      <td>1896.000000</td>\n",
       "    </tr>\n",
       "    <tr>\n",
       "      <th>25%</th>\n",
       "      <td>34000.750000</td>\n",
       "      <td>21.000000</td>\n",
       "      <td>168.000000</td>\n",
       "      <td>60.00000</td>\n",
       "      <td>1956.000000</td>\n",
       "    </tr>\n",
       "    <tr>\n",
       "      <th>50%</th>\n",
       "      <td>68302.500000</td>\n",
       "      <td>24.000000</td>\n",
       "      <td>175.000000</td>\n",
       "      <td>70.00000</td>\n",
       "      <td>1984.000000</td>\n",
       "    </tr>\n",
       "    <tr>\n",
       "      <th>75%</th>\n",
       "      <td>101881.000000</td>\n",
       "      <td>28.000000</td>\n",
       "      <td>183.000000</td>\n",
       "      <td>79.00000</td>\n",
       "      <td>2000.000000</td>\n",
       "    </tr>\n",
       "    <tr>\n",
       "      <th>max</th>\n",
       "      <td>135568.000000</td>\n",
       "      <td>97.000000</td>\n",
       "      <td>226.000000</td>\n",
       "      <td>214.00000</td>\n",
       "      <td>2016.000000</td>\n",
       "    </tr>\n",
       "  </tbody>\n",
       "</table>\n",
       "</div>"
      ],
      "text/plain": [
       "                  ID            Age         Height        Weight  \\\n",
       "count  222552.000000  213363.000000  170695.000000  168698.00000   \n",
       "mean    67998.925712      25.674053     175.515551      70.68906   \n",
       "std     39139.038228       6.699839      10.914725      14.80394   \n",
       "min         1.000000      10.000000     127.000000      25.00000   \n",
       "25%     34000.750000      21.000000     168.000000      60.00000   \n",
       "50%     68302.500000      24.000000     175.000000      70.00000   \n",
       "75%    101881.000000      28.000000     183.000000      79.00000   \n",
       "max    135568.000000      97.000000     226.000000     214.00000   \n",
       "\n",
       "                Year  \n",
       "count  222552.000000  \n",
       "mean     1976.317094  \n",
       "std        30.942802  \n",
       "min      1896.000000  \n",
       "25%      1956.000000  \n",
       "50%      1984.000000  \n",
       "75%      2000.000000  \n",
       "max      2016.000000  "
      ]
     },
     "execution_count": 9,
     "metadata": {},
     "output_type": "execute_result"
    }
   ],
   "source": [
    "df1_summer.describe()"
   ]
  },
  {
   "cell_type": "markdown",
   "id": "ab419567",
   "metadata": {
    "papermill": {
     "duration": 0.144935,
     "end_time": "2022-03-22T08:26:24.247034",
     "exception": false,
     "start_time": "2022-03-22T08:26:24.102099",
     "status": "completed"
    },
    "tags": []
   },
   "source": [
    "Few points we can understand by applying describe() method on our dataset.\n",
    "\n",
    "1. We can see there is a person with a minimum age of 10 years. Which is very interesting, let's confirm this.\n",
    "\n",
    "2. There are a few missing values in the columns Height, Weight and Age."
   ]
  },
  {
   "cell_type": "code",
   "execution_count": 10,
   "id": "93423469",
   "metadata": {
    "execution": {
     "iopub.execute_input": "2022-03-22T08:26:24.552541Z",
     "iopub.status.busy": "2022-03-22T08:26:24.551911Z",
     "iopub.status.idle": "2022-03-22T08:26:24.554562Z",
     "shell.execute_reply": "2022-03-22T08:26:24.555084Z",
     "shell.execute_reply.started": "2022-03-22T07:26:44.440624Z"
    },
    "papermill": {
     "duration": 0.163472,
     "end_time": "2022-03-22T08:26:24.555243",
     "exception": false,
     "start_time": "2022-03-22T08:26:24.391771",
     "status": "completed"
    },
    "scrolled": true,
    "tags": []
   },
   "outputs": [
    {
     "data": {
      "text/html": [
       "<div>\n",
       "<style scoped>\n",
       "    .dataframe tbody tr th:only-of-type {\n",
       "        vertical-align: middle;\n",
       "    }\n",
       "\n",
       "    .dataframe tbody tr th {\n",
       "        vertical-align: top;\n",
       "    }\n",
       "\n",
       "    .dataframe thead th {\n",
       "        text-align: right;\n",
       "    }\n",
       "</style>\n",
       "<table border=\"1\" class=\"dataframe\">\n",
       "  <thead>\n",
       "    <tr style=\"text-align: right;\">\n",
       "      <th></th>\n",
       "      <th>ID</th>\n",
       "      <th>Name</th>\n",
       "      <th>Sex</th>\n",
       "      <th>Age</th>\n",
       "      <th>Height</th>\n",
       "      <th>Weight</th>\n",
       "      <th>Team</th>\n",
       "      <th>NOC</th>\n",
       "      <th>Games</th>\n",
       "      <th>Year</th>\n",
       "      <th>Season</th>\n",
       "      <th>City</th>\n",
       "      <th>Sport</th>\n",
       "      <th>Event</th>\n",
       "      <th>Medal</th>\n",
       "    </tr>\n",
       "  </thead>\n",
       "  <tbody>\n",
       "    <tr>\n",
       "      <th>142882</th>\n",
       "      <td>71691</td>\n",
       "      <td>Dimitrios Loundras</td>\n",
       "      <td>M</td>\n",
       "      <td>10.0</td>\n",
       "      <td>NaN</td>\n",
       "      <td>NaN</td>\n",
       "      <td>Ethnikos Gymnastikos Syllogos</td>\n",
       "      <td>GRE</td>\n",
       "      <td>1896 Summer</td>\n",
       "      <td>1896</td>\n",
       "      <td>Summer</td>\n",
       "      <td>Athina</td>\n",
       "      <td>Gymnastics</td>\n",
       "      <td>Gymnastics Men's Parallel Bars, Teams</td>\n",
       "      <td>Bronze</td>\n",
       "    </tr>\n",
       "  </tbody>\n",
       "</table>\n",
       "</div>"
      ],
      "text/plain": [
       "           ID                Name Sex   Age  Height  Weight  \\\n",
       "142882  71691  Dimitrios Loundras   M  10.0     NaN     NaN   \n",
       "\n",
       "                                 Team  NOC        Games  Year  Season    City  \\\n",
       "142882  Ethnikos Gymnastikos Syllogos  GRE  1896 Summer  1896  Summer  Athina   \n",
       "\n",
       "             Sport                                  Event   Medal  \n",
       "142882  Gymnastics  Gymnastics Men's Parallel Bars, Teams  Bronze  "
      ]
     },
     "execution_count": 10,
     "metadata": {},
     "output_type": "execute_result"
    }
   ],
   "source": [
    "df1_summer[df1_summer['Age'] == 10]"
   ]
  },
  {
   "cell_type": "markdown",
   "id": "74904df5",
   "metadata": {
    "papermill": {
     "duration": 0.145789,
     "end_time": "2022-03-22T08:26:24.845483",
     "exception": false,
     "start_time": "2022-03-22T08:26:24.699694",
     "status": "completed"
    },
    "tags": []
   },
   "source": [
    "After googling I confirmed that Dimitrios Loundras existed and he was a Greek gymnast who competed at the 1896 Summer Olympics in Athens and he also won a Bronze medal."
   ]
  },
  {
   "cell_type": "markdown",
   "id": "c9ab44c7",
   "metadata": {
    "papermill": {
     "duration": 0.094077,
     "end_time": "2022-03-22T08:26:25.064116",
     "exception": false,
     "start_time": "2022-03-22T08:26:24.970039",
     "status": "completed"
    },
    "tags": []
   },
   "source": [
    "Now let's see which other columns have the missing values except Height, Weight and Age. \n",
    "\n",
    "We will use isna() method to find the missing values."
   ]
  },
  {
   "cell_type": "code",
   "execution_count": 11,
   "id": "ebd696b1",
   "metadata": {
    "execution": {
     "iopub.execute_input": "2022-03-22T08:26:25.254500Z",
     "iopub.status.busy": "2022-03-22T08:26:25.253990Z",
     "iopub.status.idle": "2022-03-22T08:26:25.491529Z",
     "shell.execute_reply": "2022-03-22T08:26:25.491925Z",
     "shell.execute_reply.started": "2022-03-22T07:26:44.462177Z"
    },
    "papermill": {
     "duration": 0.334028,
     "end_time": "2022-03-22T08:26:25.492068",
     "exception": false,
     "start_time": "2022-03-22T08:26:25.158040",
     "status": "completed"
    },
    "tags": []
   },
   "outputs": [
    {
     "data": {
      "text/html": [
       "<div>\n",
       "<style scoped>\n",
       "    .dataframe tbody tr th:only-of-type {\n",
       "        vertical-align: middle;\n",
       "    }\n",
       "\n",
       "    .dataframe tbody tr th {\n",
       "        vertical-align: top;\n",
       "    }\n",
       "\n",
       "    .dataframe thead th {\n",
       "        text-align: right;\n",
       "    }\n",
       "</style>\n",
       "<table border=\"1\" class=\"dataframe\">\n",
       "  <thead>\n",
       "    <tr style=\"text-align: right;\">\n",
       "      <th></th>\n",
       "      <th>ID</th>\n",
       "      <th>Name</th>\n",
       "      <th>Sex</th>\n",
       "      <th>Age</th>\n",
       "      <th>Height</th>\n",
       "      <th>Weight</th>\n",
       "      <th>Team</th>\n",
       "      <th>NOC</th>\n",
       "      <th>Games</th>\n",
       "      <th>Year</th>\n",
       "      <th>Season</th>\n",
       "      <th>City</th>\n",
       "      <th>Sport</th>\n",
       "      <th>Event</th>\n",
       "      <th>Medal</th>\n",
       "    </tr>\n",
       "  </thead>\n",
       "  <tbody>\n",
       "    <tr>\n",
       "      <th>0</th>\n",
       "      <td>False</td>\n",
       "      <td>False</td>\n",
       "      <td>False</td>\n",
       "      <td>False</td>\n",
       "      <td>False</td>\n",
       "      <td>False</td>\n",
       "      <td>False</td>\n",
       "      <td>False</td>\n",
       "      <td>False</td>\n",
       "      <td>False</td>\n",
       "      <td>False</td>\n",
       "      <td>False</td>\n",
       "      <td>False</td>\n",
       "      <td>False</td>\n",
       "      <td>True</td>\n",
       "    </tr>\n",
       "    <tr>\n",
       "      <th>1</th>\n",
       "      <td>False</td>\n",
       "      <td>False</td>\n",
       "      <td>False</td>\n",
       "      <td>False</td>\n",
       "      <td>False</td>\n",
       "      <td>False</td>\n",
       "      <td>False</td>\n",
       "      <td>False</td>\n",
       "      <td>False</td>\n",
       "      <td>False</td>\n",
       "      <td>False</td>\n",
       "      <td>False</td>\n",
       "      <td>False</td>\n",
       "      <td>False</td>\n",
       "      <td>True</td>\n",
       "    </tr>\n",
       "    <tr>\n",
       "      <th>2</th>\n",
       "      <td>False</td>\n",
       "      <td>False</td>\n",
       "      <td>False</td>\n",
       "      <td>False</td>\n",
       "      <td>True</td>\n",
       "      <td>True</td>\n",
       "      <td>False</td>\n",
       "      <td>False</td>\n",
       "      <td>False</td>\n",
       "      <td>False</td>\n",
       "      <td>False</td>\n",
       "      <td>False</td>\n",
       "      <td>False</td>\n",
       "      <td>False</td>\n",
       "      <td>True</td>\n",
       "    </tr>\n",
       "    <tr>\n",
       "      <th>3</th>\n",
       "      <td>False</td>\n",
       "      <td>False</td>\n",
       "      <td>False</td>\n",
       "      <td>False</td>\n",
       "      <td>True</td>\n",
       "      <td>True</td>\n",
       "      <td>False</td>\n",
       "      <td>False</td>\n",
       "      <td>False</td>\n",
       "      <td>False</td>\n",
       "      <td>False</td>\n",
       "      <td>False</td>\n",
       "      <td>False</td>\n",
       "      <td>False</td>\n",
       "      <td>False</td>\n",
       "    </tr>\n",
       "    <tr>\n",
       "      <th>26</th>\n",
       "      <td>False</td>\n",
       "      <td>False</td>\n",
       "      <td>False</td>\n",
       "      <td>False</td>\n",
       "      <td>False</td>\n",
       "      <td>True</td>\n",
       "      <td>False</td>\n",
       "      <td>False</td>\n",
       "      <td>False</td>\n",
       "      <td>False</td>\n",
       "      <td>False</td>\n",
       "      <td>False</td>\n",
       "      <td>False</td>\n",
       "      <td>False</td>\n",
       "      <td>True</td>\n",
       "    </tr>\n",
       "    <tr>\n",
       "      <th>...</th>\n",
       "      <td>...</td>\n",
       "      <td>...</td>\n",
       "      <td>...</td>\n",
       "      <td>...</td>\n",
       "      <td>...</td>\n",
       "      <td>...</td>\n",
       "      <td>...</td>\n",
       "      <td>...</td>\n",
       "      <td>...</td>\n",
       "      <td>...</td>\n",
       "      <td>...</td>\n",
       "      <td>...</td>\n",
       "      <td>...</td>\n",
       "      <td>...</td>\n",
       "      <td>...</td>\n",
       "    </tr>\n",
       "    <tr>\n",
       "      <th>271106</th>\n",
       "      <td>False</td>\n",
       "      <td>False</td>\n",
       "      <td>False</td>\n",
       "      <td>False</td>\n",
       "      <td>False</td>\n",
       "      <td>False</td>\n",
       "      <td>False</td>\n",
       "      <td>False</td>\n",
       "      <td>False</td>\n",
       "      <td>False</td>\n",
       "      <td>False</td>\n",
       "      <td>False</td>\n",
       "      <td>False</td>\n",
       "      <td>False</td>\n",
       "      <td>True</td>\n",
       "    </tr>\n",
       "    <tr>\n",
       "      <th>271107</th>\n",
       "      <td>False</td>\n",
       "      <td>False</td>\n",
       "      <td>False</td>\n",
       "      <td>False</td>\n",
       "      <td>False</td>\n",
       "      <td>False</td>\n",
       "      <td>False</td>\n",
       "      <td>False</td>\n",
       "      <td>False</td>\n",
       "      <td>False</td>\n",
       "      <td>False</td>\n",
       "      <td>False</td>\n",
       "      <td>False</td>\n",
       "      <td>False</td>\n",
       "      <td>True</td>\n",
       "    </tr>\n",
       "    <tr>\n",
       "      <th>271108</th>\n",
       "      <td>False</td>\n",
       "      <td>False</td>\n",
       "      <td>False</td>\n",
       "      <td>False</td>\n",
       "      <td>False</td>\n",
       "      <td>False</td>\n",
       "      <td>False</td>\n",
       "      <td>False</td>\n",
       "      <td>False</td>\n",
       "      <td>False</td>\n",
       "      <td>False</td>\n",
       "      <td>False</td>\n",
       "      <td>False</td>\n",
       "      <td>False</td>\n",
       "      <td>True</td>\n",
       "    </tr>\n",
       "    <tr>\n",
       "      <th>271109</th>\n",
       "      <td>False</td>\n",
       "      <td>False</td>\n",
       "      <td>False</td>\n",
       "      <td>False</td>\n",
       "      <td>False</td>\n",
       "      <td>False</td>\n",
       "      <td>False</td>\n",
       "      <td>False</td>\n",
       "      <td>False</td>\n",
       "      <td>False</td>\n",
       "      <td>False</td>\n",
       "      <td>False</td>\n",
       "      <td>False</td>\n",
       "      <td>False</td>\n",
       "      <td>True</td>\n",
       "    </tr>\n",
       "    <tr>\n",
       "      <th>271110</th>\n",
       "      <td>False</td>\n",
       "      <td>False</td>\n",
       "      <td>False</td>\n",
       "      <td>False</td>\n",
       "      <td>False</td>\n",
       "      <td>False</td>\n",
       "      <td>False</td>\n",
       "      <td>False</td>\n",
       "      <td>False</td>\n",
       "      <td>False</td>\n",
       "      <td>False</td>\n",
       "      <td>False</td>\n",
       "      <td>False</td>\n",
       "      <td>False</td>\n",
       "      <td>True</td>\n",
       "    </tr>\n",
       "  </tbody>\n",
       "</table>\n",
       "<p>222552 rows × 15 columns</p>\n",
       "</div>"
      ],
      "text/plain": [
       "           ID   Name    Sex    Age  Height  Weight   Team    NOC  Games  \\\n",
       "0       False  False  False  False   False   False  False  False  False   \n",
       "1       False  False  False  False   False   False  False  False  False   \n",
       "2       False  False  False  False    True    True  False  False  False   \n",
       "3       False  False  False  False    True    True  False  False  False   \n",
       "26      False  False  False  False   False    True  False  False  False   \n",
       "...       ...    ...    ...    ...     ...     ...    ...    ...    ...   \n",
       "271106  False  False  False  False   False   False  False  False  False   \n",
       "271107  False  False  False  False   False   False  False  False  False   \n",
       "271108  False  False  False  False   False   False  False  False  False   \n",
       "271109  False  False  False  False   False   False  False  False  False   \n",
       "271110  False  False  False  False   False   False  False  False  False   \n",
       "\n",
       "         Year  Season   City  Sport  Event  Medal  \n",
       "0       False   False  False  False  False   True  \n",
       "1       False   False  False  False  False   True  \n",
       "2       False   False  False  False  False   True  \n",
       "3       False   False  False  False  False  False  \n",
       "26      False   False  False  False  False   True  \n",
       "...       ...     ...    ...    ...    ...    ...  \n",
       "271106  False   False  False  False  False   True  \n",
       "271107  False   False  False  False  False   True  \n",
       "271108  False   False  False  False  False   True  \n",
       "271109  False   False  False  False  False   True  \n",
       "271110  False   False  False  False  False   True  \n",
       "\n",
       "[222552 rows x 15 columns]"
      ]
     },
     "execution_count": 11,
     "metadata": {},
     "output_type": "execute_result"
    }
   ],
   "source": [
    "df1_summer.isna()"
   ]
  },
  {
   "cell_type": "markdown",
   "id": "06b8f300",
   "metadata": {
    "papermill": {
     "duration": 0.09517,
     "end_time": "2022-03-22T08:26:25.682188",
     "exception": false,
     "start_time": "2022-03-22T08:26:25.587018",
     "status": "completed"
    },
    "tags": []
   },
   "source": [
    "isna() method has returned the dataframe full of boolean values, as our data frame has 222552 rows, so its difficult to interpret the result completely. For that reason we can apply the sum() method to get the number of missing values in the respective columns."
   ]
  },
  {
   "cell_type": "code",
   "execution_count": 12,
   "id": "07fb5352",
   "metadata": {
    "execution": {
     "iopub.execute_input": "2022-03-22T08:26:25.878077Z",
     "iopub.status.busy": "2022-03-22T08:26:25.877390Z",
     "iopub.status.idle": "2022-03-22T08:26:26.113797Z",
     "shell.execute_reply": "2022-03-22T08:26:26.113334Z",
     "shell.execute_reply.started": "2022-03-22T07:26:44.715018Z"
    },
    "papermill": {
     "duration": 0.336372,
     "end_time": "2022-03-22T08:26:26.113921",
     "exception": false,
     "start_time": "2022-03-22T08:26:25.777549",
     "status": "completed"
    },
    "tags": []
   },
   "outputs": [
    {
     "data": {
      "text/plain": [
       "ID             0\n",
       "Name           0\n",
       "Sex            0\n",
       "Age         9189\n",
       "Height     51857\n",
       "Weight     53854\n",
       "Team           0\n",
       "NOC            0\n",
       "Games          0\n",
       "Year           0\n",
       "Season         0\n",
       "City           0\n",
       "Sport          0\n",
       "Event          0\n",
       "Medal     188464\n",
       "dtype: int64"
      ]
     },
     "execution_count": 12,
     "metadata": {},
     "output_type": "execute_result"
    }
   ],
   "source": [
    "df1_summer.isna().sum()"
   ]
  },
  {
   "cell_type": "markdown",
   "id": "7af33045",
   "metadata": {
    "papermill": {
     "duration": 0.096926,
     "end_time": "2022-03-22T08:26:26.309321",
     "exception": false,
     "start_time": "2022-03-22T08:26:26.212395",
     "status": "completed"
    },
    "tags": []
   },
   "source": [
    "Now we can see the columns Age, Weight, Height and Medal have the null values. Let's convert the result into percentage and plot the output."
   ]
  },
  {
   "cell_type": "code",
   "execution_count": 13,
   "id": "5ae9e52e",
   "metadata": {
    "execution": {
     "iopub.execute_input": "2022-03-22T08:26:26.504126Z",
     "iopub.status.busy": "2022-03-22T08:26:26.503547Z",
     "iopub.status.idle": "2022-03-22T08:26:26.730139Z",
     "shell.execute_reply": "2022-03-22T08:26:26.729413Z",
     "shell.execute_reply.started": "2022-03-22T07:26:44.954836Z"
    },
    "papermill": {
     "duration": 0.324987,
     "end_time": "2022-03-22T08:26:26.730290",
     "exception": false,
     "start_time": "2022-03-22T08:26:26.405303",
     "status": "completed"
    },
    "tags": []
   },
   "outputs": [
    {
     "data": {
      "text/plain": [
       "Medal     84.683130\n",
       "Weight    24.198390\n",
       "Height    23.301071\n",
       "Age        4.128923\n",
       "ID         0.000000\n",
       "Name       0.000000\n",
       "Sex        0.000000\n",
       "Team       0.000000\n",
       "NOC        0.000000\n",
       "Games      0.000000\n",
       "Year       0.000000\n",
       "Season     0.000000\n",
       "City       0.000000\n",
       "Sport      0.000000\n",
       "Event      0.000000\n",
       "dtype: float64"
      ]
     },
     "execution_count": 13,
     "metadata": {},
     "output_type": "execute_result"
    }
   ],
   "source": [
    "missing_percentages = df1_summer.isna().sum().sort_values(ascending = False) * 100 /len(df1_summer)\n",
    "missing_percentages"
   ]
  },
  {
   "cell_type": "code",
   "execution_count": 14,
   "id": "db6a7703",
   "metadata": {
    "execution": {
     "iopub.execute_input": "2022-03-22T08:26:27.032789Z",
     "iopub.status.busy": "2022-03-22T08:26:27.032117Z",
     "iopub.status.idle": "2022-03-22T08:26:27.300175Z",
     "shell.execute_reply": "2022-03-22T08:26:27.298865Z",
     "shell.execute_reply.started": "2022-03-22T07:26:45.193946Z"
    },
    "papermill": {
     "duration": 0.422138,
     "end_time": "2022-03-22T08:26:27.300345",
     "exception": false,
     "start_time": "2022-03-22T08:26:26.878207",
     "status": "completed"
    },
    "tags": []
   },
   "outputs": [
    {
     "data": {
      "image/png": "[encoded data removed]",
      "text/plain": [
       "<Figure size 720x432 with 1 Axes>"
      ]
     },
     "metadata": {
      "needs_background": "light"
     },
     "output_type": "display_data"
    }
   ],
   "source": [
    "# Plot the missing values\n",
    "plt.figure(figsize = (10,6))\n",
    "plt.ylabel('Percentage')\n",
    "plt.title('Percentage of missing values')\n",
    "missing_percentages.plot(kind = 'bar')\n",
    "plt.tight_layout()\n",
    "plt.show()"
   ]
  },
  {
   "cell_type": "markdown",
   "id": "9459d363",
   "metadata": {
    "papermill": {
     "duration": 0.148304,
     "end_time": "2022-03-22T08:26:27.597358",
     "exception": false,
     "start_time": "2022-03-22T08:26:27.449054",
     "status": "completed"
    },
    "tags": []
   },
   "source": [
    "In any competition only 3 medals can be given Gold, Silver and Broze so that can a reason for more than 80% of the missing values in the Medal column. \n",
    "\n",
    "Now, let's fill the missing data with the appropriate values to proceed with our analysis."
   ]
  },
  {
   "cell_type": "code",
   "execution_count": 15,
   "id": "5159be7d",
   "metadata": {
    "execution": {
     "iopub.execute_input": "2022-03-22T08:26:27.918459Z",
     "iopub.status.busy": "2022-03-22T08:26:27.917796Z",
     "iopub.status.idle": "2022-03-22T08:26:27.932247Z",
     "shell.execute_reply": "2022-03-22T08:26:27.932911Z",
     "shell.execute_reply.started": "2022-03-22T07:26:45.582437Z"
    },
    "papermill": {
     "duration": 0.187126,
     "end_time": "2022-03-22T08:26:27.933112",
     "exception": false,
     "start_time": "2022-03-22T08:26:27.745986",
     "status": "completed"
    },
    "tags": []
   },
   "outputs": [
    {
     "name": "stderr",
     "output_type": "stream",
     "text": [
      "/opt/conda/lib/python3.7/site-packages/pandas/core/generic.py:6392: SettingWithCopyWarning: \n",
      "A value is trying to be set on a copy of a slice from a DataFrame\n",
      "\n",
      "See the caveats in the documentation: https://pandas.pydata.org/pandas-docs/stable/user_guide/indexing.html#returning-a-view-versus-a-copy\n",
      "  return self._update_inplace(result)\n"
     ]
    }
   ],
   "source": [
    "df1_summer['Medal'].fillna('Not Won', inplace = True) # Replacing missing values in Medal column by \"Not Won\""
   ]
  },
  {
   "cell_type": "code",
   "execution_count": 16,
   "id": "167842db",
   "metadata": {
    "execution": {
     "iopub.execute_input": "2022-03-22T08:26:28.236396Z",
     "iopub.status.busy": "2022-03-22T08:26:28.235463Z",
     "iopub.status.idle": "2022-03-22T08:26:28.241437Z",
     "shell.execute_reply": "2022-03-22T08:26:28.241972Z",
     "shell.execute_reply.started": "2022-03-22T07:26:45.615385Z"
    },
    "papermill": {
     "duration": 0.158182,
     "end_time": "2022-03-22T08:26:28.242128",
     "exception": false,
     "start_time": "2022-03-22T08:26:28.083946",
     "status": "completed"
    },
    "tags": []
   },
   "outputs": [],
   "source": [
    "df1_summer['Weight'].fillna(df1_summer['Weight'].mean(), inplace = True)# Replacing missing values in Weight Column by a mean weight"
   ]
  },
  {
   "cell_type": "code",
   "execution_count": 17,
   "id": "d9040bcf",
   "metadata": {
    "execution": {
     "iopub.execute_input": "2022-03-22T08:26:28.544635Z",
     "iopub.status.busy": "2022-03-22T08:26:28.542290Z",
     "iopub.status.idle": "2022-03-22T08:26:28.550255Z",
     "shell.execute_reply": "2022-03-22T08:26:28.549648Z",
     "shell.execute_reply.started": "2022-03-22T07:26:45.625098Z"
    },
    "papermill": {
     "duration": 0.159722,
     "end_time": "2022-03-22T08:26:28.550399",
     "exception": false,
     "start_time": "2022-03-22T08:26:28.390677",
     "status": "completed"
    },
    "tags": []
   },
   "outputs": [],
   "source": [
    "df1_summer['Height'].fillna(df1_summer['Height'].mean(), inplace = True)# Replacing missing values in Height Column by a mean height"
   ]
  },
  {
   "cell_type": "code",
   "execution_count": 18,
   "id": "5e03789b",
   "metadata": {
    "execution": {
     "iopub.execute_input": "2022-03-22T08:26:28.834383Z",
     "iopub.status.busy": "2022-03-22T08:26:28.833805Z",
     "iopub.status.idle": "2022-03-22T08:26:28.836955Z",
     "shell.execute_reply": "2022-03-22T08:26:28.837483Z",
     "shell.execute_reply.started": "2022-03-22T07:26:45.640326Z"
    },
    "papermill": {
     "duration": 0.146933,
     "end_time": "2022-03-22T08:26:28.837659",
     "exception": false,
     "start_time": "2022-03-22T08:26:28.690726",
     "status": "completed"
    },
    "tags": []
   },
   "outputs": [],
   "source": [
    "df1_summer['Age'].fillna(df1_summer['Age'].mean(), inplace = True)# Replacing missing values in Age Column by a mean Age"
   ]
  },
  {
   "cell_type": "code",
   "execution_count": 19,
   "id": "dff413bf",
   "metadata": {
    "execution": {
     "iopub.execute_input": "2022-03-22T08:26:29.139500Z",
     "iopub.status.busy": "2022-03-22T08:26:29.138837Z",
     "iopub.status.idle": "2022-03-22T08:26:29.367629Z",
     "shell.execute_reply": "2022-03-22T08:26:29.368160Z",
     "shell.execute_reply.started": "2022-03-22T07:26:45.652391Z"
    },
    "papermill": {
     "duration": 0.380844,
     "end_time": "2022-03-22T08:26:29.368315",
     "exception": false,
     "start_time": "2022-03-22T08:26:28.987471",
     "status": "completed"
    },
    "tags": []
   },
   "outputs": [
    {
     "data": {
      "text/plain": [
       "ID        0\n",
       "Name      0\n",
       "Sex       0\n",
       "Age       0\n",
       "Height    0\n",
       "Weight    0\n",
       "Team      0\n",
       "NOC       0\n",
       "Games     0\n",
       "Year      0\n",
       "Season    0\n",
       "City      0\n",
       "Sport     0\n",
       "Event     0\n",
       "Medal     0\n",
       "dtype: int64"
      ]
     },
     "execution_count": 19,
     "metadata": {},
     "output_type": "execute_result"
    }
   ],
   "source": [
    "df1_summer.isna().sum()"
   ]
  },
  {
   "cell_type": "markdown",
   "id": "3f3360a2",
   "metadata": {
    "papermill": {
     "duration": 0.1488,
     "end_time": "2022-03-22T08:26:29.668279",
     "exception": false,
     "start_time": "2022-03-22T08:26:29.519479",
     "status": "completed"
    },
    "tags": []
   },
   "source": [
    "Now let's check if there are any duplicated values in our dataset. We will the duplicated() method."
   ]
  },
  {
   "cell_type": "code",
   "execution_count": 20,
   "id": "9d1eaf53",
   "metadata": {
    "execution": {
     "iopub.execute_input": "2022-03-22T08:26:29.973315Z",
     "iopub.status.busy": "2022-03-22T08:26:29.972470Z",
     "iopub.status.idle": "2022-03-22T08:26:30.239061Z",
     "shell.execute_reply": "2022-03-22T08:26:30.239561Z",
     "shell.execute_reply.started": "2022-03-22T07:26:45.907331Z"
    },
    "papermill": {
     "duration": 0.42248,
     "end_time": "2022-03-22T08:26:30.239721",
     "exception": false,
     "start_time": "2022-03-22T08:26:29.817241",
     "status": "completed"
    },
    "tags": []
   },
   "outputs": [
    {
     "data": {
      "text/plain": [
       "0         False\n",
       "1         False\n",
       "2         False\n",
       "3         False\n",
       "26        False\n",
       "          ...  \n",
       "271106    False\n",
       "271107    False\n",
       "271108    False\n",
       "271109    False\n",
       "271110    False\n",
       "Length: 222552, dtype: bool"
      ]
     },
     "execution_count": 20,
     "metadata": {},
     "output_type": "execute_result"
    }
   ],
   "source": [
    "df1_summer.duplicated()"
   ]
  },
  {
   "cell_type": "code",
   "execution_count": 21,
   "id": "fc96bd68",
   "metadata": {
    "execution": {
     "iopub.execute_input": "2022-03-22T08:26:30.545961Z",
     "iopub.status.busy": "2022-03-22T08:26:30.545272Z",
     "iopub.status.idle": "2022-03-22T08:26:30.903924Z",
     "shell.execute_reply": "2022-03-22T08:26:30.903289Z",
     "shell.execute_reply.started": "2022-03-22T07:26:46.242330Z"
    },
    "papermill": {
     "duration": 0.513146,
     "end_time": "2022-03-22T08:26:30.904068",
     "exception": false,
     "start_time": "2022-03-22T08:26:30.390922",
     "status": "completed"
    },
    "tags": []
   },
   "outputs": [
    {
     "data": {
      "text/plain": [
       "1385"
      ]
     },
     "execution_count": 21,
     "metadata": {},
     "output_type": "execute_result"
    }
   ],
   "source": [
    "df1_summer.duplicated().sum()"
   ]
  },
  {
   "cell_type": "markdown",
   "id": "7f7bb52e",
   "metadata": {
    "papermill": {
     "duration": 0.150763,
     "end_time": "2022-03-22T08:26:31.209711",
     "exception": false,
     "start_time": "2022-03-22T08:26:31.058948",
     "status": "completed"
    },
    "tags": []
   },
   "source": [
    "We have 1385 rows which are duplicated. Let's drop these duplicated values and then proceed with our Analysis and Visualization.\n",
    "\n",
    "We do not drop all the rows, we keep the first row of all the duplicated rows."
   ]
  },
  {
   "cell_type": "code",
   "execution_count": 22,
   "id": "a0615f16",
   "metadata": {
    "execution": {
     "iopub.execute_input": "2022-03-22T08:26:31.514504Z",
     "iopub.status.busy": "2022-03-22T08:26:31.513638Z",
     "iopub.status.idle": "2022-03-22T08:26:31.906392Z",
     "shell.execute_reply": "2022-03-22T08:26:31.907062Z",
     "shell.execute_reply.started": "2022-03-22T07:26:46.576078Z"
    },
    "papermill": {
     "duration": 0.54708,
     "end_time": "2022-03-22T08:26:31.907267",
     "exception": false,
     "start_time": "2022-03-22T08:26:31.360187",
     "status": "completed"
    },
    "tags": []
   },
   "outputs": [
    {
     "name": "stderr",
     "output_type": "stream",
     "text": [
      "/opt/conda/lib/python3.7/site-packages/pandas/util/_decorators.py:311: SettingWithCopyWarning: \n",
      "A value is trying to be set on a copy of a slice from a DataFrame\n",
      "\n",
      "See the caveats in the documentation: https://pandas.pydata.org/pandas-docs/stable/user_guide/indexing.html#returning-a-view-versus-a-copy\n",
      "  return func(*args, **kwargs)\n"
     ]
    }
   ],
   "source": [
    "df1_summer.drop_duplicates(keep = 'first', inplace = True)"
   ]
  },
  {
   "cell_type": "code",
   "execution_count": 23,
   "id": "6823ddbb",
   "metadata": {
    "execution": {
     "iopub.execute_input": "2022-03-22T08:26:32.214518Z",
     "iopub.status.busy": "2022-03-22T08:26:32.213675Z",
     "iopub.status.idle": "2022-03-22T08:26:32.563283Z",
     "shell.execute_reply": "2022-03-22T08:26:32.563763Z",
     "shell.execute_reply.started": "2022-03-22T07:26:46.946156Z"
    },
    "papermill": {
     "duration": 0.503756,
     "end_time": "2022-03-22T08:26:32.563925",
     "exception": false,
     "start_time": "2022-03-22T08:26:32.060169",
     "status": "completed"
    },
    "tags": []
   },
   "outputs": [
    {
     "data": {
      "text/plain": [
       "0"
      ]
     },
     "execution_count": 23,
     "metadata": {},
     "output_type": "execute_result"
    }
   ],
   "source": [
    "df1_summer.duplicated().sum()"
   ]
  },
  {
   "cell_type": "markdown",
   "id": "02e4f062",
   "metadata": {
    "papermill": {
     "duration": 0.150692,
     "end_time": "2022-03-22T08:26:32.864248",
     "exception": false,
     "start_time": "2022-03-22T08:26:32.713556",
     "status": "completed"
    },
    "tags": []
   },
   "source": [
    "## Exploratory Analysis and Visualization\n",
    "\n",
    "### Columns we'll analyze:\n",
    "\n",
    "   * Medal\n",
    "   * Year\n",
    "   * Age\n",
    "   * Sport\n",
    "   * Sex"
   ]
  },
  {
   "cell_type": "markdown",
   "id": "d0f76210",
   "metadata": {
    "papermill": {
     "duration": 0.151183,
     "end_time": "2022-03-22T08:26:33.169988",
     "exception": false,
     "start_time": "2022-03-22T08:26:33.018805",
     "status": "completed"
    },
    "tags": []
   },
   "source": [
    "## Questions to be answered?\n",
    "\n",
    "\n",
    "   * Which teams secured the maximum number of medals in total?\n",
    "\n",
    "   * Which year has the least number of participants?\n",
    "    \n",
    "   * What is the age of participants those who participated in olympics?\n",
    "    \n",
    "   * Which sports have the maximum participation in the summer olympics?\n",
    "\n",
    "   * What is the male and female participation trend?\n",
    "\n",
    " "
   ]
  },
  {
   "cell_type": "markdown",
   "id": "33efb002",
   "metadata": {
    "papermill": {
     "duration": 0.153004,
     "end_time": "2022-03-22T08:26:33.474849",
     "exception": false,
     "start_time": "2022-03-22T08:26:33.321845",
     "status": "completed"
    },
    "tags": []
   },
   "source": [
    "### Question 1: Which teams secured the maximum number of medals in total?"
   ]
  },
  {
   "cell_type": "markdown",
   "id": "6612110a",
   "metadata": {
    "papermill": {
     "duration": 0.150385,
     "end_time": "2022-03-22T08:26:33.776263",
     "exception": false,
     "start_time": "2022-03-22T08:26:33.625878",
     "status": "completed"
    },
    "tags": []
   },
   "source": [
    "Before we answer this question we need to know that, Soviet Union was broken into smaller countries in the year 1991. So, while comparing the teams we will separate the analysis for this question into two parts, one for the years before 1991 and another for the years after 1991."
   ]
  },
  {
   "cell_type": "code",
   "execution_count": 24,
   "id": "9e2e8164",
   "metadata": {
    "execution": {
     "iopub.execute_input": "2022-03-22T08:26:34.086849Z",
     "iopub.status.busy": "2022-03-22T08:26:34.086194Z",
     "iopub.status.idle": "2022-03-22T08:26:34.099951Z",
     "shell.execute_reply": "2022-03-22T08:26:34.100485Z",
     "shell.execute_reply.started": "2022-03-22T07:26:47.256088Z"
    },
    "papermill": {
     "duration": 0.171452,
     "end_time": "2022-03-22T08:26:34.100648",
     "exception": false,
     "start_time": "2022-03-22T08:26:33.929196",
     "status": "completed"
    },
    "tags": []
   },
   "outputs": [
    {
     "data": {
      "text/html": [
       "<div>\n",
       "<style scoped>\n",
       "    .dataframe tbody tr th:only-of-type {\n",
       "        vertical-align: middle;\n",
       "    }\n",
       "\n",
       "    .dataframe tbody tr th {\n",
       "        vertical-align: top;\n",
       "    }\n",
       "\n",
       "    .dataframe thead th {\n",
       "        text-align: right;\n",
       "    }\n",
       "</style>\n",
       "<table border=\"1\" class=\"dataframe\">\n",
       "  <thead>\n",
       "    <tr style=\"text-align: right;\">\n",
       "      <th></th>\n",
       "      <th>ID</th>\n",
       "      <th>Name</th>\n",
       "      <th>Sex</th>\n",
       "      <th>Age</th>\n",
       "      <th>Height</th>\n",
       "      <th>Weight</th>\n",
       "      <th>Team</th>\n",
       "      <th>NOC</th>\n",
       "      <th>Games</th>\n",
       "      <th>Year</th>\n",
       "      <th>Season</th>\n",
       "      <th>City</th>\n",
       "      <th>Sport</th>\n",
       "      <th>Event</th>\n",
       "      <th>Medal</th>\n",
       "    </tr>\n",
       "  </thead>\n",
       "  <tbody>\n",
       "    <tr>\n",
       "      <th>0</th>\n",
       "      <td>1</td>\n",
       "      <td>A Dijiang</td>\n",
       "      <td>M</td>\n",
       "      <td>24.0</td>\n",
       "      <td>180.000000</td>\n",
       "      <td>80.00000</td>\n",
       "      <td>China</td>\n",
       "      <td>CHN</td>\n",
       "      <td>1992 Summer</td>\n",
       "      <td>1992</td>\n",
       "      <td>Summer</td>\n",
       "      <td>Barcelona</td>\n",
       "      <td>Basketball</td>\n",
       "      <td>Basketball Men's Basketball</td>\n",
       "      <td>Not Won</td>\n",
       "    </tr>\n",
       "    <tr>\n",
       "      <th>1</th>\n",
       "      <td>2</td>\n",
       "      <td>A Lamusi</td>\n",
       "      <td>M</td>\n",
       "      <td>23.0</td>\n",
       "      <td>170.000000</td>\n",
       "      <td>60.00000</td>\n",
       "      <td>China</td>\n",
       "      <td>CHN</td>\n",
       "      <td>2012 Summer</td>\n",
       "      <td>2012</td>\n",
       "      <td>Summer</td>\n",
       "      <td>London</td>\n",
       "      <td>Judo</td>\n",
       "      <td>Judo Men's Extra-Lightweight</td>\n",
       "      <td>Not Won</td>\n",
       "    </tr>\n",
       "    <tr>\n",
       "      <th>2</th>\n",
       "      <td>3</td>\n",
       "      <td>Gunnar Nielsen Aaby</td>\n",
       "      <td>M</td>\n",
       "      <td>24.0</td>\n",
       "      <td>175.515551</td>\n",
       "      <td>70.68906</td>\n",
       "      <td>Denmark</td>\n",
       "      <td>DEN</td>\n",
       "      <td>1920 Summer</td>\n",
       "      <td>1920</td>\n",
       "      <td>Summer</td>\n",
       "      <td>Antwerpen</td>\n",
       "      <td>Football</td>\n",
       "      <td>Football Men's Football</td>\n",
       "      <td>Not Won</td>\n",
       "    </tr>\n",
       "    <tr>\n",
       "      <th>3</th>\n",
       "      <td>4</td>\n",
       "      <td>Edgar Lindenau Aabye</td>\n",
       "      <td>M</td>\n",
       "      <td>34.0</td>\n",
       "      <td>175.515551</td>\n",
       "      <td>70.68906</td>\n",
       "      <td>Denmark/Sweden</td>\n",
       "      <td>DEN</td>\n",
       "      <td>1900 Summer</td>\n",
       "      <td>1900</td>\n",
       "      <td>Summer</td>\n",
       "      <td>Paris</td>\n",
       "      <td>Tug-Of-War</td>\n",
       "      <td>Tug-Of-War Men's Tug-Of-War</td>\n",
       "      <td>Gold</td>\n",
       "    </tr>\n",
       "    <tr>\n",
       "      <th>26</th>\n",
       "      <td>8</td>\n",
       "      <td>Cornelia \"Cor\" Aalten (-Strannood)</td>\n",
       "      <td>F</td>\n",
       "      <td>18.0</td>\n",
       "      <td>168.000000</td>\n",
       "      <td>70.68906</td>\n",
       "      <td>Netherlands</td>\n",
       "      <td>NED</td>\n",
       "      <td>1932 Summer</td>\n",
       "      <td>1932</td>\n",
       "      <td>Summer</td>\n",
       "      <td>Los Angeles</td>\n",
       "      <td>Athletics</td>\n",
       "      <td>Athletics Women's 100 metres</td>\n",
       "      <td>Not Won</td>\n",
       "    </tr>\n",
       "  </tbody>\n",
       "</table>\n",
       "</div>"
      ],
      "text/plain": [
       "    ID                                Name Sex   Age      Height    Weight  \\\n",
       "0    1                           A Dijiang   M  24.0  180.000000  80.00000   \n",
       "1    2                            A Lamusi   M  23.0  170.000000  60.00000   \n",
       "2    3                 Gunnar Nielsen Aaby   M  24.0  175.515551  70.68906   \n",
       "3    4                Edgar Lindenau Aabye   M  34.0  175.515551  70.68906   \n",
       "26   8  Cornelia \"Cor\" Aalten (-Strannood)   F  18.0  168.000000  70.68906   \n",
       "\n",
       "              Team  NOC        Games  Year  Season         City       Sport  \\\n",
       "0            China  CHN  1992 Summer  1992  Summer    Barcelona  Basketball   \n",
       "1            China  CHN  2012 Summer  2012  Summer       London        Judo   \n",
       "2          Denmark  DEN  1920 Summer  1920  Summer    Antwerpen    Football   \n",
       "3   Denmark/Sweden  DEN  1900 Summer  1900  Summer        Paris  Tug-Of-War   \n",
       "26     Netherlands  NED  1932 Summer  1932  Summer  Los Angeles   Athletics   \n",
       "\n",
       "                           Event    Medal  \n",
       "0    Basketball Men's Basketball  Not Won  \n",
       "1   Judo Men's Extra-Lightweight  Not Won  \n",
       "2        Football Men's Football  Not Won  \n",
       "3    Tug-Of-War Men's Tug-Of-War     Gold  \n",
       "26  Athletics Women's 100 metres  Not Won  "
      ]
     },
     "execution_count": 24,
     "metadata": {},
     "output_type": "execute_result"
    }
   ],
   "source": [
    "df1_summer.head()"
   ]
  },
  {
   "cell_type": "markdown",
   "id": "b016635c",
   "metadata": {
    "papermill": {
     "duration": 0.151391,
     "end_time": "2022-03-22T08:26:34.410662",
     "exception": false,
     "start_time": "2022-03-22T08:26:34.259271",
     "status": "completed"
    },
    "tags": []
   },
   "source": [
    "### Medals won by the teams before 1991"
   ]
  },
  {
   "cell_type": "code",
   "execution_count": 25,
   "id": "5485d0d9",
   "metadata": {
    "execution": {
     "iopub.execute_input": "2022-03-22T08:26:34.722846Z",
     "iopub.status.busy": "2022-03-22T08:26:34.721991Z",
     "iopub.status.idle": "2022-03-22T08:26:34.744869Z",
     "shell.execute_reply": "2022-03-22T08:26:34.745426Z",
     "shell.execute_reply.started": "2022-03-22T07:26:47.281261Z"
    },
    "papermill": {
     "duration": 0.181519,
     "end_time": "2022-03-22T08:26:34.745588",
     "exception": false,
     "start_time": "2022-03-22T08:26:34.564069",
     "status": "completed"
    },
    "tags": []
   },
   "outputs": [],
   "source": [
    "filt = df1_summer['Year'] < 1991\n",
    "df_summer_before1991 = df1_summer[filt]"
   ]
  },
  {
   "cell_type": "code",
   "execution_count": 26,
   "id": "92a178ee",
   "metadata": {
    "execution": {
     "iopub.execute_input": "2022-03-22T08:26:35.041100Z",
     "iopub.status.busy": "2022-03-22T08:26:35.040260Z",
     "iopub.status.idle": "2022-03-22T08:26:35.094018Z",
     "shell.execute_reply": "2022-03-22T08:26:35.093471Z",
     "shell.execute_reply.started": "2022-03-22T07:26:47.316512Z"
    },
    "papermill": {
     "duration": 0.202131,
     "end_time": "2022-03-22T08:26:35.094151",
     "exception": false,
     "start_time": "2022-03-22T08:26:34.892020",
     "status": "completed"
    },
    "tags": []
   },
   "outputs": [
    {
     "data": {
      "text/html": [
       "<div>\n",
       "<style scoped>\n",
       "    .dataframe tbody tr th:only-of-type {\n",
       "        vertical-align: middle;\n",
       "    }\n",
       "\n",
       "    .dataframe tbody tr th {\n",
       "        vertical-align: top;\n",
       "    }\n",
       "\n",
       "    .dataframe thead th {\n",
       "        text-align: right;\n",
       "    }\n",
       "</style>\n",
       "<table border=\"1\" class=\"dataframe\">\n",
       "  <thead>\n",
       "    <tr style=\"text-align: right;\">\n",
       "      <th></th>\n",
       "      <th>Team</th>\n",
       "      <th>ID</th>\n",
       "      <th>Name</th>\n",
       "      <th>Sex</th>\n",
       "      <th>Age</th>\n",
       "      <th>Height</th>\n",
       "      <th>Weight</th>\n",
       "      <th>NOC</th>\n",
       "      <th>Games</th>\n",
       "      <th>Year</th>\n",
       "      <th>Season</th>\n",
       "      <th>City</th>\n",
       "      <th>Sport</th>\n",
       "      <th>Event</th>\n",
       "      <th>Medal</th>\n",
       "    </tr>\n",
       "  </thead>\n",
       "  <tbody>\n",
       "    <tr>\n",
       "      <th>0</th>\n",
       "      <td>United States</td>\n",
       "      <td>1449</td>\n",
       "      <td>1449</td>\n",
       "      <td>1449</td>\n",
       "      <td>1449</td>\n",
       "      <td>1449</td>\n",
       "      <td>1449</td>\n",
       "      <td>1449</td>\n",
       "      <td>1449</td>\n",
       "      <td>1449</td>\n",
       "      <td>1449</td>\n",
       "      <td>1449</td>\n",
       "      <td>1449</td>\n",
       "      <td>1449</td>\n",
       "      <td>1449</td>\n",
       "    </tr>\n",
       "    <tr>\n",
       "      <th>1</th>\n",
       "      <td>Soviet Union</td>\n",
       "      <td>830</td>\n",
       "      <td>830</td>\n",
       "      <td>830</td>\n",
       "      <td>830</td>\n",
       "      <td>830</td>\n",
       "      <td>830</td>\n",
       "      <td>830</td>\n",
       "      <td>830</td>\n",
       "      <td>830</td>\n",
       "      <td>830</td>\n",
       "      <td>830</td>\n",
       "      <td>830</td>\n",
       "      <td>830</td>\n",
       "      <td>830</td>\n",
       "    </tr>\n",
       "    <tr>\n",
       "      <th>2</th>\n",
       "      <td>Italy</td>\n",
       "      <td>374</td>\n",
       "      <td>374</td>\n",
       "      <td>374</td>\n",
       "      <td>374</td>\n",
       "      <td>374</td>\n",
       "      <td>374</td>\n",
       "      <td>374</td>\n",
       "      <td>374</td>\n",
       "      <td>374</td>\n",
       "      <td>374</td>\n",
       "      <td>374</td>\n",
       "      <td>374</td>\n",
       "      <td>374</td>\n",
       "      <td>374</td>\n",
       "    </tr>\n",
       "    <tr>\n",
       "      <th>3</th>\n",
       "      <td>East Germany</td>\n",
       "      <td>337</td>\n",
       "      <td>337</td>\n",
       "      <td>337</td>\n",
       "      <td>337</td>\n",
       "      <td>337</td>\n",
       "      <td>337</td>\n",
       "      <td>337</td>\n",
       "      <td>337</td>\n",
       "      <td>337</td>\n",
       "      <td>337</td>\n",
       "      <td>337</td>\n",
       "      <td>337</td>\n",
       "      <td>337</td>\n",
       "      <td>337</td>\n",
       "    </tr>\n",
       "    <tr>\n",
       "      <th>4</th>\n",
       "      <td>Hungary</td>\n",
       "      <td>321</td>\n",
       "      <td>321</td>\n",
       "      <td>321</td>\n",
       "      <td>321</td>\n",
       "      <td>321</td>\n",
       "      <td>321</td>\n",
       "      <td>321</td>\n",
       "      <td>321</td>\n",
       "      <td>321</td>\n",
       "      <td>321</td>\n",
       "      <td>321</td>\n",
       "      <td>321</td>\n",
       "      <td>321</td>\n",
       "      <td>321</td>\n",
       "    </tr>\n",
       "  </tbody>\n",
       "</table>\n",
       "</div>"
      ],
      "text/plain": [
       "            Team    ID  Name   Sex   Age  Height  Weight   NOC  Games  Year  \\\n",
       "0  United States  1449  1449  1449  1449    1449    1449  1449   1449  1449   \n",
       "1   Soviet Union   830   830   830   830     830     830   830    830   830   \n",
       "2          Italy   374   374   374   374     374     374   374    374   374   \n",
       "3   East Germany   337   337   337   337     337     337   337    337   337   \n",
       "4        Hungary   321   321   321   321     321     321   321    321   321   \n",
       "\n",
       "   Season  City  Sport  Event  Medal  \n",
       "0    1449  1449   1449   1449   1449  \n",
       "1     830   830    830    830    830  \n",
       "2     374   374    374    374    374  \n",
       "3     337   337    337    337    337  \n",
       "4     321   321    321    321    321  "
      ]
     },
     "execution_count": 26,
     "metadata": {},
     "output_type": "execute_result"
    }
   ],
   "source": [
    "gold_df = df_summer_before1991[df_summer_before1991['Medal'] == 'Gold'].groupby(by = \"Team\").count().sort_values(by = \"ID\",ascending = False).reset_index()\n",
    "gold_df.head()"
   ]
  },
  {
   "cell_type": "markdown",
   "id": "b3c92382",
   "metadata": {
    "papermill": {
     "duration": 0.152366,
     "end_time": "2022-03-22T08:26:35.400866",
     "exception": false,
     "start_time": "2022-03-22T08:26:35.248500",
     "status": "completed"
    },
    "tags": []
   },
   "source": [
    "United States, Soviet Union and Italy are the top 3 countries which bragged the maximum number of Gold Medals from 1896 to 1991."
   ]
  },
  {
   "cell_type": "markdown",
   "id": "a9cd9fab",
   "metadata": {
    "papermill": {
     "duration": 0.152581,
     "end_time": "2022-03-22T08:26:35.706249",
     "exception": false,
     "start_time": "2022-03-22T08:26:35.553668",
     "status": "completed"
    },
    "tags": []
   },
   "source": [
    "Now, let's plot the top 10 countries who won gold in Olympics before 1991."
   ]
  },
  {
   "cell_type": "code",
   "execution_count": 27,
   "id": "2ccad39a",
   "metadata": {
    "execution": {
     "iopub.execute_input": "2022-03-22T08:26:36.018851Z",
     "iopub.status.busy": "2022-03-22T08:26:36.017928Z",
     "iopub.status.idle": "2022-03-22T08:26:36.221187Z",
     "shell.execute_reply": "2022-03-22T08:26:36.221691Z",
     "shell.execute_reply.started": "2022-03-22T07:26:47.376997Z"
    },
    "papermill": {
     "duration": 0.363005,
     "end_time": "2022-03-22T08:26:36.221880",
     "exception": false,
     "start_time": "2022-03-22T08:26:35.858875",
     "status": "completed"
    },
    "tags": []
   },
   "outputs": [
    {
     "data": {
      "image/png": "[encoded data removed]",
      "text/plain": [
       "<Figure size 720x432 with 1 Axes>"
      ]
     },
     "metadata": {
      "needs_background": "light"
     },
     "output_type": "display_data"
    }
   ],
   "source": [
    "plt.figure(figsize = (10,6))\n",
    "plt.bar(x = 'Team', height = 'Medal', data = gold_df.head(10), width = 0.5)\n",
    "plt.xticks(rotation=70);\n",
    "plt.ylabel(\"No. of Gold Medals\")\n",
    "plt.title('Gold Medals')\n",
    "plt.tight_layout()\n",
    "plt.show()"
   ]
  },
  {
   "cell_type": "markdown",
   "id": "880624fc",
   "metadata": {
    "papermill": {
     "duration": 0.155243,
     "end_time": "2022-03-22T08:26:36.531855",
     "exception": false,
     "start_time": "2022-03-22T08:26:36.376612",
     "status": "completed"
    },
    "tags": []
   },
   "source": [
    "Similarly, we can find out the teams which have won the maximum number of Silver and Bronze Medals before 1991."
   ]
  },
  {
   "cell_type": "code",
   "execution_count": 28,
   "id": "86b486cc",
   "metadata": {
    "execution": {
     "iopub.execute_input": "2022-03-22T08:26:36.844458Z",
     "iopub.status.busy": "2022-03-22T08:26:36.843815Z",
     "iopub.status.idle": "2022-03-22T08:26:36.894676Z",
     "shell.execute_reply": "2022-03-22T08:26:36.895243Z",
     "shell.execute_reply.started": "2022-03-22T07:26:47.697009Z"
    },
    "papermill": {
     "duration": 0.207483,
     "end_time": "2022-03-22T08:26:36.895405",
     "exception": false,
     "start_time": "2022-03-22T08:26:36.687922",
     "status": "completed"
    },
    "scrolled": true,
    "tags": []
   },
   "outputs": [
    {
     "data": {
      "text/html": [
       "<div>\n",
       "<style scoped>\n",
       "    .dataframe tbody tr th:only-of-type {\n",
       "        vertical-align: middle;\n",
       "    }\n",
       "\n",
       "    .dataframe tbody tr th {\n",
       "        vertical-align: top;\n",
       "    }\n",
       "\n",
       "    .dataframe thead th {\n",
       "        text-align: right;\n",
       "    }\n",
       "</style>\n",
       "<table border=\"1\" class=\"dataframe\">\n",
       "  <thead>\n",
       "    <tr style=\"text-align: right;\">\n",
       "      <th></th>\n",
       "      <th>Team</th>\n",
       "      <th>ID</th>\n",
       "      <th>Name</th>\n",
       "      <th>Sex</th>\n",
       "      <th>Age</th>\n",
       "      <th>Height</th>\n",
       "      <th>Weight</th>\n",
       "      <th>NOC</th>\n",
       "      <th>Games</th>\n",
       "      <th>Year</th>\n",
       "      <th>Season</th>\n",
       "      <th>City</th>\n",
       "      <th>Sport</th>\n",
       "      <th>Event</th>\n",
       "      <th>Medal</th>\n",
       "    </tr>\n",
       "  </thead>\n",
       "  <tbody>\n",
       "    <tr>\n",
       "      <th>0</th>\n",
       "      <td>United States</td>\n",
       "      <td>792</td>\n",
       "      <td>792</td>\n",
       "      <td>792</td>\n",
       "      <td>792</td>\n",
       "      <td>792</td>\n",
       "      <td>792</td>\n",
       "      <td>792</td>\n",
       "      <td>792</td>\n",
       "      <td>792</td>\n",
       "      <td>792</td>\n",
       "      <td>792</td>\n",
       "      <td>792</td>\n",
       "      <td>792</td>\n",
       "      <td>792</td>\n",
       "    </tr>\n",
       "    <tr>\n",
       "      <th>1</th>\n",
       "      <td>Soviet Union</td>\n",
       "      <td>635</td>\n",
       "      <td>635</td>\n",
       "      <td>635</td>\n",
       "      <td>635</td>\n",
       "      <td>635</td>\n",
       "      <td>635</td>\n",
       "      <td>635</td>\n",
       "      <td>635</td>\n",
       "      <td>635</td>\n",
       "      <td>635</td>\n",
       "      <td>635</td>\n",
       "      <td>635</td>\n",
       "      <td>635</td>\n",
       "      <td>635</td>\n",
       "    </tr>\n",
       "    <tr>\n",
       "      <th>2</th>\n",
       "      <td>Great Britain</td>\n",
       "      <td>407</td>\n",
       "      <td>407</td>\n",
       "      <td>407</td>\n",
       "      <td>407</td>\n",
       "      <td>407</td>\n",
       "      <td>407</td>\n",
       "      <td>407</td>\n",
       "      <td>407</td>\n",
       "      <td>407</td>\n",
       "      <td>407</td>\n",
       "      <td>407</td>\n",
       "      <td>407</td>\n",
       "      <td>407</td>\n",
       "      <td>407</td>\n",
       "    </tr>\n",
       "    <tr>\n",
       "      <th>3</th>\n",
       "      <td>France</td>\n",
       "      <td>323</td>\n",
       "      <td>323</td>\n",
       "      <td>323</td>\n",
       "      <td>323</td>\n",
       "      <td>323</td>\n",
       "      <td>323</td>\n",
       "      <td>323</td>\n",
       "      <td>323</td>\n",
       "      <td>323</td>\n",
       "      <td>323</td>\n",
       "      <td>323</td>\n",
       "      <td>323</td>\n",
       "      <td>323</td>\n",
       "      <td>323</td>\n",
       "    </tr>\n",
       "    <tr>\n",
       "      <th>4</th>\n",
       "      <td>Italy</td>\n",
       "      <td>304</td>\n",
       "      <td>304</td>\n",
       "      <td>304</td>\n",
       "      <td>304</td>\n",
       "      <td>304</td>\n",
       "      <td>304</td>\n",
       "      <td>304</td>\n",
       "      <td>304</td>\n",
       "      <td>304</td>\n",
       "      <td>304</td>\n",
       "      <td>304</td>\n",
       "      <td>304</td>\n",
       "      <td>304</td>\n",
       "      <td>304</td>\n",
       "    </tr>\n",
       "  </tbody>\n",
       "</table>\n",
       "</div>"
      ],
      "text/plain": [
       "            Team   ID  Name  Sex  Age  Height  Weight  NOC  Games  Year  \\\n",
       "0  United States  792   792  792  792     792     792  792    792   792   \n",
       "1   Soviet Union  635   635  635  635     635     635  635    635   635   \n",
       "2  Great Britain  407   407  407  407     407     407  407    407   407   \n",
       "3         France  323   323  323  323     323     323  323    323   323   \n",
       "4          Italy  304   304  304  304     304     304  304    304   304   \n",
       "\n",
       "   Season  City  Sport  Event  Medal  \n",
       "0     792   792    792    792    792  \n",
       "1     635   635    635    635    635  \n",
       "2     407   407    407    407    407  \n",
       "3     323   323    323    323    323  \n",
       "4     304   304    304    304    304  "
      ]
     },
     "execution_count": 28,
     "metadata": {},
     "output_type": "execute_result"
    }
   ],
   "source": [
    "silver_df = df_summer_before1991[df_summer_before1991['Medal'] == 'Silver'].groupby(by = \"Team\").count().sort_values(by = \"ID\",ascending = False).reset_index()\n",
    "silver_df.head()"
   ]
  },
  {
   "cell_type": "markdown",
   "id": "d984a594",
   "metadata": {
    "papermill": {
     "duration": 0.166018,
     "end_time": "2022-03-22T08:26:37.219910",
     "exception": false,
     "start_time": "2022-03-22T08:26:37.053892",
     "status": "completed"
    },
    "tags": []
   },
   "source": [
    "United Stated, Soviet Union and Great Britain are the top 3 countries which managed to get the maximum number of Silver Medals from 1896 to 1991."
   ]
  },
  {
   "cell_type": "markdown",
   "id": "a56742ec",
   "metadata": {
    "papermill": {
     "duration": 0.155293,
     "end_time": "2022-03-22T08:26:37.531331",
     "exception": false,
     "start_time": "2022-03-22T08:26:37.376038",
     "status": "completed"
    },
    "tags": []
   },
   "source": [
    "Let's visualize the top 10 countries which bragged maximum number of Silver Medals from 1896 to 1991."
   ]
  },
  {
   "cell_type": "code",
   "execution_count": 29,
   "id": "8e7c8ef9",
   "metadata": {
    "execution": {
     "iopub.execute_input": "2022-03-22T08:26:37.844847Z",
     "iopub.status.busy": "2022-03-22T08:26:37.844170Z",
     "iopub.status.idle": "2022-03-22T08:26:38.091551Z",
     "shell.execute_reply": "2022-03-22T08:26:38.091968Z",
     "shell.execute_reply.started": "2022-03-22T07:26:47.759913Z"
    },
    "papermill": {
     "duration": 0.405838,
     "end_time": "2022-03-22T08:26:38.092120",
     "exception": false,
     "start_time": "2022-03-22T08:26:37.686282",
     "status": "completed"
    },
    "tags": []
   },
   "outputs": [
    {
     "data": {
      "image/png": "[encoded data removed]",
      "text/plain": [
       "<Figure size 720x432 with 1 Axes>"
      ]
     },
     "metadata": {
      "needs_background": "light"
     },
     "output_type": "display_data"
    }
   ],
   "source": [
    "plt.figure(figsize = (10,6))\n",
    "plt.bar(x = 'Team', height = 'Medal', data = silver_df.head(10), width = 0.5)\n",
    "plt.xticks(rotation=70);\n",
    "plt.ylabel(\"No. of Silver Medals\")\n",
    "plt.title('Silver Medals')\n",
    "plt.tight_layout()\n",
    "plt.show()"
   ]
  },
  {
   "cell_type": "code",
   "execution_count": 30,
   "id": "d2352aa1",
   "metadata": {
    "execution": {
     "iopub.execute_input": "2022-03-22T08:26:38.299943Z",
     "iopub.status.busy": "2022-03-22T08:26:38.299403Z",
     "iopub.status.idle": "2022-03-22T08:26:38.352055Z",
     "shell.execute_reply": "2022-03-22T08:26:38.352507Z",
     "shell.execute_reply.started": "2022-03-22T07:26:48.065044Z"
    },
    "papermill": {
     "duration": 0.158731,
     "end_time": "2022-03-22T08:26:38.352650",
     "exception": false,
     "start_time": "2022-03-22T08:26:38.193919",
     "status": "completed"
    },
    "tags": []
   },
   "outputs": [
    {
     "data": {
      "text/html": [
       "<div>\n",
       "<style scoped>\n",
       "    .dataframe tbody tr th:only-of-type {\n",
       "        vertical-align: middle;\n",
       "    }\n",
       "\n",
       "    .dataframe tbody tr th {\n",
       "        vertical-align: top;\n",
       "    }\n",
       "\n",
       "    .dataframe thead th {\n",
       "        text-align: right;\n",
       "    }\n",
       "</style>\n",
       "<table border=\"1\" class=\"dataframe\">\n",
       "  <thead>\n",
       "    <tr style=\"text-align: right;\">\n",
       "      <th></th>\n",
       "      <th>Team</th>\n",
       "      <th>ID</th>\n",
       "      <th>Name</th>\n",
       "      <th>Sex</th>\n",
       "      <th>Age</th>\n",
       "      <th>Height</th>\n",
       "      <th>Weight</th>\n",
       "      <th>NOC</th>\n",
       "      <th>Games</th>\n",
       "      <th>Year</th>\n",
       "      <th>Season</th>\n",
       "      <th>City</th>\n",
       "      <th>Sport</th>\n",
       "      <th>Event</th>\n",
       "      <th>Medal</th>\n",
       "    </tr>\n",
       "  </thead>\n",
       "  <tbody>\n",
       "    <tr>\n",
       "      <th>0</th>\n",
       "      <td>United States</td>\n",
       "      <td>666</td>\n",
       "      <td>666</td>\n",
       "      <td>666</td>\n",
       "      <td>666</td>\n",
       "      <td>666</td>\n",
       "      <td>666</td>\n",
       "      <td>666</td>\n",
       "      <td>666</td>\n",
       "      <td>666</td>\n",
       "      <td>666</td>\n",
       "      <td>666</td>\n",
       "      <td>666</td>\n",
       "      <td>666</td>\n",
       "      <td>666</td>\n",
       "    </tr>\n",
       "    <tr>\n",
       "      <th>1</th>\n",
       "      <td>Soviet Union</td>\n",
       "      <td>596</td>\n",
       "      <td>596</td>\n",
       "      <td>596</td>\n",
       "      <td>596</td>\n",
       "      <td>596</td>\n",
       "      <td>596</td>\n",
       "      <td>596</td>\n",
       "      <td>596</td>\n",
       "      <td>596</td>\n",
       "      <td>596</td>\n",
       "      <td>596</td>\n",
       "      <td>596</td>\n",
       "      <td>596</td>\n",
       "      <td>596</td>\n",
       "    </tr>\n",
       "    <tr>\n",
       "      <th>2</th>\n",
       "      <td>Great Britain</td>\n",
       "      <td>369</td>\n",
       "      <td>369</td>\n",
       "      <td>369</td>\n",
       "      <td>369</td>\n",
       "      <td>369</td>\n",
       "      <td>369</td>\n",
       "      <td>369</td>\n",
       "      <td>369</td>\n",
       "      <td>369</td>\n",
       "      <td>369</td>\n",
       "      <td>369</td>\n",
       "      <td>369</td>\n",
       "      <td>369</td>\n",
       "      <td>369</td>\n",
       "    </tr>\n",
       "    <tr>\n",
       "      <th>3</th>\n",
       "      <td>France</td>\n",
       "      <td>338</td>\n",
       "      <td>338</td>\n",
       "      <td>338</td>\n",
       "      <td>338</td>\n",
       "      <td>338</td>\n",
       "      <td>338</td>\n",
       "      <td>338</td>\n",
       "      <td>338</td>\n",
       "      <td>338</td>\n",
       "      <td>338</td>\n",
       "      <td>338</td>\n",
       "      <td>338</td>\n",
       "      <td>338</td>\n",
       "      <td>338</td>\n",
       "    </tr>\n",
       "    <tr>\n",
       "      <th>4</th>\n",
       "      <td>Hungary</td>\n",
       "      <td>305</td>\n",
       "      <td>305</td>\n",
       "      <td>305</td>\n",
       "      <td>305</td>\n",
       "      <td>305</td>\n",
       "      <td>305</td>\n",
       "      <td>305</td>\n",
       "      <td>305</td>\n",
       "      <td>305</td>\n",
       "      <td>305</td>\n",
       "      <td>305</td>\n",
       "      <td>305</td>\n",
       "      <td>305</td>\n",
       "      <td>305</td>\n",
       "    </tr>\n",
       "  </tbody>\n",
       "</table>\n",
       "</div>"
      ],
      "text/plain": [
       "            Team   ID  Name  Sex  Age  Height  Weight  NOC  Games  Year  \\\n",
       "0  United States  666   666  666  666     666     666  666    666   666   \n",
       "1   Soviet Union  596   596  596  596     596     596  596    596   596   \n",
       "2  Great Britain  369   369  369  369     369     369  369    369   369   \n",
       "3         France  338   338  338  338     338     338  338    338   338   \n",
       "4        Hungary  305   305  305  305     305     305  305    305   305   \n",
       "\n",
       "   Season  City  Sport  Event  Medal  \n",
       "0     666   666    666    666    666  \n",
       "1     596   596    596    596    596  \n",
       "2     369   369    369    369    369  \n",
       "3     338   338    338    338    338  \n",
       "4     305   305    305    305    305  "
      ]
     },
     "execution_count": 30,
     "metadata": {},
     "output_type": "execute_result"
    }
   ],
   "source": [
    "bronze_df = df_summer_before1991[df_summer_before1991['Medal'] == 'Bronze'].groupby(by = \"Team\").count().sort_values(by = \"ID\",ascending = False).reset_index()\n",
    "bronze_df.head()"
   ]
  },
  {
   "cell_type": "markdown",
   "id": "1a39f20f",
   "metadata": {
    "papermill": {
     "duration": 0.101401,
     "end_time": "2022-03-22T08:26:38.556220",
     "exception": false,
     "start_time": "2022-03-22T08:26:38.454819",
     "status": "completed"
    },
    "tags": []
   },
   "source": [
    "Again, United States, Soviet Union and Great Britain are the top 3 countries which managed to get the maximum number of Bronze Medals from 1896 to 1991."
   ]
  },
  {
   "cell_type": "markdown",
   "id": "c154e352",
   "metadata": {
    "papermill": {
     "duration": 0.103015,
     "end_time": "2022-03-22T08:26:38.762992",
     "exception": false,
     "start_time": "2022-03-22T08:26:38.659977",
     "status": "completed"
    },
    "tags": []
   },
   "source": [
    "Let's visualize the top 10 countries."
   ]
  },
  {
   "cell_type": "code",
   "execution_count": 31,
   "id": "321d73cd",
   "metadata": {
    "execution": {
     "iopub.execute_input": "2022-03-22T08:26:38.972484Z",
     "iopub.status.busy": "2022-03-22T08:26:38.971931Z",
     "iopub.status.idle": "2022-03-22T08:26:39.213168Z",
     "shell.execute_reply": "2022-03-22T08:26:39.212599Z",
     "shell.execute_reply.started": "2022-03-22T07:26:48.123555Z"
    },
    "papermill": {
     "duration": 0.347307,
     "end_time": "2022-03-22T08:26:39.213313",
     "exception": false,
     "start_time": "2022-03-22T08:26:38.866006",
     "status": "completed"
    },
    "tags": []
   },
   "outputs": [
    {
     "data": {
      "image/png": "[encoded data removed]",
      "text/plain": [
       "<Figure size 720x432 with 1 Axes>"
      ]
     },
     "metadata": {
      "needs_background": "light"
     },
     "output_type": "display_data"
    }
   ],
   "source": [
    "plt.figure(figsize = (10,6))\n",
    "plt.bar(x = 'Team', height = 'Medal', data = bronze_df.head(10), width = 0.5)\n",
    "plt.xticks(rotation=70);\n",
    "plt.ylabel(\"No. of Bronze Medals\")\n",
    "plt.title('Broze Medals')\n",
    "plt.tight_layout()\n",
    "plt.show()"
   ]
  },
  {
   "cell_type": "markdown",
   "id": "061afef0",
   "metadata": {
    "papermill": {
     "duration": 0.158782,
     "end_time": "2022-03-22T08:26:39.530901",
     "exception": false,
     "start_time": "2022-03-22T08:26:39.372119",
     "status": "completed"
    },
    "tags": []
   },
   "source": [
    "Now let's move to the next part and analyse the countries after the year 1991"
   ]
  },
  {
   "cell_type": "markdown",
   "id": "f343aa3f",
   "metadata": {
    "papermill": {
     "duration": 0.158828,
     "end_time": "2022-03-22T08:26:39.849151",
     "exception": false,
     "start_time": "2022-03-22T08:26:39.690323",
     "status": "completed"
    },
    "tags": []
   },
   "source": [
    "### Medals won by the countries after 1991"
   ]
  },
  {
   "cell_type": "code",
   "execution_count": 32,
   "id": "0f509dfc",
   "metadata": {
    "execution": {
     "iopub.execute_input": "2022-03-22T08:26:40.170353Z",
     "iopub.status.busy": "2022-03-22T08:26:40.169571Z",
     "iopub.status.idle": "2022-03-22T08:26:40.189085Z",
     "shell.execute_reply": "2022-03-22T08:26:40.189623Z",
     "shell.execute_reply.started": "2022-03-22T07:26:48.416438Z"
    },
    "papermill": {
     "duration": 0.182938,
     "end_time": "2022-03-22T08:26:40.189809",
     "exception": false,
     "start_time": "2022-03-22T08:26:40.006871",
     "status": "completed"
    },
    "tags": []
   },
   "outputs": [],
   "source": [
    "filt = df1_summer['Year'] >= 1991\n",
    "df_summer_after1991 = df1_summer[filt]"
   ]
  },
  {
   "cell_type": "code",
   "execution_count": 33,
   "id": "65fbf6aa",
   "metadata": {
    "execution": {
     "iopub.execute_input": "2022-03-22T08:26:40.512427Z",
     "iopub.status.busy": "2022-03-22T08:26:40.511722Z",
     "iopub.status.idle": "2022-03-22T08:26:40.536548Z",
     "shell.execute_reply": "2022-03-22T08:26:40.537048Z",
     "shell.execute_reply.started": "2022-03-22T07:26:48.442488Z"
    },
    "papermill": {
     "duration": 0.188392,
     "end_time": "2022-03-22T08:26:40.537222",
     "exception": false,
     "start_time": "2022-03-22T08:26:40.348830",
     "status": "completed"
    },
    "scrolled": true,
    "tags": []
   },
   "outputs": [
    {
     "data": {
      "text/html": [
       "<div>\n",
       "<style scoped>\n",
       "    .dataframe tbody tr th:only-of-type {\n",
       "        vertical-align: middle;\n",
       "    }\n",
       "\n",
       "    .dataframe tbody tr th {\n",
       "        vertical-align: top;\n",
       "    }\n",
       "\n",
       "    .dataframe thead th {\n",
       "        text-align: right;\n",
       "    }\n",
       "</style>\n",
       "<table border=\"1\" class=\"dataframe\">\n",
       "  <thead>\n",
       "    <tr style=\"text-align: right;\">\n",
       "      <th></th>\n",
       "      <th>Team</th>\n",
       "      <th>ID</th>\n",
       "      <th>Name</th>\n",
       "      <th>Sex</th>\n",
       "      <th>Age</th>\n",
       "      <th>Height</th>\n",
       "      <th>Weight</th>\n",
       "      <th>NOC</th>\n",
       "      <th>Games</th>\n",
       "      <th>Year</th>\n",
       "      <th>Season</th>\n",
       "      <th>City</th>\n",
       "      <th>Sport</th>\n",
       "      <th>Event</th>\n",
       "      <th>Medal</th>\n",
       "    </tr>\n",
       "  </thead>\n",
       "  <tbody>\n",
       "    <tr>\n",
       "      <th>0</th>\n",
       "      <td>United States</td>\n",
       "      <td>884</td>\n",
       "      <td>884</td>\n",
       "      <td>884</td>\n",
       "      <td>884</td>\n",
       "      <td>884</td>\n",
       "      <td>884</td>\n",
       "      <td>884</td>\n",
       "      <td>884</td>\n",
       "      <td>884</td>\n",
       "      <td>884</td>\n",
       "      <td>884</td>\n",
       "      <td>884</td>\n",
       "      <td>884</td>\n",
       "      <td>884</td>\n",
       "    </tr>\n",
       "    <tr>\n",
       "      <th>1</th>\n",
       "      <td>Germany</td>\n",
       "      <td>324</td>\n",
       "      <td>324</td>\n",
       "      <td>324</td>\n",
       "      <td>324</td>\n",
       "      <td>324</td>\n",
       "      <td>324</td>\n",
       "      <td>324</td>\n",
       "      <td>324</td>\n",
       "      <td>324</td>\n",
       "      <td>324</td>\n",
       "      <td>324</td>\n",
       "      <td>324</td>\n",
       "      <td>324</td>\n",
       "      <td>324</td>\n",
       "    </tr>\n",
       "    <tr>\n",
       "      <th>2</th>\n",
       "      <td>Russia</td>\n",
       "      <td>293</td>\n",
       "      <td>293</td>\n",
       "      <td>293</td>\n",
       "      <td>293</td>\n",
       "      <td>293</td>\n",
       "      <td>293</td>\n",
       "      <td>293</td>\n",
       "      <td>293</td>\n",
       "      <td>293</td>\n",
       "      <td>293</td>\n",
       "      <td>293</td>\n",
       "      <td>293</td>\n",
       "      <td>293</td>\n",
       "      <td>293</td>\n",
       "    </tr>\n",
       "    <tr>\n",
       "      <th>3</th>\n",
       "      <td>China</td>\n",
       "      <td>266</td>\n",
       "      <td>266</td>\n",
       "      <td>266</td>\n",
       "      <td>266</td>\n",
       "      <td>266</td>\n",
       "      <td>266</td>\n",
       "      <td>266</td>\n",
       "      <td>266</td>\n",
       "      <td>266</td>\n",
       "      <td>266</td>\n",
       "      <td>266</td>\n",
       "      <td>266</td>\n",
       "      <td>266</td>\n",
       "      <td>266</td>\n",
       "    </tr>\n",
       "    <tr>\n",
       "      <th>4</th>\n",
       "      <td>Australia</td>\n",
       "      <td>225</td>\n",
       "      <td>225</td>\n",
       "      <td>225</td>\n",
       "      <td>225</td>\n",
       "      <td>225</td>\n",
       "      <td>225</td>\n",
       "      <td>225</td>\n",
       "      <td>225</td>\n",
       "      <td>225</td>\n",
       "      <td>225</td>\n",
       "      <td>225</td>\n",
       "      <td>225</td>\n",
       "      <td>225</td>\n",
       "      <td>225</td>\n",
       "    </tr>\n",
       "  </tbody>\n",
       "</table>\n",
       "</div>"
      ],
      "text/plain": [
       "            Team   ID  Name  Sex  Age  Height  Weight  NOC  Games  Year  \\\n",
       "0  United States  884   884  884  884     884     884  884    884   884   \n",
       "1        Germany  324   324  324  324     324     324  324    324   324   \n",
       "2         Russia  293   293  293  293     293     293  293    293   293   \n",
       "3          China  266   266  266  266     266     266  266    266   266   \n",
       "4      Australia  225   225  225  225     225     225  225    225   225   \n",
       "\n",
       "   Season  City  Sport  Event  Medal  \n",
       "0     884   884    884    884    884  \n",
       "1     324   324    324    324    324  \n",
       "2     293   293    293    293    293  \n",
       "3     266   266    266    266    266  \n",
       "4     225   225    225    225    225  "
      ]
     },
     "execution_count": 33,
     "metadata": {},
     "output_type": "execute_result"
    }
   ],
   "source": [
    "gold_df = df_summer_after1991[df_summer_after1991['Medal'] == 'Gold'].groupby(by = \"Team\").count().sort_values(by = \"ID\",ascending = False).reset_index()\n",
    "gold_df.head()"
   ]
  },
  {
   "cell_type": "markdown",
   "id": "fc515222",
   "metadata": {
    "papermill": {
     "duration": 0.162493,
     "end_time": "2022-03-22T08:26:40.860857",
     "exception": false,
     "start_time": "2022-03-22T08:26:40.698364",
     "status": "completed"
    },
    "tags": []
   },
   "source": [
    "Top 3 countries which scored the maximum number of Gold Medals after the year 1991 are United States, Germany and Russia."
   ]
  },
  {
   "cell_type": "markdown",
   "id": "6a7c1135",
   "metadata": {
    "papermill": {
     "duration": 0.159398,
     "end_time": "2022-03-22T08:26:41.179754",
     "exception": false,
     "start_time": "2022-03-22T08:26:41.020356",
     "status": "completed"
    },
    "tags": []
   },
   "source": [
    "Let's plot the top 10 countries."
   ]
  },
  {
   "cell_type": "code",
   "execution_count": 34,
   "id": "61a3a36d",
   "metadata": {
    "execution": {
     "iopub.execute_input": "2022-03-22T08:26:41.513941Z",
     "iopub.status.busy": "2022-03-22T08:26:41.503233Z",
     "iopub.status.idle": "2022-03-22T08:26:41.696070Z",
     "shell.execute_reply": "2022-03-22T08:26:41.696582Z",
     "shell.execute_reply.started": "2022-03-22T07:26:48.492770Z"
    },
    "papermill": {
     "duration": 0.35743,
     "end_time": "2022-03-22T08:26:41.696757",
     "exception": false,
     "start_time": "2022-03-22T08:26:41.339327",
     "status": "completed"
    },
    "tags": []
   },
   "outputs": [
    {
     "data": {
      "image/png": "[encoded data removed]",
      "text/plain": [
       "<Figure size 720x432 with 1 Axes>"
      ]
     },
     "metadata": {
      "needs_background": "light"
     },
     "output_type": "display_data"
    }
   ],
   "source": [
    "plt.figure(figsize = (10,6))\n",
    "plt.bar(x = 'Team', height = 'Medal', data = gold_df.head(10), width = 0.5)\n",
    "plt.xticks(rotation=70);\n",
    "plt.ylabel(\"No. of Gold Medals\")\n",
    "plt.title('Gold Medals')\n",
    "plt.tight_layout()\n",
    "plt.show()"
   ]
  },
  {
   "cell_type": "code",
   "execution_count": 35,
   "id": "5a046414",
   "metadata": {
    "execution": {
     "iopub.execute_input": "2022-03-22T08:26:42.024659Z",
     "iopub.status.busy": "2022-03-22T08:26:42.023969Z",
     "iopub.status.idle": "2022-03-22T08:26:42.066455Z",
     "shell.execute_reply": "2022-03-22T08:26:42.066997Z",
     "shell.execute_reply.started": "2022-03-22T07:26:48.757037Z"
    },
    "papermill": {
     "duration": 0.207029,
     "end_time": "2022-03-22T08:26:42.067164",
     "exception": false,
     "start_time": "2022-03-22T08:26:41.860135",
     "status": "completed"
    },
    "scrolled": true,
    "tags": []
   },
   "outputs": [
    {
     "data": {
      "text/html": [
       "<div>\n",
       "<style scoped>\n",
       "    .dataframe tbody tr th:only-of-type {\n",
       "        vertical-align: middle;\n",
       "    }\n",
       "\n",
       "    .dataframe tbody tr th {\n",
       "        vertical-align: top;\n",
       "    }\n",
       "\n",
       "    .dataframe thead th {\n",
       "        text-align: right;\n",
       "    }\n",
       "</style>\n",
       "<table border=\"1\" class=\"dataframe\">\n",
       "  <thead>\n",
       "    <tr style=\"text-align: right;\">\n",
       "      <th></th>\n",
       "      <th>Team</th>\n",
       "      <th>ID</th>\n",
       "      <th>Name</th>\n",
       "      <th>Sex</th>\n",
       "      <th>Age</th>\n",
       "      <th>Height</th>\n",
       "      <th>Weight</th>\n",
       "      <th>NOC</th>\n",
       "      <th>Games</th>\n",
       "      <th>Year</th>\n",
       "      <th>Season</th>\n",
       "      <th>City</th>\n",
       "      <th>Sport</th>\n",
       "      <th>Event</th>\n",
       "      <th>Medal</th>\n",
       "    </tr>\n",
       "  </thead>\n",
       "  <tbody>\n",
       "    <tr>\n",
       "      <th>0</th>\n",
       "      <td>United States</td>\n",
       "      <td>449</td>\n",
       "      <td>449</td>\n",
       "      <td>449</td>\n",
       "      <td>449</td>\n",
       "      <td>449</td>\n",
       "      <td>449</td>\n",
       "      <td>449</td>\n",
       "      <td>449</td>\n",
       "      <td>449</td>\n",
       "      <td>449</td>\n",
       "      <td>449</td>\n",
       "      <td>449</td>\n",
       "      <td>449</td>\n",
       "      <td>449</td>\n",
       "    </tr>\n",
       "    <tr>\n",
       "      <th>1</th>\n",
       "      <td>Australia</td>\n",
       "      <td>302</td>\n",
       "      <td>302</td>\n",
       "      <td>302</td>\n",
       "      <td>302</td>\n",
       "      <td>302</td>\n",
       "      <td>302</td>\n",
       "      <td>302</td>\n",
       "      <td>302</td>\n",
       "      <td>302</td>\n",
       "      <td>302</td>\n",
       "      <td>302</td>\n",
       "      <td>302</td>\n",
       "      <td>302</td>\n",
       "      <td>302</td>\n",
       "    </tr>\n",
       "    <tr>\n",
       "      <th>2</th>\n",
       "      <td>Russia</td>\n",
       "      <td>271</td>\n",
       "      <td>271</td>\n",
       "      <td>271</td>\n",
       "      <td>271</td>\n",
       "      <td>271</td>\n",
       "      <td>271</td>\n",
       "      <td>271</td>\n",
       "      <td>271</td>\n",
       "      <td>271</td>\n",
       "      <td>271</td>\n",
       "      <td>271</td>\n",
       "      <td>271</td>\n",
       "      <td>271</td>\n",
       "      <td>271</td>\n",
       "    </tr>\n",
       "    <tr>\n",
       "      <th>3</th>\n",
       "      <td>China</td>\n",
       "      <td>270</td>\n",
       "      <td>270</td>\n",
       "      <td>270</td>\n",
       "      <td>270</td>\n",
       "      <td>270</td>\n",
       "      <td>270</td>\n",
       "      <td>270</td>\n",
       "      <td>270</td>\n",
       "      <td>270</td>\n",
       "      <td>270</td>\n",
       "      <td>270</td>\n",
       "      <td>270</td>\n",
       "      <td>270</td>\n",
       "      <td>270</td>\n",
       "    </tr>\n",
       "    <tr>\n",
       "      <th>4</th>\n",
       "      <td>Germany</td>\n",
       "      <td>244</td>\n",
       "      <td>244</td>\n",
       "      <td>244</td>\n",
       "      <td>244</td>\n",
       "      <td>244</td>\n",
       "      <td>244</td>\n",
       "      <td>244</td>\n",
       "      <td>244</td>\n",
       "      <td>244</td>\n",
       "      <td>244</td>\n",
       "      <td>244</td>\n",
       "      <td>244</td>\n",
       "      <td>244</td>\n",
       "      <td>244</td>\n",
       "    </tr>\n",
       "  </tbody>\n",
       "</table>\n",
       "</div>"
      ],
      "text/plain": [
       "            Team   ID  Name  Sex  Age  Height  Weight  NOC  Games  Year  \\\n",
       "0  United States  449   449  449  449     449     449  449    449   449   \n",
       "1      Australia  302   302  302  302     302     302  302    302   302   \n",
       "2         Russia  271   271  271  271     271     271  271    271   271   \n",
       "3          China  270   270  270  270     270     270  270    270   270   \n",
       "4        Germany  244   244  244  244     244     244  244    244   244   \n",
       "\n",
       "   Season  City  Sport  Event  Medal  \n",
       "0     449   449    449    449    449  \n",
       "1     302   302    302    302    302  \n",
       "2     271   271    271    271    271  \n",
       "3     270   270    270    270    270  \n",
       "4     244   244    244    244    244  "
      ]
     },
     "execution_count": 35,
     "metadata": {},
     "output_type": "execute_result"
    }
   ],
   "source": [
    "silver_df = df_summer_after1991[df_summer_after1991['Medal'] == 'Silver'].groupby(by = \"Team\").count().sort_values(by = \"ID\",ascending = False).reset_index()\n",
    "silver_df.head()"
   ]
  },
  {
   "cell_type": "markdown",
   "id": "05c8d1c4",
   "metadata": {
    "papermill": {
     "duration": 0.160745,
     "end_time": "2022-03-22T08:26:42.387791",
     "exception": false,
     "start_time": "2022-03-22T08:26:42.227046",
     "status": "completed"
    },
    "tags": []
   },
   "source": [
    "The top 3 countries which scored the maximum number of Silver Medals are United States, Australia and Russia."
   ]
  },
  {
   "cell_type": "markdown",
   "id": "b4e40c42",
   "metadata": {
    "papermill": {
     "duration": 0.160909,
     "end_time": "2022-03-22T08:26:42.708865",
     "exception": false,
     "start_time": "2022-03-22T08:26:42.547956",
     "status": "completed"
    },
    "tags": []
   },
   "source": [
    "Let's visualize the top 10 countries."
   ]
  },
  {
   "cell_type": "code",
   "execution_count": 36,
   "id": "6ffd4d46",
   "metadata": {
    "execution": {
     "iopub.execute_input": "2022-03-22T08:26:43.035171Z",
     "iopub.status.busy": "2022-03-22T08:26:43.034486Z",
     "iopub.status.idle": "2022-03-22T08:26:43.219333Z",
     "shell.execute_reply": "2022-03-22T08:26:43.219684Z",
     "shell.execute_reply.started": "2022-03-22T07:26:48.809205Z"
    },
    "papermill": {
     "duration": 0.348851,
     "end_time": "2022-03-22T08:26:43.219840",
     "exception": false,
     "start_time": "2022-03-22T08:26:42.870989",
     "status": "completed"
    },
    "tags": []
   },
   "outputs": [
    {
     "data": {
      "image/png": "[encoded data removed]",
      "text/plain": [
       "<Figure size 720x432 with 1 Axes>"
      ]
     },
     "metadata": {
      "needs_background": "light"
     },
     "output_type": "display_data"
    }
   ],
   "source": [
    "plt.figure(figsize = (10,6))\n",
    "plt.bar(x = 'Team', height = 'Medal', data = silver_df.head(10), width = 0.5)\n",
    "plt.xticks(rotation=70);\n",
    "plt.ylabel(\"No. of Silver Medals\")\n",
    "plt.title('Silver Medals')\n",
    "plt.tight_layout()\n",
    "plt.show()"
   ]
  },
  {
   "cell_type": "code",
   "execution_count": 37,
   "id": "bde3a26d",
   "metadata": {
    "execution": {
     "iopub.execute_input": "2022-03-22T08:26:43.492126Z",
     "iopub.status.busy": "2022-03-22T08:26:43.491460Z",
     "iopub.status.idle": "2022-03-22T08:26:43.519454Z",
     "shell.execute_reply": "2022-03-22T08:26:43.520124Z",
     "shell.execute_reply.started": "2022-03-22T07:26:49.069958Z"
    },
    "papermill": {
     "duration": 0.195155,
     "end_time": "2022-03-22T08:26:43.520296",
     "exception": false,
     "start_time": "2022-03-22T08:26:43.325141",
     "status": "completed"
    },
    "tags": []
   },
   "outputs": [
    {
     "data": {
      "text/html": [
       "<div>\n",
       "<style scoped>\n",
       "    .dataframe tbody tr th:only-of-type {\n",
       "        vertical-align: middle;\n",
       "    }\n",
       "\n",
       "    .dataframe tbody tr th {\n",
       "        vertical-align: top;\n",
       "    }\n",
       "\n",
       "    .dataframe thead th {\n",
       "        text-align: right;\n",
       "    }\n",
       "</style>\n",
       "<table border=\"1\" class=\"dataframe\">\n",
       "  <thead>\n",
       "    <tr style=\"text-align: right;\">\n",
       "      <th></th>\n",
       "      <th>Team</th>\n",
       "      <th>ID</th>\n",
       "      <th>Name</th>\n",
       "      <th>Sex</th>\n",
       "      <th>Age</th>\n",
       "      <th>Height</th>\n",
       "      <th>Weight</th>\n",
       "      <th>NOC</th>\n",
       "      <th>Games</th>\n",
       "      <th>Year</th>\n",
       "      <th>Season</th>\n",
       "      <th>City</th>\n",
       "      <th>Sport</th>\n",
       "      <th>Event</th>\n",
       "      <th>Medal</th>\n",
       "    </tr>\n",
       "  </thead>\n",
       "  <tbody>\n",
       "    <tr>\n",
       "      <th>0</th>\n",
       "      <td>United States</td>\n",
       "      <td>446</td>\n",
       "      <td>446</td>\n",
       "      <td>446</td>\n",
       "      <td>446</td>\n",
       "      <td>446</td>\n",
       "      <td>446</td>\n",
       "      <td>446</td>\n",
       "      <td>446</td>\n",
       "      <td>446</td>\n",
       "      <td>446</td>\n",
       "      <td>446</td>\n",
       "      <td>446</td>\n",
       "      <td>446</td>\n",
       "      <td>446</td>\n",
       "    </tr>\n",
       "    <tr>\n",
       "      <th>1</th>\n",
       "      <td>Germany</td>\n",
       "      <td>360</td>\n",
       "      <td>360</td>\n",
       "      <td>360</td>\n",
       "      <td>360</td>\n",
       "      <td>360</td>\n",
       "      <td>360</td>\n",
       "      <td>360</td>\n",
       "      <td>360</td>\n",
       "      <td>360</td>\n",
       "      <td>360</td>\n",
       "      <td>360</td>\n",
       "      <td>360</td>\n",
       "      <td>360</td>\n",
       "      <td>360</td>\n",
       "    </tr>\n",
       "    <tr>\n",
       "      <th>2</th>\n",
       "      <td>Australia</td>\n",
       "      <td>343</td>\n",
       "      <td>343</td>\n",
       "      <td>343</td>\n",
       "      <td>343</td>\n",
       "      <td>343</td>\n",
       "      <td>343</td>\n",
       "      <td>343</td>\n",
       "      <td>343</td>\n",
       "      <td>343</td>\n",
       "      <td>343</td>\n",
       "      <td>343</td>\n",
       "      <td>343</td>\n",
       "      <td>343</td>\n",
       "      <td>343</td>\n",
       "    </tr>\n",
       "    <tr>\n",
       "      <th>3</th>\n",
       "      <td>Russia</td>\n",
       "      <td>320</td>\n",
       "      <td>320</td>\n",
       "      <td>320</td>\n",
       "      <td>320</td>\n",
       "      <td>320</td>\n",
       "      <td>320</td>\n",
       "      <td>320</td>\n",
       "      <td>320</td>\n",
       "      <td>320</td>\n",
       "      <td>320</td>\n",
       "      <td>320</td>\n",
       "      <td>320</td>\n",
       "      <td>320</td>\n",
       "      <td>320</td>\n",
       "    </tr>\n",
       "    <tr>\n",
       "      <th>4</th>\n",
       "      <td>Japan</td>\n",
       "      <td>189</td>\n",
       "      <td>189</td>\n",
       "      <td>189</td>\n",
       "      <td>189</td>\n",
       "      <td>189</td>\n",
       "      <td>189</td>\n",
       "      <td>189</td>\n",
       "      <td>189</td>\n",
       "      <td>189</td>\n",
       "      <td>189</td>\n",
       "      <td>189</td>\n",
       "      <td>189</td>\n",
       "      <td>189</td>\n",
       "      <td>189</td>\n",
       "    </tr>\n",
       "  </tbody>\n",
       "</table>\n",
       "</div>"
      ],
      "text/plain": [
       "            Team   ID  Name  Sex  Age  Height  Weight  NOC  Games  Year  \\\n",
       "0  United States  446   446  446  446     446     446  446    446   446   \n",
       "1        Germany  360   360  360  360     360     360  360    360   360   \n",
       "2      Australia  343   343  343  343     343     343  343    343   343   \n",
       "3         Russia  320   320  320  320     320     320  320    320   320   \n",
       "4          Japan  189   189  189  189     189     189  189    189   189   \n",
       "\n",
       "   Season  City  Sport  Event  Medal  \n",
       "0     446   446    446    446    446  \n",
       "1     360   360    360    360    360  \n",
       "2     343   343    343    343    343  \n",
       "3     320   320    320    320    320  \n",
       "4     189   189    189    189    189  "
      ]
     },
     "execution_count": 37,
     "metadata": {},
     "output_type": "execute_result"
    }
   ],
   "source": [
    "bronze_df = df_summer_after1991[df_summer_after1991['Medal'] == 'Bronze'].groupby(by = \"Team\").count().sort_values(by = \"ID\",ascending = False).reset_index()\n",
    "bronze_df.head()"
   ]
  },
  {
   "cell_type": "markdown",
   "id": "5db34298",
   "metadata": {
    "papermill": {
     "duration": 0.163792,
     "end_time": "2022-03-22T08:26:43.847248",
     "exception": false,
     "start_time": "2022-03-22T08:26:43.683456",
     "status": "completed"
    },
    "tags": []
   },
   "source": [
    "Top countries which bragged the maximum number of Bronze Medals after 1991 are United States, Germany and Australia."
   ]
  },
  {
   "cell_type": "markdown",
   "id": "ad18c38d",
   "metadata": {
    "papermill": {
     "duration": 0.163674,
     "end_time": "2022-03-22T08:26:44.171480",
     "exception": false,
     "start_time": "2022-03-22T08:26:44.007806",
     "status": "completed"
    },
    "tags": []
   },
   "source": [
    "Let's plot the top 10 countries."
   ]
  },
  {
   "cell_type": "code",
   "execution_count": 38,
   "id": "5d854991",
   "metadata": {
    "execution": {
     "iopub.execute_input": "2022-03-22T08:26:44.504773Z",
     "iopub.status.busy": "2022-03-22T08:26:44.503945Z",
     "iopub.status.idle": "2022-03-22T08:26:44.705491Z",
     "shell.execute_reply": "2022-03-22T08:26:44.705995Z",
     "shell.execute_reply.started": "2022-03-22T07:26:49.118610Z"
    },
    "papermill": {
     "duration": 0.369659,
     "end_time": "2022-03-22T08:26:44.706185",
     "exception": false,
     "start_time": "2022-03-22T08:26:44.336526",
     "status": "completed"
    },
    "tags": []
   },
   "outputs": [
    {
     "data": {
      "image/png": "[encoded data removed]",
      "text/plain": [
       "<Figure size 720x432 with 1 Axes>"
      ]
     },
     "metadata": {
      "needs_background": "light"
     },
     "output_type": "display_data"
    }
   ],
   "source": [
    "plt.figure(figsize=(10, 6))\n",
    "plt.bar(x = 'Team', height = 'Medal', data = bronze_df.head(10), width = 0.5)\n",
    "plt.xticks(rotation=70);\n",
    "plt.ylabel(\"No. of Bronze Medals\")\n",
    "plt.title('Bronze Medals')\n",
    "plt.tight_layout()\n",
    "plt.show()"
   ]
  },
  {
   "cell_type": "markdown",
   "id": "ac1e09a0",
   "metadata": {
    "papermill": {
     "duration": 0.163002,
     "end_time": "2022-03-22T08:26:45.036001",
     "exception": false,
     "start_time": "2022-03-22T08:26:44.872999",
     "status": "completed"
    },
    "tags": []
   },
   "source": [
    "Undoubtly, United States has bragged the maximum number of Gold, Silver and Bronze Medals in the last 120 years.\n",
    "Before 1991 Soviet Union has won the most medals after United Stated followed by Great Britain or Italy.\n",
    "\n",
    "After 1991, there are 3 countries Australia, Russia and Germany after United States which are in the medal winning race. Interestingly, some countries which were nowhere in the race of winning medals before 1991 like China are also catching the race of being the top opponent after 1991."
   ]
  },
  {
   "cell_type": "markdown",
   "id": "dfdc6a05",
   "metadata": {
    "papermill": {
     "duration": 0.162381,
     "end_time": "2022-03-22T08:26:45.361485",
     "exception": false,
     "start_time": "2022-03-22T08:26:45.199104",
     "status": "completed"
    },
    "tags": []
   },
   "source": [
    "Now, let's see what is the trend of Medal wins over the years by the countries before and after 1991. Let's plot the line graph of medals over the years for United States, Soviet Union and Great Britain.\n",
    "\n",
    "The idea to plot the graph is to create the dataframe for these 3 countries and select only those rows where the Medals are given. And after that group the dataframe by Year."
   ]
  },
  {
   "cell_type": "code",
   "execution_count": 39,
   "id": "a5db5986",
   "metadata": {
    "execution": {
     "iopub.execute_input": "2022-03-22T08:26:45.712681Z",
     "iopub.status.busy": "2022-03-22T08:26:45.711930Z",
     "iopub.status.idle": "2022-03-22T08:26:45.754178Z",
     "shell.execute_reply": "2022-03-22T08:26:45.754726Z",
     "shell.execute_reply.started": "2022-03-22T07:26:49.390109Z"
    },
    "papermill": {
     "duration": 0.22877,
     "end_time": "2022-03-22T08:26:45.754901",
     "exception": false,
     "start_time": "2022-03-22T08:26:45.526131",
     "status": "completed"
    },
    "tags": []
   },
   "outputs": [
    {
     "data": {
      "text/html": [
       "<div>\n",
       "<style scoped>\n",
       "    .dataframe tbody tr th:only-of-type {\n",
       "        vertical-align: middle;\n",
       "    }\n",
       "\n",
       "    .dataframe tbody tr th {\n",
       "        vertical-align: top;\n",
       "    }\n",
       "\n",
       "    .dataframe thead th {\n",
       "        text-align: right;\n",
       "    }\n",
       "</style>\n",
       "<table border=\"1\" class=\"dataframe\">\n",
       "  <thead>\n",
       "    <tr style=\"text-align: right;\">\n",
       "      <th></th>\n",
       "      <th>Year</th>\n",
       "      <th>ID</th>\n",
       "      <th>Name</th>\n",
       "      <th>Sex</th>\n",
       "      <th>Age</th>\n",
       "      <th>Height</th>\n",
       "      <th>Weight</th>\n",
       "      <th>Team</th>\n",
       "      <th>NOC</th>\n",
       "      <th>Games</th>\n",
       "      <th>Season</th>\n",
       "      <th>City</th>\n",
       "      <th>Sport</th>\n",
       "      <th>Event</th>\n",
       "      <th>Medal</th>\n",
       "    </tr>\n",
       "  </thead>\n",
       "  <tbody>\n",
       "    <tr>\n",
       "      <th>0</th>\n",
       "      <td>1896</td>\n",
       "      <td>20</td>\n",
       "      <td>20</td>\n",
       "      <td>20</td>\n",
       "      <td>20</td>\n",
       "      <td>20</td>\n",
       "      <td>20</td>\n",
       "      <td>20</td>\n",
       "      <td>20</td>\n",
       "      <td>20</td>\n",
       "      <td>20</td>\n",
       "      <td>20</td>\n",
       "      <td>20</td>\n",
       "      <td>20</td>\n",
       "      <td>20</td>\n",
       "    </tr>\n",
       "    <tr>\n",
       "      <th>1</th>\n",
       "      <td>1900</td>\n",
       "      <td>45</td>\n",
       "      <td>45</td>\n",
       "      <td>45</td>\n",
       "      <td>45</td>\n",
       "      <td>45</td>\n",
       "      <td>45</td>\n",
       "      <td>45</td>\n",
       "      <td>45</td>\n",
       "      <td>45</td>\n",
       "      <td>45</td>\n",
       "      <td>45</td>\n",
       "      <td>45</td>\n",
       "      <td>45</td>\n",
       "      <td>45</td>\n",
       "    </tr>\n",
       "    <tr>\n",
       "      <th>2</th>\n",
       "      <td>1904</td>\n",
       "      <td>199</td>\n",
       "      <td>199</td>\n",
       "      <td>199</td>\n",
       "      <td>199</td>\n",
       "      <td>199</td>\n",
       "      <td>199</td>\n",
       "      <td>199</td>\n",
       "      <td>199</td>\n",
       "      <td>199</td>\n",
       "      <td>199</td>\n",
       "      <td>199</td>\n",
       "      <td>199</td>\n",
       "      <td>199</td>\n",
       "      <td>199</td>\n",
       "    </tr>\n",
       "    <tr>\n",
       "      <th>3</th>\n",
       "      <td>1906</td>\n",
       "      <td>24</td>\n",
       "      <td>24</td>\n",
       "      <td>24</td>\n",
       "      <td>24</td>\n",
       "      <td>24</td>\n",
       "      <td>24</td>\n",
       "      <td>24</td>\n",
       "      <td>24</td>\n",
       "      <td>24</td>\n",
       "      <td>24</td>\n",
       "      <td>24</td>\n",
       "      <td>24</td>\n",
       "      <td>24</td>\n",
       "      <td>24</td>\n",
       "    </tr>\n",
       "    <tr>\n",
       "      <th>4</th>\n",
       "      <td>1908</td>\n",
       "      <td>65</td>\n",
       "      <td>65</td>\n",
       "      <td>65</td>\n",
       "      <td>65</td>\n",
       "      <td>65</td>\n",
       "      <td>65</td>\n",
       "      <td>65</td>\n",
       "      <td>65</td>\n",
       "      <td>65</td>\n",
       "      <td>65</td>\n",
       "      <td>65</td>\n",
       "      <td>65</td>\n",
       "      <td>65</td>\n",
       "      <td>65</td>\n",
       "    </tr>\n",
       "  </tbody>\n",
       "</table>\n",
       "</div>"
      ],
      "text/plain": [
       "   Year   ID  Name  Sex  Age  Height  Weight  Team  NOC  Games  Season  City  \\\n",
       "0  1896   20    20   20   20      20      20    20   20     20      20    20   \n",
       "1  1900   45    45   45   45      45      45    45   45     45      45    45   \n",
       "2  1904  199   199  199  199     199     199   199  199    199     199   199   \n",
       "3  1906   24    24   24   24      24      24    24   24     24      24    24   \n",
       "4  1908   65    65   65   65      65      65    65   65     65      65    65   \n",
       "\n",
       "   Sport  Event  Medal  \n",
       "0     20     20     20  \n",
       "1     45     45     45  \n",
       "2    199    199    199  \n",
       "3     24     24     24  \n",
       "4     65     65     65  "
      ]
     },
     "execution_count": 39,
     "metadata": {},
     "output_type": "execute_result"
    }
   ],
   "source": [
    "United_States_df = df_summer_before1991[(df_summer_before1991[\"Team\"] == 'United States') & (df_summer_before1991[\"Medal\"] != 'Not Won')]\n",
    "US_Year_medal_count = United_States_df.groupby(['Year']).count().reset_index()\n",
    "US_Year_medal_count.head()"
   ]
  },
  {
   "cell_type": "code",
   "execution_count": 40,
   "id": "d6075da2",
   "metadata": {
    "execution": {
     "iopub.execute_input": "2022-03-22T08:26:46.098516Z",
     "iopub.status.busy": "2022-03-22T08:26:46.079992Z",
     "iopub.status.idle": "2022-03-22T08:26:46.115186Z",
     "shell.execute_reply": "2022-03-22T08:26:46.114569Z",
     "shell.execute_reply.started": "2022-03-22T07:26:49.463488Z"
    },
    "papermill": {
     "duration": 0.200309,
     "end_time": "2022-03-22T08:26:46.115334",
     "exception": false,
     "start_time": "2022-03-22T08:26:45.915025",
     "status": "completed"
    },
    "tags": []
   },
   "outputs": [
    {
     "data": {
      "text/html": [
       "<div>\n",
       "<style scoped>\n",
       "    .dataframe tbody tr th:only-of-type {\n",
       "        vertical-align: middle;\n",
       "    }\n",
       "\n",
       "    .dataframe tbody tr th {\n",
       "        vertical-align: top;\n",
       "    }\n",
       "\n",
       "    .dataframe thead th {\n",
       "        text-align: right;\n",
       "    }\n",
       "</style>\n",
       "<table border=\"1\" class=\"dataframe\">\n",
       "  <thead>\n",
       "    <tr style=\"text-align: right;\">\n",
       "      <th></th>\n",
       "      <th>Year</th>\n",
       "      <th>ID</th>\n",
       "      <th>Name</th>\n",
       "      <th>Sex</th>\n",
       "      <th>Age</th>\n",
       "      <th>Height</th>\n",
       "      <th>Weight</th>\n",
       "      <th>Team</th>\n",
       "      <th>NOC</th>\n",
       "      <th>Games</th>\n",
       "      <th>Season</th>\n",
       "      <th>City</th>\n",
       "      <th>Sport</th>\n",
       "      <th>Event</th>\n",
       "      <th>Medal</th>\n",
       "    </tr>\n",
       "  </thead>\n",
       "  <tbody>\n",
       "    <tr>\n",
       "      <th>0</th>\n",
       "      <td>1952</td>\n",
       "      <td>117</td>\n",
       "      <td>117</td>\n",
       "      <td>117</td>\n",
       "      <td>117</td>\n",
       "      <td>117</td>\n",
       "      <td>117</td>\n",
       "      <td>117</td>\n",
       "      <td>117</td>\n",
       "      <td>117</td>\n",
       "      <td>117</td>\n",
       "      <td>117</td>\n",
       "      <td>117</td>\n",
       "      <td>117</td>\n",
       "      <td>117</td>\n",
       "    </tr>\n",
       "    <tr>\n",
       "      <th>1</th>\n",
       "      <td>1956</td>\n",
       "      <td>169</td>\n",
       "      <td>169</td>\n",
       "      <td>169</td>\n",
       "      <td>169</td>\n",
       "      <td>169</td>\n",
       "      <td>169</td>\n",
       "      <td>169</td>\n",
       "      <td>169</td>\n",
       "      <td>169</td>\n",
       "      <td>169</td>\n",
       "      <td>169</td>\n",
       "      <td>169</td>\n",
       "      <td>169</td>\n",
       "      <td>169</td>\n",
       "    </tr>\n",
       "    <tr>\n",
       "      <th>2</th>\n",
       "      <td>1960</td>\n",
       "      <td>167</td>\n",
       "      <td>167</td>\n",
       "      <td>167</td>\n",
       "      <td>167</td>\n",
       "      <td>167</td>\n",
       "      <td>167</td>\n",
       "      <td>167</td>\n",
       "      <td>167</td>\n",
       "      <td>167</td>\n",
       "      <td>167</td>\n",
       "      <td>167</td>\n",
       "      <td>167</td>\n",
       "      <td>167</td>\n",
       "      <td>167</td>\n",
       "    </tr>\n",
       "    <tr>\n",
       "      <th>3</th>\n",
       "      <td>1964</td>\n",
       "      <td>174</td>\n",
       "      <td>174</td>\n",
       "      <td>174</td>\n",
       "      <td>174</td>\n",
       "      <td>174</td>\n",
       "      <td>174</td>\n",
       "      <td>174</td>\n",
       "      <td>174</td>\n",
       "      <td>174</td>\n",
       "      <td>174</td>\n",
       "      <td>174</td>\n",
       "      <td>174</td>\n",
       "      <td>174</td>\n",
       "      <td>174</td>\n",
       "    </tr>\n",
       "    <tr>\n",
       "      <th>4</th>\n",
       "      <td>1968</td>\n",
       "      <td>192</td>\n",
       "      <td>192</td>\n",
       "      <td>192</td>\n",
       "      <td>192</td>\n",
       "      <td>192</td>\n",
       "      <td>192</td>\n",
       "      <td>192</td>\n",
       "      <td>192</td>\n",
       "      <td>192</td>\n",
       "      <td>192</td>\n",
       "      <td>192</td>\n",
       "      <td>192</td>\n",
       "      <td>192</td>\n",
       "      <td>192</td>\n",
       "    </tr>\n",
       "  </tbody>\n",
       "</table>\n",
       "</div>"
      ],
      "text/plain": [
       "   Year   ID  Name  Sex  Age  Height  Weight  Team  NOC  Games  Season  City  \\\n",
       "0  1952  117   117  117  117     117     117   117  117    117     117   117   \n",
       "1  1956  169   169  169  169     169     169   169  169    169     169   169   \n",
       "2  1960  167   167  167  167     167     167   167  167    167     167   167   \n",
       "3  1964  174   174  174  174     174     174   174  174    174     174   174   \n",
       "4  1968  192   192  192  192     192     192   192  192    192     192   192   \n",
       "\n",
       "   Sport  Event  Medal  \n",
       "0    117    117    117  \n",
       "1    169    169    169  \n",
       "2    167    167    167  \n",
       "3    174    174    174  \n",
       "4    192    192    192  "
      ]
     },
     "execution_count": 40,
     "metadata": {},
     "output_type": "execute_result"
    }
   ],
   "source": [
    "Soviet_Union_df = df_summer_before1991[(df_summer_before1991[\"Team\"] == 'Soviet Union') & (df_summer_before1991[\"Medal\"] != 'Not Won')]\n",
    "SU_Year_medal_count = Soviet_Union_df.groupby(['Year']).count().reset_index()\n",
    "SU_Year_medal_count.head()"
   ]
  },
  {
   "cell_type": "code",
   "execution_count": 41,
   "id": "5f8e8670",
   "metadata": {
    "execution": {
     "iopub.execute_input": "2022-03-22T08:26:46.463870Z",
     "iopub.status.busy": "2022-03-22T08:26:46.463229Z",
     "iopub.status.idle": "2022-03-22T08:26:46.484579Z",
     "shell.execute_reply": "2022-03-22T08:26:46.485085Z",
     "shell.execute_reply.started": "2022-03-22T07:26:49.533919Z"
    },
    "papermill": {
     "duration": 0.201156,
     "end_time": "2022-03-22T08:26:46.485242",
     "exception": false,
     "start_time": "2022-03-22T08:26:46.284086",
     "status": "completed"
    },
    "tags": []
   },
   "outputs": [
    {
     "data": {
      "text/html": [
       "<div>\n",
       "<style scoped>\n",
       "    .dataframe tbody tr th:only-of-type {\n",
       "        vertical-align: middle;\n",
       "    }\n",
       "\n",
       "    .dataframe tbody tr th {\n",
       "        vertical-align: top;\n",
       "    }\n",
       "\n",
       "    .dataframe thead th {\n",
       "        text-align: right;\n",
       "    }\n",
       "</style>\n",
       "<table border=\"1\" class=\"dataframe\">\n",
       "  <thead>\n",
       "    <tr style=\"text-align: right;\">\n",
       "      <th></th>\n",
       "      <th>Year</th>\n",
       "      <th>ID</th>\n",
       "      <th>Name</th>\n",
       "      <th>Sex</th>\n",
       "      <th>Age</th>\n",
       "      <th>Height</th>\n",
       "      <th>Weight</th>\n",
       "      <th>Team</th>\n",
       "      <th>NOC</th>\n",
       "      <th>Games</th>\n",
       "      <th>Season</th>\n",
       "      <th>City</th>\n",
       "      <th>Sport</th>\n",
       "      <th>Event</th>\n",
       "      <th>Medal</th>\n",
       "    </tr>\n",
       "  </thead>\n",
       "  <tbody>\n",
       "    <tr>\n",
       "      <th>0</th>\n",
       "      <td>1896</td>\n",
       "      <td>7</td>\n",
       "      <td>7</td>\n",
       "      <td>7</td>\n",
       "      <td>7</td>\n",
       "      <td>7</td>\n",
       "      <td>7</td>\n",
       "      <td>7</td>\n",
       "      <td>7</td>\n",
       "      <td>7</td>\n",
       "      <td>7</td>\n",
       "      <td>7</td>\n",
       "      <td>7</td>\n",
       "      <td>7</td>\n",
       "      <td>7</td>\n",
       "    </tr>\n",
       "    <tr>\n",
       "      <th>1</th>\n",
       "      <td>1900</td>\n",
       "      <td>22</td>\n",
       "      <td>22</td>\n",
       "      <td>22</td>\n",
       "      <td>22</td>\n",
       "      <td>22</td>\n",
       "      <td>22</td>\n",
       "      <td>22</td>\n",
       "      <td>22</td>\n",
       "      <td>22</td>\n",
       "      <td>22</td>\n",
       "      <td>22</td>\n",
       "      <td>22</td>\n",
       "      <td>22</td>\n",
       "      <td>22</td>\n",
       "    </tr>\n",
       "    <tr>\n",
       "      <th>2</th>\n",
       "      <td>1904</td>\n",
       "      <td>2</td>\n",
       "      <td>2</td>\n",
       "      <td>2</td>\n",
       "      <td>2</td>\n",
       "      <td>2</td>\n",
       "      <td>2</td>\n",
       "      <td>2</td>\n",
       "      <td>2</td>\n",
       "      <td>2</td>\n",
       "      <td>2</td>\n",
       "      <td>2</td>\n",
       "      <td>2</td>\n",
       "      <td>2</td>\n",
       "      <td>2</td>\n",
       "    </tr>\n",
       "    <tr>\n",
       "      <th>3</th>\n",
       "      <td>1906</td>\n",
       "      <td>31</td>\n",
       "      <td>31</td>\n",
       "      <td>31</td>\n",
       "      <td>31</td>\n",
       "      <td>31</td>\n",
       "      <td>31</td>\n",
       "      <td>31</td>\n",
       "      <td>31</td>\n",
       "      <td>31</td>\n",
       "      <td>31</td>\n",
       "      <td>31</td>\n",
       "      <td>31</td>\n",
       "      <td>31</td>\n",
       "      <td>31</td>\n",
       "    </tr>\n",
       "    <tr>\n",
       "      <th>4</th>\n",
       "      <td>1908</td>\n",
       "      <td>167</td>\n",
       "      <td>167</td>\n",
       "      <td>167</td>\n",
       "      <td>167</td>\n",
       "      <td>167</td>\n",
       "      <td>167</td>\n",
       "      <td>167</td>\n",
       "      <td>167</td>\n",
       "      <td>167</td>\n",
       "      <td>167</td>\n",
       "      <td>167</td>\n",
       "      <td>167</td>\n",
       "      <td>167</td>\n",
       "      <td>167</td>\n",
       "    </tr>\n",
       "  </tbody>\n",
       "</table>\n",
       "</div>"
      ],
      "text/plain": [
       "   Year   ID  Name  Sex  Age  Height  Weight  Team  NOC  Games  Season  City  \\\n",
       "0  1896    7     7    7    7       7       7     7    7      7       7     7   \n",
       "1  1900   22    22   22   22      22      22    22   22     22      22    22   \n",
       "2  1904    2     2    2    2       2       2     2    2      2       2     2   \n",
       "3  1906   31    31   31   31      31      31    31   31     31      31    31   \n",
       "4  1908  167   167  167  167     167     167   167  167    167     167   167   \n",
       "\n",
       "   Sport  Event  Medal  \n",
       "0      7      7      7  \n",
       "1     22     22     22  \n",
       "2      2      2      2  \n",
       "3     31     31     31  \n",
       "4    167    167    167  "
      ]
     },
     "execution_count": 41,
     "metadata": {},
     "output_type": "execute_result"
    }
   ],
   "source": [
    "Great_Britain_df = df_summer_before1991[(df_summer_before1991[\"Team\"] == 'Great Britain') & (df_summer_before1991[\"Medal\"] != 'Not Won')]\n",
    "GB_Year_medal_count = Great_Britain_df.groupby(['Year']).count().reset_index()\n",
    "GB_Year_medal_count.head()"
   ]
  },
  {
   "cell_type": "markdown",
   "id": "cd674fba",
   "metadata": {
    "papermill": {
     "duration": 0.168074,
     "end_time": "2022-03-22T08:26:46.813437",
     "exception": false,
     "start_time": "2022-03-22T08:26:46.645363",
     "status": "completed"
    },
    "tags": []
   },
   "source": [
    "We will now plot all the 3 dataframes in a single plot to compare the trend of Medals won by the countries over the years."
   ]
  },
  {
   "cell_type": "code",
   "execution_count": 42,
   "id": "1a398d40",
   "metadata": {
    "execution": {
     "iopub.execute_input": "2022-03-22T08:26:47.160718Z",
     "iopub.status.busy": "2022-03-22T08:26:47.160059Z",
     "iopub.status.idle": "2022-03-22T08:26:47.403547Z",
     "shell.execute_reply": "2022-03-22T08:26:47.404114Z",
     "shell.execute_reply.started": "2022-03-22T07:26:49.602065Z"
    },
    "papermill": {
     "duration": 0.426951,
     "end_time": "2022-03-22T08:26:47.404286",
     "exception": false,
     "start_time": "2022-03-22T08:26:46.977335",
     "status": "completed"
    },
    "tags": []
   },
   "outputs": [
    {
     "data": {
      "image/png": "[encoded data removed]",
      "text/plain": [
       "<Figure size 720x432 with 1 Axes>"
      ]
     },
     "metadata": {
      "needs_background": "light"
     },
     "output_type": "display_data"
    }
   ],
   "source": [
    "plt.figure(figsize=(10,6))\n",
    "plt.plot('Year', 'Medal', data = US_Year_medal_count, label = 'United States')\n",
    "plt.plot('Year','Medal', data = SU_Year_medal_count, label = 'Soviet Union')\n",
    "plt.plot('Year','Medal', data = GB_Year_medal_count, label = 'Great Britain')\n",
    "\n",
    "plt.legend(loc = \"upper left\")\n",
    "plt.xlabel('Year')\n",
    "plt.title('Medal won per year before 1991')\n",
    "plt.tight_layout()\n",
    "plt.show()\n"
   ]
  },
  {
   "cell_type": "markdown",
   "id": "c2f96a3a",
   "metadata": {
    "papermill": {
     "duration": 0.169934,
     "end_time": "2022-03-22T08:26:47.743926",
     "exception": false,
     "start_time": "2022-03-22T08:26:47.573992",
     "status": "completed"
    },
    "tags": []
   },
   "source": [
    "After looking at the above plot and doing some google search I got to know that Soviet Union was formed on 30 December 1922 and till 1952 Soviet Union they never participated in the Olympic games."
   ]
  },
  {
   "cell_type": "markdown",
   "id": "8e76de16",
   "metadata": {
    "papermill": {
     "duration": 0.183979,
     "end_time": "2022-03-22T08:26:48.096336",
     "exception": false,
     "start_time": "2022-03-22T08:26:47.912357",
     "status": "completed"
    },
    "tags": []
   },
   "source": [
    "And we can clearly see that after participating in the Olympic Games after the year 1952 Soviet Union has established its monopoly in winning the Medals till the years it lasted. It would be interesting to investigate more about the participants of Soviet Union."
   ]
  },
  {
   "cell_type": "markdown",
   "id": "5a0b7f91",
   "metadata": {
    "papermill": {
     "duration": 0.168463,
     "end_time": "2022-03-22T08:26:48.424823",
     "exception": false,
     "start_time": "2022-03-22T08:26:48.256360",
     "status": "completed"
    },
    "tags": []
   },
   "source": [
    "Let's continue our analysis and repeat the process to check the trend of Medals won by the top teams after 1991."
   ]
  },
  {
   "cell_type": "markdown",
   "id": "0ebca08a",
   "metadata": {
    "papermill": {
     "duration": 0.167606,
     "end_time": "2022-03-22T08:26:48.761472",
     "exception": false,
     "start_time": "2022-03-22T08:26:48.593866",
     "status": "completed"
    },
    "tags": []
   },
   "source": [
    "### After year 1991"
   ]
  },
  {
   "cell_type": "code",
   "execution_count": 43,
   "id": "4aa3c893",
   "metadata": {
    "execution": {
     "iopub.execute_input": "2022-03-22T08:26:49.118231Z",
     "iopub.status.busy": "2022-03-22T08:26:49.117598Z",
     "iopub.status.idle": "2022-03-22T08:26:49.154623Z",
     "shell.execute_reply": "2022-03-22T08:26:49.154131Z",
     "shell.execute_reply.started": "2022-03-22T07:26:49.827693Z"
    },
    "papermill": {
     "duration": 0.224234,
     "end_time": "2022-03-22T08:26:49.154774",
     "exception": false,
     "start_time": "2022-03-22T08:26:48.930540",
     "status": "completed"
    },
    "tags": []
   },
   "outputs": [
    {
     "data": {
      "text/html": [
       "<div>\n",
       "<style scoped>\n",
       "    .dataframe tbody tr th:only-of-type {\n",
       "        vertical-align: middle;\n",
       "    }\n",
       "\n",
       "    .dataframe tbody tr th {\n",
       "        vertical-align: top;\n",
       "    }\n",
       "\n",
       "    .dataframe thead th {\n",
       "        text-align: right;\n",
       "    }\n",
       "</style>\n",
       "<table border=\"1\" class=\"dataframe\">\n",
       "  <thead>\n",
       "    <tr style=\"text-align: right;\">\n",
       "      <th></th>\n",
       "      <th>Year</th>\n",
       "      <th>ID</th>\n",
       "      <th>Name</th>\n",
       "      <th>Sex</th>\n",
       "      <th>Age</th>\n",
       "      <th>Height</th>\n",
       "      <th>Weight</th>\n",
       "      <th>Team</th>\n",
       "      <th>NOC</th>\n",
       "      <th>Games</th>\n",
       "      <th>Season</th>\n",
       "      <th>City</th>\n",
       "      <th>Sport</th>\n",
       "      <th>Event</th>\n",
       "      <th>Medal</th>\n",
       "    </tr>\n",
       "  </thead>\n",
       "  <tbody>\n",
       "    <tr>\n",
       "      <th>0</th>\n",
       "      <td>1992</td>\n",
       "      <td>222</td>\n",
       "      <td>222</td>\n",
       "      <td>222</td>\n",
       "      <td>222</td>\n",
       "      <td>222</td>\n",
       "      <td>222</td>\n",
       "      <td>222</td>\n",
       "      <td>222</td>\n",
       "      <td>222</td>\n",
       "      <td>222</td>\n",
       "      <td>222</td>\n",
       "      <td>222</td>\n",
       "      <td>222</td>\n",
       "      <td>222</td>\n",
       "    </tr>\n",
       "    <tr>\n",
       "      <th>1</th>\n",
       "      <td>1996</td>\n",
       "      <td>255</td>\n",
       "      <td>255</td>\n",
       "      <td>255</td>\n",
       "      <td>255</td>\n",
       "      <td>255</td>\n",
       "      <td>255</td>\n",
       "      <td>255</td>\n",
       "      <td>255</td>\n",
       "      <td>255</td>\n",
       "      <td>255</td>\n",
       "      <td>255</td>\n",
       "      <td>255</td>\n",
       "      <td>255</td>\n",
       "      <td>255</td>\n",
       "    </tr>\n",
       "    <tr>\n",
       "      <th>2</th>\n",
       "      <td>2000</td>\n",
       "      <td>240</td>\n",
       "      <td>240</td>\n",
       "      <td>240</td>\n",
       "      <td>240</td>\n",
       "      <td>240</td>\n",
       "      <td>240</td>\n",
       "      <td>240</td>\n",
       "      <td>240</td>\n",
       "      <td>240</td>\n",
       "      <td>240</td>\n",
       "      <td>240</td>\n",
       "      <td>240</td>\n",
       "      <td>240</td>\n",
       "      <td>240</td>\n",
       "    </tr>\n",
       "    <tr>\n",
       "      <th>3</th>\n",
       "      <td>2004</td>\n",
       "      <td>259</td>\n",
       "      <td>259</td>\n",
       "      <td>259</td>\n",
       "      <td>259</td>\n",
       "      <td>259</td>\n",
       "      <td>259</td>\n",
       "      <td>259</td>\n",
       "      <td>259</td>\n",
       "      <td>259</td>\n",
       "      <td>259</td>\n",
       "      <td>259</td>\n",
       "      <td>259</td>\n",
       "      <td>259</td>\n",
       "      <td>259</td>\n",
       "    </tr>\n",
       "    <tr>\n",
       "      <th>4</th>\n",
       "      <td>2008</td>\n",
       "      <td>309</td>\n",
       "      <td>309</td>\n",
       "      <td>309</td>\n",
       "      <td>309</td>\n",
       "      <td>309</td>\n",
       "      <td>309</td>\n",
       "      <td>309</td>\n",
       "      <td>309</td>\n",
       "      <td>309</td>\n",
       "      <td>309</td>\n",
       "      <td>309</td>\n",
       "      <td>309</td>\n",
       "      <td>309</td>\n",
       "      <td>309</td>\n",
       "    </tr>\n",
       "  </tbody>\n",
       "</table>\n",
       "</div>"
      ],
      "text/plain": [
       "   Year   ID  Name  Sex  Age  Height  Weight  Team  NOC  Games  Season  City  \\\n",
       "0  1992  222   222  222  222     222     222   222  222    222     222   222   \n",
       "1  1996  255   255  255  255     255     255   255  255    255     255   255   \n",
       "2  2000  240   240  240  240     240     240   240  240    240     240   240   \n",
       "3  2004  259   259  259  259     259     259   259  259    259     259   259   \n",
       "4  2008  309   309  309  309     309     309   309  309    309     309   309   \n",
       "\n",
       "   Sport  Event  Medal  \n",
       "0    222    222    222  \n",
       "1    255    255    255  \n",
       "2    240    240    240  \n",
       "3    259    259    259  \n",
       "4    309    309    309  "
      ]
     },
     "execution_count": 43,
     "metadata": {},
     "output_type": "execute_result"
    }
   ],
   "source": [
    "United_States_df_1 = df_summer_after1991[(df_summer_after1991[\"Team\"] == 'United States') & (df_summer_after1991[\"Medal\"] != 'Not Won')]\n",
    "US_Year_medal_count_1 = United_States_df_1.groupby(['Year']).count().reset_index()\n",
    "US_Year_medal_count_1.head()"
   ]
  },
  {
   "cell_type": "code",
   "execution_count": 44,
   "id": "fd411354",
   "metadata": {
    "execution": {
     "iopub.execute_input": "2022-03-22T08:26:49.525473Z",
     "iopub.status.busy": "2022-03-22T08:26:49.495668Z",
     "iopub.status.idle": "2022-03-22T08:26:49.545908Z",
     "shell.execute_reply": "2022-03-22T08:26:49.546446Z",
     "shell.execute_reply.started": "2022-03-22T07:26:49.887381Z"
    },
    "papermill": {
     "duration": 0.222909,
     "end_time": "2022-03-22T08:26:49.546613",
     "exception": false,
     "start_time": "2022-03-22T08:26:49.323704",
     "status": "completed"
    },
    "tags": []
   },
   "outputs": [
    {
     "data": {
      "text/html": [
       "<div>\n",
       "<style scoped>\n",
       "    .dataframe tbody tr th:only-of-type {\n",
       "        vertical-align: middle;\n",
       "    }\n",
       "\n",
       "    .dataframe tbody tr th {\n",
       "        vertical-align: top;\n",
       "    }\n",
       "\n",
       "    .dataframe thead th {\n",
       "        text-align: right;\n",
       "    }\n",
       "</style>\n",
       "<table border=\"1\" class=\"dataframe\">\n",
       "  <thead>\n",
       "    <tr style=\"text-align: right;\">\n",
       "      <th></th>\n",
       "      <th>Year</th>\n",
       "      <th>ID</th>\n",
       "      <th>Name</th>\n",
       "      <th>Sex</th>\n",
       "      <th>Age</th>\n",
       "      <th>Height</th>\n",
       "      <th>Weight</th>\n",
       "      <th>Team</th>\n",
       "      <th>NOC</th>\n",
       "      <th>Games</th>\n",
       "      <th>Season</th>\n",
       "      <th>City</th>\n",
       "      <th>Sport</th>\n",
       "      <th>Event</th>\n",
       "      <th>Medal</th>\n",
       "    </tr>\n",
       "  </thead>\n",
       "  <tbody>\n",
       "    <tr>\n",
       "      <th>0</th>\n",
       "      <td>1992</td>\n",
       "      <td>57</td>\n",
       "      <td>57</td>\n",
       "      <td>57</td>\n",
       "      <td>57</td>\n",
       "      <td>57</td>\n",
       "      <td>57</td>\n",
       "      <td>57</td>\n",
       "      <td>57</td>\n",
       "      <td>57</td>\n",
       "      <td>57</td>\n",
       "      <td>57</td>\n",
       "      <td>57</td>\n",
       "      <td>57</td>\n",
       "      <td>57</td>\n",
       "    </tr>\n",
       "    <tr>\n",
       "      <th>1</th>\n",
       "      <td>1996</td>\n",
       "      <td>130</td>\n",
       "      <td>130</td>\n",
       "      <td>130</td>\n",
       "      <td>130</td>\n",
       "      <td>130</td>\n",
       "      <td>130</td>\n",
       "      <td>130</td>\n",
       "      <td>130</td>\n",
       "      <td>130</td>\n",
       "      <td>130</td>\n",
       "      <td>130</td>\n",
       "      <td>130</td>\n",
       "      <td>130</td>\n",
       "      <td>130</td>\n",
       "    </tr>\n",
       "    <tr>\n",
       "      <th>2</th>\n",
       "      <td>2000</td>\n",
       "      <td>181</td>\n",
       "      <td>181</td>\n",
       "      <td>181</td>\n",
       "      <td>181</td>\n",
       "      <td>181</td>\n",
       "      <td>181</td>\n",
       "      <td>181</td>\n",
       "      <td>181</td>\n",
       "      <td>181</td>\n",
       "      <td>181</td>\n",
       "      <td>181</td>\n",
       "      <td>181</td>\n",
       "      <td>181</td>\n",
       "      <td>181</td>\n",
       "    </tr>\n",
       "    <tr>\n",
       "      <th>3</th>\n",
       "      <td>2004</td>\n",
       "      <td>157</td>\n",
       "      <td>157</td>\n",
       "      <td>157</td>\n",
       "      <td>157</td>\n",
       "      <td>157</td>\n",
       "      <td>157</td>\n",
       "      <td>157</td>\n",
       "      <td>157</td>\n",
       "      <td>157</td>\n",
       "      <td>157</td>\n",
       "      <td>157</td>\n",
       "      <td>157</td>\n",
       "      <td>157</td>\n",
       "      <td>157</td>\n",
       "    </tr>\n",
       "    <tr>\n",
       "      <th>4</th>\n",
       "      <td>2008</td>\n",
       "      <td>149</td>\n",
       "      <td>149</td>\n",
       "      <td>149</td>\n",
       "      <td>149</td>\n",
       "      <td>149</td>\n",
       "      <td>149</td>\n",
       "      <td>149</td>\n",
       "      <td>149</td>\n",
       "      <td>149</td>\n",
       "      <td>149</td>\n",
       "      <td>149</td>\n",
       "      <td>149</td>\n",
       "      <td>149</td>\n",
       "      <td>149</td>\n",
       "    </tr>\n",
       "  </tbody>\n",
       "</table>\n",
       "</div>"
      ],
      "text/plain": [
       "   Year   ID  Name  Sex  Age  Height  Weight  Team  NOC  Games  Season  City  \\\n",
       "0  1992   57    57   57   57      57      57    57   57     57      57    57   \n",
       "1  1996  130   130  130  130     130     130   130  130    130     130   130   \n",
       "2  2000  181   181  181  181     181     181   181  181    181     181   181   \n",
       "3  2004  157   157  157  157     157     157   157  157    157     157   157   \n",
       "4  2008  149   149  149  149     149     149   149  149    149     149   149   \n",
       "\n",
       "   Sport  Event  Medal  \n",
       "0     57     57     57  \n",
       "1    130    130    130  \n",
       "2    181    181    181  \n",
       "3    157    157    157  \n",
       "4    149    149    149  "
      ]
     },
     "execution_count": 44,
     "metadata": {},
     "output_type": "execute_result"
    }
   ],
   "source": [
    "Australia_df = df_summer_after1991[(df_summer_after1991[\"Team\"] == 'Australia') & (df_summer_after1991[\"Medal\"] != 'Not Won')]\n",
    "Au_Year_medal_count = Australia_df.groupby(['Year']).count().reset_index()\n",
    "Au_Year_medal_count.head()"
   ]
  },
  {
   "cell_type": "code",
   "execution_count": 45,
   "id": "83b73611",
   "metadata": {
    "execution": {
     "iopub.execute_input": "2022-03-22T08:26:49.890531Z",
     "iopub.status.busy": "2022-03-22T08:26:49.889719Z",
     "iopub.status.idle": "2022-03-22T08:26:49.939340Z",
     "shell.execute_reply": "2022-03-22T08:26:49.938827Z",
     "shell.execute_reply.started": "2022-03-22T07:26:49.942191Z"
    },
    "papermill": {
     "duration": 0.222922,
     "end_time": "2022-03-22T08:26:49.939476",
     "exception": false,
     "start_time": "2022-03-22T08:26:49.716554",
     "status": "completed"
    },
    "tags": []
   },
   "outputs": [
    {
     "data": {
      "text/html": [
       "<div>\n",
       "<style scoped>\n",
       "    .dataframe tbody tr th:only-of-type {\n",
       "        vertical-align: middle;\n",
       "    }\n",
       "\n",
       "    .dataframe tbody tr th {\n",
       "        vertical-align: top;\n",
       "    }\n",
       "\n",
       "    .dataframe thead th {\n",
       "        text-align: right;\n",
       "    }\n",
       "</style>\n",
       "<table border=\"1\" class=\"dataframe\">\n",
       "  <thead>\n",
       "    <tr style=\"text-align: right;\">\n",
       "      <th></th>\n",
       "      <th>Year</th>\n",
       "      <th>ID</th>\n",
       "      <th>Name</th>\n",
       "      <th>Sex</th>\n",
       "      <th>Age</th>\n",
       "      <th>Height</th>\n",
       "      <th>Weight</th>\n",
       "      <th>Team</th>\n",
       "      <th>NOC</th>\n",
       "      <th>Games</th>\n",
       "      <th>Season</th>\n",
       "      <th>City</th>\n",
       "      <th>Sport</th>\n",
       "      <th>Event</th>\n",
       "      <th>Medal</th>\n",
       "    </tr>\n",
       "  </thead>\n",
       "  <tbody>\n",
       "    <tr>\n",
       "      <th>0</th>\n",
       "      <td>1996</td>\n",
       "      <td>115</td>\n",
       "      <td>115</td>\n",
       "      <td>115</td>\n",
       "      <td>115</td>\n",
       "      <td>115</td>\n",
       "      <td>115</td>\n",
       "      <td>115</td>\n",
       "      <td>115</td>\n",
       "      <td>115</td>\n",
       "      <td>115</td>\n",
       "      <td>115</td>\n",
       "      <td>115</td>\n",
       "      <td>115</td>\n",
       "      <td>115</td>\n",
       "    </tr>\n",
       "    <tr>\n",
       "      <th>1</th>\n",
       "      <td>2000</td>\n",
       "      <td>187</td>\n",
       "      <td>187</td>\n",
       "      <td>187</td>\n",
       "      <td>187</td>\n",
       "      <td>187</td>\n",
       "      <td>187</td>\n",
       "      <td>187</td>\n",
       "      <td>187</td>\n",
       "      <td>187</td>\n",
       "      <td>187</td>\n",
       "      <td>187</td>\n",
       "      <td>187</td>\n",
       "      <td>187</td>\n",
       "      <td>187</td>\n",
       "    </tr>\n",
       "    <tr>\n",
       "      <th>2</th>\n",
       "      <td>2004</td>\n",
       "      <td>189</td>\n",
       "      <td>189</td>\n",
       "      <td>189</td>\n",
       "      <td>189</td>\n",
       "      <td>189</td>\n",
       "      <td>189</td>\n",
       "      <td>189</td>\n",
       "      <td>189</td>\n",
       "      <td>189</td>\n",
       "      <td>189</td>\n",
       "      <td>189</td>\n",
       "      <td>189</td>\n",
       "      <td>189</td>\n",
       "      <td>189</td>\n",
       "    </tr>\n",
       "    <tr>\n",
       "      <th>3</th>\n",
       "      <td>2008</td>\n",
       "      <td>142</td>\n",
       "      <td>142</td>\n",
       "      <td>142</td>\n",
       "      <td>142</td>\n",
       "      <td>142</td>\n",
       "      <td>142</td>\n",
       "      <td>142</td>\n",
       "      <td>142</td>\n",
       "      <td>142</td>\n",
       "      <td>142</td>\n",
       "      <td>142</td>\n",
       "      <td>142</td>\n",
       "      <td>142</td>\n",
       "      <td>142</td>\n",
       "    </tr>\n",
       "    <tr>\n",
       "      <th>4</th>\n",
       "      <td>2012</td>\n",
       "      <td>138</td>\n",
       "      <td>138</td>\n",
       "      <td>138</td>\n",
       "      <td>138</td>\n",
       "      <td>138</td>\n",
       "      <td>138</td>\n",
       "      <td>138</td>\n",
       "      <td>138</td>\n",
       "      <td>138</td>\n",
       "      <td>138</td>\n",
       "      <td>138</td>\n",
       "      <td>138</td>\n",
       "      <td>138</td>\n",
       "      <td>138</td>\n",
       "    </tr>\n",
       "  </tbody>\n",
       "</table>\n",
       "</div>"
      ],
      "text/plain": [
       "   Year   ID  Name  Sex  Age  Height  Weight  Team  NOC  Games  Season  City  \\\n",
       "0  1996  115   115  115  115     115     115   115  115    115     115   115   \n",
       "1  2000  187   187  187  187     187     187   187  187    187     187   187   \n",
       "2  2004  189   189  189  189     189     189   189  189    189     189   189   \n",
       "3  2008  142   142  142  142     142     142   142  142    142     142   142   \n",
       "4  2012  138   138  138  138     138     138   138  138    138     138   138   \n",
       "\n",
       "   Sport  Event  Medal  \n",
       "0    115    115    115  \n",
       "1    187    187    187  \n",
       "2    189    189    189  \n",
       "3    142    142    142  \n",
       "4    138    138    138  "
      ]
     },
     "execution_count": 45,
     "metadata": {},
     "output_type": "execute_result"
    }
   ],
   "source": [
    "Russia_df = df_summer_after1991[(df_summer_after1991[\"Team\"] == 'Russia') & (df_summer_after1991[\"Medal\"] != 'Not Won')]\n",
    "Rus_Year_medal_count = Russia_df.groupby(['Year']).count().reset_index()\n",
    "Rus_Year_medal_count.head()"
   ]
  },
  {
   "cell_type": "code",
   "execution_count": 46,
   "id": "65ab5014",
   "metadata": {
    "execution": {
     "iopub.execute_input": "2022-03-22T08:26:50.312845Z",
     "iopub.status.busy": "2022-03-22T08:26:50.312038Z",
     "iopub.status.idle": "2022-03-22T08:26:50.331708Z",
     "shell.execute_reply": "2022-03-22T08:26:50.331140Z",
     "shell.execute_reply.started": "2022-03-22T07:26:50.000514Z"
    },
    "papermill": {
     "duration": 0.221652,
     "end_time": "2022-03-22T08:26:50.331856",
     "exception": false,
     "start_time": "2022-03-22T08:26:50.110204",
     "status": "completed"
    },
    "tags": []
   },
   "outputs": [
    {
     "data": {
      "text/html": [
       "<div>\n",
       "<style scoped>\n",
       "    .dataframe tbody tr th:only-of-type {\n",
       "        vertical-align: middle;\n",
       "    }\n",
       "\n",
       "    .dataframe tbody tr th {\n",
       "        vertical-align: top;\n",
       "    }\n",
       "\n",
       "    .dataframe thead th {\n",
       "        text-align: right;\n",
       "    }\n",
       "</style>\n",
       "<table border=\"1\" class=\"dataframe\">\n",
       "  <thead>\n",
       "    <tr style=\"text-align: right;\">\n",
       "      <th></th>\n",
       "      <th>Year</th>\n",
       "      <th>ID</th>\n",
       "      <th>Name</th>\n",
       "      <th>Sex</th>\n",
       "      <th>Age</th>\n",
       "      <th>Height</th>\n",
       "      <th>Weight</th>\n",
       "      <th>Team</th>\n",
       "      <th>NOC</th>\n",
       "      <th>Games</th>\n",
       "      <th>Season</th>\n",
       "      <th>City</th>\n",
       "      <th>Sport</th>\n",
       "      <th>Event</th>\n",
       "      <th>Medal</th>\n",
       "    </tr>\n",
       "  </thead>\n",
       "  <tbody>\n",
       "    <tr>\n",
       "      <th>0</th>\n",
       "      <td>1992</td>\n",
       "      <td>198</td>\n",
       "      <td>198</td>\n",
       "      <td>198</td>\n",
       "      <td>198</td>\n",
       "      <td>198</td>\n",
       "      <td>198</td>\n",
       "      <td>198</td>\n",
       "      <td>198</td>\n",
       "      <td>198</td>\n",
       "      <td>198</td>\n",
       "      <td>198</td>\n",
       "      <td>198</td>\n",
       "      <td>198</td>\n",
       "      <td>198</td>\n",
       "    </tr>\n",
       "    <tr>\n",
       "      <th>1</th>\n",
       "      <td>1996</td>\n",
       "      <td>122</td>\n",
       "      <td>122</td>\n",
       "      <td>122</td>\n",
       "      <td>122</td>\n",
       "      <td>122</td>\n",
       "      <td>122</td>\n",
       "      <td>122</td>\n",
       "      <td>122</td>\n",
       "      <td>122</td>\n",
       "      <td>122</td>\n",
       "      <td>122</td>\n",
       "      <td>122</td>\n",
       "      <td>122</td>\n",
       "      <td>122</td>\n",
       "    </tr>\n",
       "    <tr>\n",
       "      <th>2</th>\n",
       "      <td>2000</td>\n",
       "      <td>116</td>\n",
       "      <td>116</td>\n",
       "      <td>116</td>\n",
       "      <td>116</td>\n",
       "      <td>116</td>\n",
       "      <td>116</td>\n",
       "      <td>116</td>\n",
       "      <td>116</td>\n",
       "      <td>116</td>\n",
       "      <td>116</td>\n",
       "      <td>116</td>\n",
       "      <td>116</td>\n",
       "      <td>116</td>\n",
       "      <td>116</td>\n",
       "    </tr>\n",
       "    <tr>\n",
       "      <th>3</th>\n",
       "      <td>2004</td>\n",
       "      <td>147</td>\n",
       "      <td>147</td>\n",
       "      <td>147</td>\n",
       "      <td>147</td>\n",
       "      <td>147</td>\n",
       "      <td>147</td>\n",
       "      <td>147</td>\n",
       "      <td>147</td>\n",
       "      <td>147</td>\n",
       "      <td>147</td>\n",
       "      <td>147</td>\n",
       "      <td>147</td>\n",
       "      <td>147</td>\n",
       "      <td>147</td>\n",
       "    </tr>\n",
       "    <tr>\n",
       "      <th>4</th>\n",
       "      <td>2008</td>\n",
       "      <td>96</td>\n",
       "      <td>96</td>\n",
       "      <td>96</td>\n",
       "      <td>96</td>\n",
       "      <td>96</td>\n",
       "      <td>96</td>\n",
       "      <td>96</td>\n",
       "      <td>96</td>\n",
       "      <td>96</td>\n",
       "      <td>96</td>\n",
       "      <td>96</td>\n",
       "      <td>96</td>\n",
       "      <td>96</td>\n",
       "      <td>96</td>\n",
       "    </tr>\n",
       "  </tbody>\n",
       "</table>\n",
       "</div>"
      ],
      "text/plain": [
       "   Year   ID  Name  Sex  Age  Height  Weight  Team  NOC  Games  Season  City  \\\n",
       "0  1992  198   198  198  198     198     198   198  198    198     198   198   \n",
       "1  1996  122   122  122  122     122     122   122  122    122     122   122   \n",
       "2  2000  116   116  116  116     116     116   116  116    116     116   116   \n",
       "3  2004  147   147  147  147     147     147   147  147    147     147   147   \n",
       "4  2008   96    96   96   96      96      96    96   96     96      96    96   \n",
       "\n",
       "   Sport  Event  Medal  \n",
       "0    198    198    198  \n",
       "1    122    122    122  \n",
       "2    116    116    116  \n",
       "3    147    147    147  \n",
       "4     96     96     96  "
      ]
     },
     "execution_count": 46,
     "metadata": {},
     "output_type": "execute_result"
    }
   ],
   "source": [
    "Germany_df = df_summer_after1991[(df_summer_after1991[\"Team\"] == 'Germany') & (df_summer_after1991[\"Medal\"] != 'Not Won')]\n",
    "Germany_Year_medal_count = Germany_df.groupby(['Year']).count().reset_index()\n",
    "Germany_Year_medal_count.head()"
   ]
  },
  {
   "cell_type": "code",
   "execution_count": 47,
   "id": "8b86a0c4",
   "metadata": {
    "execution": {
     "iopub.execute_input": "2022-03-22T08:26:50.676469Z",
     "iopub.status.busy": "2022-03-22T08:26:50.668452Z",
     "iopub.status.idle": "2022-03-22T08:26:50.885155Z",
     "shell.execute_reply": "2022-03-22T08:26:50.884542Z",
     "shell.execute_reply.started": "2022-03-22T07:26:50.057984Z"
    },
    "papermill": {
     "duration": 0.395118,
     "end_time": "2022-03-22T08:26:50.885293",
     "exception": false,
     "start_time": "2022-03-22T08:26:50.490175",
     "status": "completed"
    },
    "tags": []
   },
   "outputs": [
    {
     "data": {
      "image/png": "[encoded data removed]",
      "text/plain": [
       "<Figure size 720x432 with 1 Axes>"
      ]
     },
     "metadata": {
      "needs_background": "light"
     },
     "output_type": "display_data"
    }
   ],
   "source": [
    "plt.figure(figsize = (10,6))\n",
    "plt.plot('Year', 'Medal',data = US_Year_medal_count_1 ,label = 'United States')\n",
    "plt.plot('Year', 'Medal',data = Au_Year_medal_count ,label = 'Australia')\n",
    "plt.plot('Year', 'Medal',data = Rus_Year_medal_count ,label = 'Russia')\n",
    "plt.plot('Year', 'Medal',data = Germany_Year_medal_count ,label = 'Germany')\n",
    "\n",
    "plt.xlabel('Year')\n",
    "plt.title('Medal won per year after 1991')\n",
    "plt.legend(loc = \"upper left\")\n",
    "plt.tight_layout()\n",
    "plt.show()"
   ]
  },
  {
   "cell_type": "markdown",
   "id": "ce507a3d",
   "metadata": {
    "papermill": {
     "duration": 0.162278,
     "end_time": "2022-03-22T08:26:51.210825",
     "exception": false,
     "start_time": "2022-03-22T08:26:51.048547",
     "status": "completed"
    },
    "tags": []
   },
   "source": [
    "We can clearly see that USA is a unmatchable competitor after 1991 till 2016 and has won the most number of Medals, with Russia, Germany and Australia switching the spots.\n",
    "\n",
    "Now, let's move to our second question."
   ]
  },
  {
   "cell_type": "markdown",
   "id": "b57fa2f1",
   "metadata": {
    "papermill": {
     "duration": 0.165683,
     "end_time": "2022-03-22T08:26:51.535664",
     "exception": false,
     "start_time": "2022-03-22T08:26:51.369981",
     "status": "completed"
    },
    "tags": []
   },
   "source": [
    "### Question 2: Which year has the least number of participants?"
   ]
  },
  {
   "cell_type": "code",
   "execution_count": 48,
   "id": "f6767b78",
   "metadata": {
    "execution": {
     "iopub.execute_input": "2022-03-22T08:26:51.900351Z",
     "iopub.status.busy": "2022-03-22T08:26:51.899559Z",
     "iopub.status.idle": "2022-03-22T08:26:51.904464Z",
     "shell.execute_reply": "2022-03-22T08:26:51.903839Z",
     "shell.execute_reply.started": "2022-03-22T07:26:50.293711Z"
    },
    "papermill": {
     "duration": 0.198055,
     "end_time": "2022-03-22T08:26:51.904603",
     "exception": false,
     "start_time": "2022-03-22T08:26:51.706548",
     "status": "completed"
    },
    "tags": []
   },
   "outputs": [
    {
     "data": {
      "text/html": [
       "<div>\n",
       "<style scoped>\n",
       "    .dataframe tbody tr th:only-of-type {\n",
       "        vertical-align: middle;\n",
       "    }\n",
       "\n",
       "    .dataframe tbody tr th {\n",
       "        vertical-align: top;\n",
       "    }\n",
       "\n",
       "    .dataframe thead th {\n",
       "        text-align: right;\n",
       "    }\n",
       "</style>\n",
       "<table border=\"1\" class=\"dataframe\">\n",
       "  <thead>\n",
       "    <tr style=\"text-align: right;\">\n",
       "      <th></th>\n",
       "      <th>ID</th>\n",
       "      <th>Name</th>\n",
       "      <th>Sex</th>\n",
       "      <th>Age</th>\n",
       "      <th>Height</th>\n",
       "      <th>Weight</th>\n",
       "      <th>Team</th>\n",
       "      <th>NOC</th>\n",
       "      <th>Games</th>\n",
       "      <th>Year</th>\n",
       "      <th>Season</th>\n",
       "      <th>City</th>\n",
       "      <th>Sport</th>\n",
       "      <th>Event</th>\n",
       "      <th>Medal</th>\n",
       "    </tr>\n",
       "  </thead>\n",
       "  <tbody>\n",
       "    <tr>\n",
       "      <th>0</th>\n",
       "      <td>1</td>\n",
       "      <td>A Dijiang</td>\n",
       "      <td>M</td>\n",
       "      <td>24.0</td>\n",
       "      <td>180.000000</td>\n",
       "      <td>80.00000</td>\n",
       "      <td>China</td>\n",
       "      <td>CHN</td>\n",
       "      <td>1992 Summer</td>\n",
       "      <td>1992</td>\n",
       "      <td>Summer</td>\n",
       "      <td>Barcelona</td>\n",
       "      <td>Basketball</td>\n",
       "      <td>Basketball Men's Basketball</td>\n",
       "      <td>Not Won</td>\n",
       "    </tr>\n",
       "    <tr>\n",
       "      <th>1</th>\n",
       "      <td>2</td>\n",
       "      <td>A Lamusi</td>\n",
       "      <td>M</td>\n",
       "      <td>23.0</td>\n",
       "      <td>170.000000</td>\n",
       "      <td>60.00000</td>\n",
       "      <td>China</td>\n",
       "      <td>CHN</td>\n",
       "      <td>2012 Summer</td>\n",
       "      <td>2012</td>\n",
       "      <td>Summer</td>\n",
       "      <td>London</td>\n",
       "      <td>Judo</td>\n",
       "      <td>Judo Men's Extra-Lightweight</td>\n",
       "      <td>Not Won</td>\n",
       "    </tr>\n",
       "    <tr>\n",
       "      <th>2</th>\n",
       "      <td>3</td>\n",
       "      <td>Gunnar Nielsen Aaby</td>\n",
       "      <td>M</td>\n",
       "      <td>24.0</td>\n",
       "      <td>175.515551</td>\n",
       "      <td>70.68906</td>\n",
       "      <td>Denmark</td>\n",
       "      <td>DEN</td>\n",
       "      <td>1920 Summer</td>\n",
       "      <td>1920</td>\n",
       "      <td>Summer</td>\n",
       "      <td>Antwerpen</td>\n",
       "      <td>Football</td>\n",
       "      <td>Football Men's Football</td>\n",
       "      <td>Not Won</td>\n",
       "    </tr>\n",
       "    <tr>\n",
       "      <th>3</th>\n",
       "      <td>4</td>\n",
       "      <td>Edgar Lindenau Aabye</td>\n",
       "      <td>M</td>\n",
       "      <td>34.0</td>\n",
       "      <td>175.515551</td>\n",
       "      <td>70.68906</td>\n",
       "      <td>Denmark/Sweden</td>\n",
       "      <td>DEN</td>\n",
       "      <td>1900 Summer</td>\n",
       "      <td>1900</td>\n",
       "      <td>Summer</td>\n",
       "      <td>Paris</td>\n",
       "      <td>Tug-Of-War</td>\n",
       "      <td>Tug-Of-War Men's Tug-Of-War</td>\n",
       "      <td>Gold</td>\n",
       "    </tr>\n",
       "    <tr>\n",
       "      <th>26</th>\n",
       "      <td>8</td>\n",
       "      <td>Cornelia \"Cor\" Aalten (-Strannood)</td>\n",
       "      <td>F</td>\n",
       "      <td>18.0</td>\n",
       "      <td>168.000000</td>\n",
       "      <td>70.68906</td>\n",
       "      <td>Netherlands</td>\n",
       "      <td>NED</td>\n",
       "      <td>1932 Summer</td>\n",
       "      <td>1932</td>\n",
       "      <td>Summer</td>\n",
       "      <td>Los Angeles</td>\n",
       "      <td>Athletics</td>\n",
       "      <td>Athletics Women's 100 metres</td>\n",
       "      <td>Not Won</td>\n",
       "    </tr>\n",
       "  </tbody>\n",
       "</table>\n",
       "</div>"
      ],
      "text/plain": [
       "    ID                                Name Sex   Age      Height    Weight  \\\n",
       "0    1                           A Dijiang   M  24.0  180.000000  80.00000   \n",
       "1    2                            A Lamusi   M  23.0  170.000000  60.00000   \n",
       "2    3                 Gunnar Nielsen Aaby   M  24.0  175.515551  70.68906   \n",
       "3    4                Edgar Lindenau Aabye   M  34.0  175.515551  70.68906   \n",
       "26   8  Cornelia \"Cor\" Aalten (-Strannood)   F  18.0  168.000000  70.68906   \n",
       "\n",
       "              Team  NOC        Games  Year  Season         City       Sport  \\\n",
       "0            China  CHN  1992 Summer  1992  Summer    Barcelona  Basketball   \n",
       "1            China  CHN  2012 Summer  2012  Summer       London        Judo   \n",
       "2          Denmark  DEN  1920 Summer  1920  Summer    Antwerpen    Football   \n",
       "3   Denmark/Sweden  DEN  1900 Summer  1900  Summer        Paris  Tug-Of-War   \n",
       "26     Netherlands  NED  1932 Summer  1932  Summer  Los Angeles   Athletics   \n",
       "\n",
       "                           Event    Medal  \n",
       "0    Basketball Men's Basketball  Not Won  \n",
       "1   Judo Men's Extra-Lightweight  Not Won  \n",
       "2        Football Men's Football  Not Won  \n",
       "3    Tug-Of-War Men's Tug-Of-War     Gold  \n",
       "26  Athletics Women's 100 metres  Not Won  "
      ]
     },
     "execution_count": 48,
     "metadata": {},
     "output_type": "execute_result"
    }
   ],
   "source": [
    "df1_summer.head()"
   ]
  },
  {
   "cell_type": "code",
   "execution_count": 49,
   "id": "a57b601a",
   "metadata": {
    "execution": {
     "iopub.execute_input": "2022-03-22T08:26:52.260633Z",
     "iopub.status.busy": "2022-03-22T08:26:52.260008Z",
     "iopub.status.idle": "2022-03-22T08:26:52.276888Z",
     "shell.execute_reply": "2022-03-22T08:26:52.277398Z",
     "shell.execute_reply.started": "2022-03-22T07:26:50.319391Z"
    },
    "papermill": {
     "duration": 0.198636,
     "end_time": "2022-03-22T08:26:52.277592",
     "exception": false,
     "start_time": "2022-03-22T08:26:52.078956",
     "status": "completed"
    },
    "tags": []
   },
   "outputs": [
    {
     "data": {
      "text/html": [
       "<div>\n",
       "<style scoped>\n",
       "    .dataframe tbody tr th:only-of-type {\n",
       "        vertical-align: middle;\n",
       "    }\n",
       "\n",
       "    .dataframe tbody tr th {\n",
       "        vertical-align: top;\n",
       "    }\n",
       "\n",
       "    .dataframe thead th {\n",
       "        text-align: right;\n",
       "    }\n",
       "</style>\n",
       "<table border=\"1\" class=\"dataframe\">\n",
       "  <thead>\n",
       "    <tr style=\"text-align: right;\">\n",
       "      <th></th>\n",
       "      <th>Year</th>\n",
       "      <th>Count</th>\n",
       "    </tr>\n",
       "  </thead>\n",
       "  <tbody>\n",
       "    <tr>\n",
       "      <th>0</th>\n",
       "      <td>1896</td>\n",
       "      <td>380</td>\n",
       "    </tr>\n",
       "    <tr>\n",
       "      <th>1</th>\n",
       "      <td>1900</td>\n",
       "      <td>1898</td>\n",
       "    </tr>\n",
       "    <tr>\n",
       "      <th>2</th>\n",
       "      <td>1904</td>\n",
       "      <td>1301</td>\n",
       "    </tr>\n",
       "    <tr>\n",
       "      <th>3</th>\n",
       "      <td>1906</td>\n",
       "      <td>1733</td>\n",
       "    </tr>\n",
       "    <tr>\n",
       "      <th>4</th>\n",
       "      <td>1908</td>\n",
       "      <td>3069</td>\n",
       "    </tr>\n",
       "    <tr>\n",
       "      <th>5</th>\n",
       "      <td>1912</td>\n",
       "      <td>4040</td>\n",
       "    </tr>\n",
       "    <tr>\n",
       "      <th>6</th>\n",
       "      <td>1920</td>\n",
       "      <td>4292</td>\n",
       "    </tr>\n",
       "    <tr>\n",
       "      <th>7</th>\n",
       "      <td>1924</td>\n",
       "      <td>5110</td>\n",
       "    </tr>\n",
       "    <tr>\n",
       "      <th>8</th>\n",
       "      <td>1928</td>\n",
       "      <td>4656</td>\n",
       "    </tr>\n",
       "    <tr>\n",
       "      <th>9</th>\n",
       "      <td>1932</td>\n",
       "      <td>2465</td>\n",
       "    </tr>\n",
       "    <tr>\n",
       "      <th>10</th>\n",
       "      <td>1936</td>\n",
       "      <td>6251</td>\n",
       "    </tr>\n",
       "    <tr>\n",
       "      <th>11</th>\n",
       "      <td>1948</td>\n",
       "      <td>6308</td>\n",
       "    </tr>\n",
       "    <tr>\n",
       "      <th>12</th>\n",
       "      <td>1952</td>\n",
       "      <td>8270</td>\n",
       "    </tr>\n",
       "    <tr>\n",
       "      <th>13</th>\n",
       "      <td>1956</td>\n",
       "      <td>5127</td>\n",
       "    </tr>\n",
       "    <tr>\n",
       "      <th>14</th>\n",
       "      <td>1960</td>\n",
       "      <td>8119</td>\n",
       "    </tr>\n",
       "    <tr>\n",
       "      <th>15</th>\n",
       "      <td>1964</td>\n",
       "      <td>7702</td>\n",
       "    </tr>\n",
       "    <tr>\n",
       "      <th>16</th>\n",
       "      <td>1968</td>\n",
       "      <td>8588</td>\n",
       "    </tr>\n",
       "    <tr>\n",
       "      <th>17</th>\n",
       "      <td>1972</td>\n",
       "      <td>10304</td>\n",
       "    </tr>\n",
       "    <tr>\n",
       "      <th>18</th>\n",
       "      <td>1976</td>\n",
       "      <td>8641</td>\n",
       "    </tr>\n",
       "    <tr>\n",
       "      <th>19</th>\n",
       "      <td>1980</td>\n",
       "      <td>7191</td>\n",
       "    </tr>\n",
       "    <tr>\n",
       "      <th>20</th>\n",
       "      <td>1984</td>\n",
       "      <td>9454</td>\n",
       "    </tr>\n",
       "    <tr>\n",
       "      <th>21</th>\n",
       "      <td>1988</td>\n",
       "      <td>12037</td>\n",
       "    </tr>\n",
       "    <tr>\n",
       "      <th>22</th>\n",
       "      <td>1992</td>\n",
       "      <td>12977</td>\n",
       "    </tr>\n",
       "    <tr>\n",
       "      <th>23</th>\n",
       "      <td>1996</td>\n",
       "      <td>13780</td>\n",
       "    </tr>\n",
       "    <tr>\n",
       "      <th>24</th>\n",
       "      <td>2000</td>\n",
       "      <td>13821</td>\n",
       "    </tr>\n",
       "    <tr>\n",
       "      <th>25</th>\n",
       "      <td>2004</td>\n",
       "      <td>13443</td>\n",
       "    </tr>\n",
       "    <tr>\n",
       "      <th>26</th>\n",
       "      <td>2008</td>\n",
       "      <td>13602</td>\n",
       "    </tr>\n",
       "    <tr>\n",
       "      <th>27</th>\n",
       "      <td>2012</td>\n",
       "      <td>12920</td>\n",
       "    </tr>\n",
       "    <tr>\n",
       "      <th>28</th>\n",
       "      <td>2016</td>\n",
       "      <td>13688</td>\n",
       "    </tr>\n",
       "  </tbody>\n",
       "</table>\n",
       "</div>"
      ],
      "text/plain": [
       "    Year  Count\n",
       "0   1896    380\n",
       "1   1900   1898\n",
       "2   1904   1301\n",
       "3   1906   1733\n",
       "4   1908   3069\n",
       "5   1912   4040\n",
       "6   1920   4292\n",
       "7   1924   5110\n",
       "8   1928   4656\n",
       "9   1932   2465\n",
       "10  1936   6251\n",
       "11  1948   6308\n",
       "12  1952   8270\n",
       "13  1956   5127\n",
       "14  1960   8119\n",
       "15  1964   7702\n",
       "16  1968   8588\n",
       "17  1972  10304\n",
       "18  1976   8641\n",
       "19  1980   7191\n",
       "20  1984   9454\n",
       "21  1988  12037\n",
       "22  1992  12977\n",
       "23  1996  13780\n",
       "24  2000  13821\n",
       "25  2004  13443\n",
       "26  2008  13602\n",
       "27  2012  12920\n",
       "28  2016  13688"
      ]
     },
     "execution_count": 49,
     "metadata": {},
     "output_type": "execute_result"
    }
   ],
   "source": [
    "Year_count = df1_summer.groupby([\"Year\"])['ID'].count().reset_index(name = 'Count')\n",
    "Year_count"
   ]
  },
  {
   "cell_type": "markdown",
   "id": "bc1f978a",
   "metadata": {
    "papermill": {
     "duration": 0.171177,
     "end_time": "2022-03-22T08:26:52.623285",
     "exception": false,
     "start_time": "2022-03-22T08:26:52.452108",
     "status": "completed"
    },
    "tags": []
   },
   "source": [
    "We can clearly see that in the year 1896 only 380 people participated which is the least among all the years till 2016."
   ]
  },
  {
   "cell_type": "markdown",
   "id": "e6463ee0",
   "metadata": {
    "papermill": {
     "duration": 0.174394,
     "end_time": "2022-03-22T08:26:52.972368",
     "exception": false,
     "start_time": "2022-03-22T08:26:52.797974",
     "status": "completed"
    },
    "tags": []
   },
   "source": [
    "Now let's plot this graph and see what can be inferred from it."
   ]
  },
  {
   "cell_type": "code",
   "execution_count": 50,
   "id": "58bf660c",
   "metadata": {
    "execution": {
     "iopub.execute_input": "2022-03-22T08:26:53.530389Z",
     "iopub.status.busy": "2022-03-22T08:26:53.331289Z",
     "iopub.status.idle": "2022-03-22T08:26:53.739186Z",
     "shell.execute_reply": "2022-03-22T08:26:53.739764Z",
     "shell.execute_reply.started": "2022-03-22T07:26:50.348657Z"
    },
    "papermill": {
     "duration": 0.589356,
     "end_time": "2022-03-22T08:26:53.739930",
     "exception": false,
     "start_time": "2022-03-22T08:26:53.150574",
     "status": "completed"
    },
    "tags": []
   },
   "outputs": [
    {
     "data": {
      "image/png": "[encoded data removed]",
      "text/plain": [
       "<Figure size 720x432 with 1 Axes>"
      ]
     },
     "metadata": {
      "needs_background": "light"
     },
     "output_type": "display_data"
    }
   ],
   "source": [
    "plt.figure(figsize = (10,6))\n",
    "plt.plot('Year', 'Count', data = Year_count)\n",
    "plt.xlabel('Year')\n",
    "plt.title('Number of Parcipants per Year')\n",
    "plt.tight_layout()\n",
    "plt.show()"
   ]
  },
  {
   "cell_type": "markdown",
   "id": "a1eba690",
   "metadata": {
    "papermill": {
     "duration": 0.17367,
     "end_time": "2022-03-22T08:26:54.089452",
     "exception": false,
     "start_time": "2022-03-22T08:26:53.915782",
     "status": "completed"
    },
    "tags": []
   },
   "source": [
    "Let's try to visualize the number of participants over the years using the bar graph. To plot a bar graph I am going to use a seaborn library."
   ]
  },
  {
   "cell_type": "code",
   "execution_count": 51,
   "id": "b7db2691",
   "metadata": {
    "execution": {
     "iopub.execute_input": "2022-03-22T08:26:54.443852Z",
     "iopub.status.busy": "2022-03-22T08:26:54.434781Z",
     "iopub.status.idle": "2022-03-22T08:26:54.895685Z",
     "shell.execute_reply": "2022-03-22T08:26:54.895196Z",
     "shell.execute_reply.started": "2022-03-22T07:26:50.762225Z"
    },
    "papermill": {
     "duration": 0.637716,
     "end_time": "2022-03-22T08:26:54.895835",
     "exception": false,
     "start_time": "2022-03-22T08:26:54.258119",
     "status": "completed"
    },
    "tags": []
   },
   "outputs": [
    {
     "data": {
      "image/png": "[encoded data removed]",
      "text/plain": [
       "<Figure size 1440x720 with 1 Axes>"
      ]
     },
     "metadata": {
      "needs_background": "light"
     },
     "output_type": "display_data"
    }
   ],
   "source": [
    "plt.figure(figsize = (20,10))\n",
    "sns.barplot(x = 'Year', y= 'Count', data= Year_count)\n",
    "plt.title('Number of Participants per Year')\n",
    "plt.tight_layout()\n",
    "plt.show()"
   ]
  },
  {
   "cell_type": "markdown",
   "id": "e39990a5",
   "metadata": {
    "papermill": {
     "duration": 0.177936,
     "end_time": "2022-03-22T08:26:55.249473",
     "exception": false,
     "start_time": "2022-03-22T08:26:55.071537",
     "status": "completed"
    },
    "tags": []
   },
   "source": [
    "Both Line Graph and Bar Graph confirms the same trend that the participation has increased over the years, but there is a sharp dip in participation in 1932, 1956 and 1980. Can you think of the reason for this dip?\n",
    "\n",
    "Let's check the next question."
   ]
  },
  {
   "cell_type": "markdown",
   "id": "3847cf11",
   "metadata": {
    "papermill": {
     "duration": 0.175508,
     "end_time": "2022-03-22T08:26:55.602637",
     "exception": false,
     "start_time": "2022-03-22T08:26:55.427129",
     "status": "completed"
    },
    "tags": []
   },
   "source": [
    "### Question 3: What is the age of participants those who participated in olympics?"
   ]
  },
  {
   "cell_type": "code",
   "execution_count": 52,
   "id": "0a77a200",
   "metadata": {
    "execution": {
     "iopub.execute_input": "2022-03-22T08:26:55.966294Z",
     "iopub.status.busy": "2022-03-22T08:26:55.965760Z",
     "iopub.status.idle": "2022-03-22T08:26:55.985232Z",
     "shell.execute_reply": "2022-03-22T08:26:55.984556Z",
     "shell.execute_reply.started": "2022-03-22T07:26:51.263169Z"
    },
    "papermill": {
     "duration": 0.205228,
     "end_time": "2022-03-22T08:26:55.985351",
     "exception": false,
     "start_time": "2022-03-22T08:26:55.780123",
     "status": "completed"
    },
    "tags": []
   },
   "outputs": [
    {
     "data": {
      "text/html": [
       "<div>\n",
       "<style scoped>\n",
       "    .dataframe tbody tr th:only-of-type {\n",
       "        vertical-align: middle;\n",
       "    }\n",
       "\n",
       "    .dataframe tbody tr th {\n",
       "        vertical-align: top;\n",
       "    }\n",
       "\n",
       "    .dataframe thead th {\n",
       "        text-align: right;\n",
       "    }\n",
       "</style>\n",
       "<table border=\"1\" class=\"dataframe\">\n",
       "  <thead>\n",
       "    <tr style=\"text-align: right;\">\n",
       "      <th></th>\n",
       "      <th>Age</th>\n",
       "      <th>Count</th>\n",
       "    </tr>\n",
       "  </thead>\n",
       "  <tbody>\n",
       "    <tr>\n",
       "      <th>0</th>\n",
       "      <td>10.0</td>\n",
       "      <td>1</td>\n",
       "    </tr>\n",
       "    <tr>\n",
       "      <th>1</th>\n",
       "      <td>11.0</td>\n",
       "      <td>6</td>\n",
       "    </tr>\n",
       "    <tr>\n",
       "      <th>2</th>\n",
       "      <td>12.0</td>\n",
       "      <td>31</td>\n",
       "    </tr>\n",
       "    <tr>\n",
       "      <th>3</th>\n",
       "      <td>13.0</td>\n",
       "      <td>172</td>\n",
       "    </tr>\n",
       "    <tr>\n",
       "      <th>4</th>\n",
       "      <td>14.0</td>\n",
       "      <td>780</td>\n",
       "    </tr>\n",
       "    <tr>\n",
       "      <th>...</th>\n",
       "      <td>...</td>\n",
       "      <td>...</td>\n",
       "    </tr>\n",
       "    <tr>\n",
       "      <th>70</th>\n",
       "      <td>81.0</td>\n",
       "      <td>2</td>\n",
       "    </tr>\n",
       "    <tr>\n",
       "      <th>71</th>\n",
       "      <td>84.0</td>\n",
       "      <td>1</td>\n",
       "    </tr>\n",
       "    <tr>\n",
       "      <th>72</th>\n",
       "      <td>88.0</td>\n",
       "      <td>1</td>\n",
       "    </tr>\n",
       "    <tr>\n",
       "      <th>73</th>\n",
       "      <td>96.0</td>\n",
       "      <td>1</td>\n",
       "    </tr>\n",
       "    <tr>\n",
       "      <th>74</th>\n",
       "      <td>97.0</td>\n",
       "      <td>1</td>\n",
       "    </tr>\n",
       "  </tbody>\n",
       "</table>\n",
       "<p>75 rows × 2 columns</p>\n",
       "</div>"
      ],
      "text/plain": [
       "     Age  Count\n",
       "0   10.0      1\n",
       "1   11.0      6\n",
       "2   12.0     31\n",
       "3   13.0    172\n",
       "4   14.0    780\n",
       "..   ...    ...\n",
       "70  81.0      2\n",
       "71  84.0      1\n",
       "72  88.0      1\n",
       "73  96.0      1\n",
       "74  97.0      1\n",
       "\n",
       "[75 rows x 2 columns]"
      ]
     },
     "execution_count": 52,
     "metadata": {},
     "output_type": "execute_result"
    }
   ],
   "source": [
    "Age_count = df1_summer.groupby(['Age'])['ID'].count().reset_index(name = 'Count')\n",
    "Age_count"
   ]
  },
  {
   "cell_type": "code",
   "execution_count": 53,
   "id": "4e5ddcc4",
   "metadata": {
    "execution": {
     "iopub.execute_input": "2022-03-22T08:26:56.250443Z",
     "iopub.status.busy": "2022-03-22T08:26:56.244546Z",
     "iopub.status.idle": "2022-03-22T08:26:56.437060Z",
     "shell.execute_reply": "2022-03-22T08:26:56.436521Z",
     "shell.execute_reply.started": "2022-03-22T07:26:51.285598Z"
    },
    "papermill": {
     "duration": 0.332317,
     "end_time": "2022-03-22T08:26:56.437178",
     "exception": false,
     "start_time": "2022-03-22T08:26:56.104861",
     "status": "completed"
    },
    "tags": []
   },
   "outputs": [
    {
     "data": {
      "image/png": "[encoded data removed]",
      "text/plain": [
       "<Figure size 720x432 with 1 Axes>"
      ]
     },
     "metadata": {
      "needs_background": "light"
     },
     "output_type": "display_data"
    }
   ],
   "source": [
    "plt.figure(figsize=(10,6))\n",
    "plt.plot('Age', 'Count', data = Age_count)\n",
    "plt.xlabel('Age')\n",
    "plt.ylabel('No. of participants')\n",
    "plt.title('Number of Particants of different Age')\n",
    "plt.tight_layout()\n",
    "plt.show()"
   ]
  },
  {
   "cell_type": "markdown",
   "id": "bd783dc2",
   "metadata": {
    "papermill": {
     "duration": 0.118905,
     "end_time": "2022-03-22T08:26:56.673392",
     "exception": false,
     "start_time": "2022-03-22T08:26:56.554487",
     "status": "completed"
    },
    "tags": []
   },
   "source": [
    "The graph of Number of Participants plotted against Age is a bell shaped curves and bell shaped curves follow a Gaussian Distribution. We can clearly see that this curve got its peak about a certain age, let's try visualizing that age by plotting a bar graph."
   ]
  },
  {
   "cell_type": "code",
   "execution_count": 54,
   "id": "db655fba",
   "metadata": {
    "execution": {
     "iopub.execute_input": "2022-03-22T08:26:56.977027Z",
     "iopub.status.busy": "2022-03-22T08:26:56.976182Z",
     "iopub.status.idle": "2022-03-22T08:26:58.114985Z",
     "shell.execute_reply": "2022-03-22T08:26:58.114191Z",
     "shell.execute_reply.started": "2022-03-22T07:26:51.550443Z"
    },
    "papermill": {
     "duration": 1.32218,
     "end_time": "2022-03-22T08:26:58.115121",
     "exception": false,
     "start_time": "2022-03-22T08:26:56.792941",
     "status": "completed"
    },
    "tags": []
   },
   "outputs": [
    {
     "data": {
      "image/png": "[encoded data removed]",
      "text/plain": [
       "<Figure size 1440x720 with 1 Axes>"
      ]
     },
     "metadata": {
      "needs_background": "light"
     },
     "output_type": "display_data"
    }
   ],
   "source": [
    "plt.figure(figsize= (20,10))\n",
    "sns.barplot(x = 'Age', y= 'Count', data= Age_count )\n",
    "plt.xticks(fontsize = 14, rotation = 90)\n",
    "plt.yticks(fontsize = 14)\n",
    "plt.tight_layout()\n",
    "plt.show()"
   ]
  },
  {
   "cell_type": "markdown",
   "id": "063401d3",
   "metadata": {
    "papermill": {
     "duration": 0.181297,
     "end_time": "2022-03-22T08:26:58.470687",
     "exception": false,
     "start_time": "2022-03-22T08:26:58.289390",
     "status": "completed"
    },
    "tags": []
   },
   "source": [
    "It seems the maximum number of participants are in the age of 15 to 40. So, let's calculate the percentage of participants in this age."
   ]
  },
  {
   "cell_type": "code",
   "execution_count": 55,
   "id": "a4166b69",
   "metadata": {
    "execution": {
     "iopub.execute_input": "2022-03-22T08:26:58.838433Z",
     "iopub.status.busy": "2022-03-22T08:26:58.837622Z",
     "iopub.status.idle": "2022-03-22T08:26:58.883220Z",
     "shell.execute_reply": "2022-03-22T08:26:58.883700Z",
     "shell.execute_reply.started": "2022-03-22T07:26:52.829606Z"
    },
    "papermill": {
     "duration": 0.232383,
     "end_time": "2022-03-22T08:26:58.883890",
     "exception": false,
     "start_time": "2022-03-22T08:26:58.651507",
     "status": "completed"
    },
    "tags": []
   },
   "outputs": [
    {
     "data": {
      "text/plain": [
       "96.57001270533127"
      ]
     },
     "execution_count": 55,
     "metadata": {},
     "output_type": "execute_result"
    }
   ],
   "source": [
    "fil =  (15 <= df1_summer['Age']) & (df1_summer['Age'] <= 40)\n",
    "per =  len(df1_summer[fil]) * 100 /len(df1_summer)\n",
    "per"
   ]
  },
  {
   "cell_type": "markdown",
   "id": "eead7a61",
   "metadata": {
    "papermill": {
     "duration": 0.186479,
     "end_time": "2022-03-22T08:26:59.258637",
     "exception": false,
     "start_time": "2022-03-22T08:26:59.072158",
     "status": "completed"
    },
    "tags": []
   },
   "source": [
    "Almost **97%** participants in olympics are of age between 15-40, with maximum partipants with age 23 years.\n",
    "\n",
    "There is one sharp dip in the graph between 25 to 26 years participants and the reason for it is because we replaced the missing age values in the data by a mean age. Apart from this it has no other specific importance."
   ]
  },
  {
   "cell_type": "markdown",
   "id": "34accd96",
   "metadata": {
    "papermill": {
     "duration": 0.180168,
     "end_time": "2022-03-22T08:26:59.619914",
     "exception": false,
     "start_time": "2022-03-22T08:26:59.439746",
     "status": "completed"
    },
    "tags": []
   },
   "source": [
    "If we notice then there are some sports in Olympics which have participnats over an age of 60. \n",
    "\n",
    "What sports people play after the age of 60?"
   ]
  },
  {
   "cell_type": "code",
   "execution_count": 56,
   "id": "6f45083e",
   "metadata": {
    "execution": {
     "iopub.execute_input": "2022-03-22T08:26:59.987620Z",
     "iopub.status.busy": "2022-03-22T08:26:59.986953Z",
     "iopub.status.idle": "2022-03-22T08:26:59.994413Z",
     "shell.execute_reply": "2022-03-22T08:26:59.993886Z",
     "shell.execute_reply.started": "2022-03-22T07:26:52.882333Z"
    },
    "papermill": {
     "duration": 0.193654,
     "end_time": "2022-03-22T08:26:59.994553",
     "exception": false,
     "start_time": "2022-03-22T08:26:59.800899",
     "status": "completed"
    },
    "tags": []
   },
   "outputs": [
    {
     "data": {
      "text/plain": [
       "2392      Art Competitions\n",
       "3944              Shooting\n",
       "7433      Art Competitions\n",
       "7496      Art Competitions\n",
       "7497      Art Competitions\n",
       "                ...       \n",
       "261035       Equestrianism\n",
       "261100             Archery\n",
       "261101             Archery\n",
       "261102             Archery\n",
       "266214    Art Competitions\n",
       "Name: Sport, Length: 323, dtype: object"
      ]
     },
     "execution_count": 56,
     "metadata": {},
     "output_type": "execute_result"
    }
   ],
   "source": [
    "filt = df1_summer['Age']> 60\n",
    "Sports_60 = df1_summer.loc[filt, 'Sport']\n",
    "Sports_60"
   ]
  },
  {
   "cell_type": "code",
   "execution_count": 57,
   "id": "5e5b674e",
   "metadata": {
    "execution": {
     "iopub.execute_input": "2022-03-22T08:27:00.373083Z",
     "iopub.status.busy": "2022-03-22T08:27:00.372379Z",
     "iopub.status.idle": "2022-03-22T08:27:00.375010Z",
     "shell.execute_reply": "2022-03-22T08:27:00.375503Z",
     "shell.execute_reply.started": "2022-03-22T07:26:52.894554Z"
    },
    "papermill": {
     "duration": 0.195612,
     "end_time": "2022-03-22T08:27:00.375675",
     "exception": false,
     "start_time": "2022-03-22T08:27:00.180063",
     "status": "completed"
    },
    "tags": []
   },
   "outputs": [
    {
     "data": {
      "text/plain": [
       "Art Competitions    67.492260\n",
       "Shooting            10.835913\n",
       "Equestrianism        9.597523\n",
       "Archery              5.882353\n",
       "Sailing              4.953560\n",
       "Fencing              0.928793\n",
       "Roque                0.309598\n",
       "Name: Sport, dtype: float64"
      ]
     },
     "execution_count": 57,
     "metadata": {},
     "output_type": "execute_result"
    }
   ],
   "source": [
    "Sport_60_percent = Sports_60.value_counts() * 100 /len(Sports_60)\n",
    "Sport_60_percent"
   ]
  },
  {
   "cell_type": "markdown",
   "id": "2b555a28",
   "metadata": {
    "papermill": {
     "duration": 0.181163,
     "end_time": "2022-03-22T08:27:00.738873",
     "exception": false,
     "start_time": "2022-03-22T08:27:00.557710",
     "status": "completed"
    },
    "tags": []
   },
   "source": [
    "68% participants above the age of 60 have participated in Art Competitions. Art competitions formed part of the modern Olympic Games during its early years, from 1912 to 1948.\n",
    "\n",
    "Let's visualize the percentage of sports contribution played by the participants of age greater than 60."
   ]
  },
  {
   "cell_type": "code",
   "execution_count": 58,
   "id": "86632233",
   "metadata": {
    "execution": {
     "iopub.execute_input": "2022-03-22T08:27:01.106075Z",
     "iopub.status.busy": "2022-03-22T08:27:01.105327Z",
     "iopub.status.idle": "2022-03-22T08:27:01.319275Z",
     "shell.execute_reply": "2022-03-22T08:27:01.318615Z",
     "shell.execute_reply.started": "2022-03-22T07:26:52.915624Z"
    },
    "papermill": {
     "duration": 0.398108,
     "end_time": "2022-03-22T08:27:01.319410",
     "exception": false,
     "start_time": "2022-03-22T08:27:00.921302",
     "status": "completed"
    },
    "tags": []
   },
   "outputs": [
    {
     "data": {
      "image/png": "[encoded data removed]",
      "text/plain": [
       "<Figure size 864x432 with 1 Axes>"
      ]
     },
     "metadata": {
      "needs_background": "light"
     },
     "output_type": "display_data"
    }
   ],
   "source": [
    "plt.figure(figsize = (12,6))\n",
    "sns.barplot(x = Sport_60_percent.index, y = Sport_60_percent)\n",
    "plt.xlabel('Sports')\n",
    "plt.ylabel('Percentage')\n",
    "plt.title('Sports Percentage over 60 years')\n",
    "plt.tight_layout()\n",
    "plt.show()"
   ]
  },
  {
   "cell_type": "markdown",
   "id": "c1498530",
   "metadata": {
    "papermill": {
     "duration": 0.185039,
     "end_time": "2022-03-22T08:27:01.687421",
     "exception": false,
     "start_time": "2022-03-22T08:27:01.502382",
     "status": "completed"
    },
    "tags": []
   },
   "source": [
    "### Question 4: Which sports have the maximum contribution in the summer olympics?"
   ]
  },
  {
   "cell_type": "code",
   "execution_count": 59,
   "id": "649504b9",
   "metadata": {
    "execution": {
     "iopub.execute_input": "2022-03-22T08:27:02.072821Z",
     "iopub.status.busy": "2022-03-22T08:27:02.072182Z",
     "iopub.status.idle": "2022-03-22T08:27:02.092129Z",
     "shell.execute_reply": "2022-03-22T08:27:02.092678Z",
     "shell.execute_reply.started": "2022-03-22T07:26:53.208041Z"
    },
    "papermill": {
     "duration": 0.21779,
     "end_time": "2022-03-22T08:27:02.092864",
     "exception": false,
     "start_time": "2022-03-22T08:27:01.875074",
     "status": "completed"
    },
    "tags": []
   },
   "outputs": [
    {
     "data": {
      "text/html": [
       "<div>\n",
       "<style scoped>\n",
       "    .dataframe tbody tr th:only-of-type {\n",
       "        vertical-align: middle;\n",
       "    }\n",
       "\n",
       "    .dataframe tbody tr th {\n",
       "        vertical-align: top;\n",
       "    }\n",
       "\n",
       "    .dataframe thead th {\n",
       "        text-align: right;\n",
       "    }\n",
       "</style>\n",
       "<table border=\"1\" class=\"dataframe\">\n",
       "  <thead>\n",
       "    <tr style=\"text-align: right;\">\n",
       "      <th></th>\n",
       "      <th>ID</th>\n",
       "      <th>Name</th>\n",
       "      <th>Sex</th>\n",
       "      <th>Age</th>\n",
       "      <th>Height</th>\n",
       "      <th>Weight</th>\n",
       "      <th>Team</th>\n",
       "      <th>NOC</th>\n",
       "      <th>Games</th>\n",
       "      <th>Year</th>\n",
       "      <th>Season</th>\n",
       "      <th>City</th>\n",
       "      <th>Sport</th>\n",
       "      <th>Event</th>\n",
       "      <th>Medal</th>\n",
       "    </tr>\n",
       "  </thead>\n",
       "  <tbody>\n",
       "    <tr>\n",
       "      <th>0</th>\n",
       "      <td>1</td>\n",
       "      <td>A Dijiang</td>\n",
       "      <td>M</td>\n",
       "      <td>24.0</td>\n",
       "      <td>180.000000</td>\n",
       "      <td>80.00000</td>\n",
       "      <td>China</td>\n",
       "      <td>CHN</td>\n",
       "      <td>1992 Summer</td>\n",
       "      <td>1992</td>\n",
       "      <td>Summer</td>\n",
       "      <td>Barcelona</td>\n",
       "      <td>Basketball</td>\n",
       "      <td>Basketball Men's Basketball</td>\n",
       "      <td>Not Won</td>\n",
       "    </tr>\n",
       "    <tr>\n",
       "      <th>1</th>\n",
       "      <td>2</td>\n",
       "      <td>A Lamusi</td>\n",
       "      <td>M</td>\n",
       "      <td>23.0</td>\n",
       "      <td>170.000000</td>\n",
       "      <td>60.00000</td>\n",
       "      <td>China</td>\n",
       "      <td>CHN</td>\n",
       "      <td>2012 Summer</td>\n",
       "      <td>2012</td>\n",
       "      <td>Summer</td>\n",
       "      <td>London</td>\n",
       "      <td>Judo</td>\n",
       "      <td>Judo Men's Extra-Lightweight</td>\n",
       "      <td>Not Won</td>\n",
       "    </tr>\n",
       "    <tr>\n",
       "      <th>2</th>\n",
       "      <td>3</td>\n",
       "      <td>Gunnar Nielsen Aaby</td>\n",
       "      <td>M</td>\n",
       "      <td>24.0</td>\n",
       "      <td>175.515551</td>\n",
       "      <td>70.68906</td>\n",
       "      <td>Denmark</td>\n",
       "      <td>DEN</td>\n",
       "      <td>1920 Summer</td>\n",
       "      <td>1920</td>\n",
       "      <td>Summer</td>\n",
       "      <td>Antwerpen</td>\n",
       "      <td>Football</td>\n",
       "      <td>Football Men's Football</td>\n",
       "      <td>Not Won</td>\n",
       "    </tr>\n",
       "    <tr>\n",
       "      <th>3</th>\n",
       "      <td>4</td>\n",
       "      <td>Edgar Lindenau Aabye</td>\n",
       "      <td>M</td>\n",
       "      <td>34.0</td>\n",
       "      <td>175.515551</td>\n",
       "      <td>70.68906</td>\n",
       "      <td>Denmark/Sweden</td>\n",
       "      <td>DEN</td>\n",
       "      <td>1900 Summer</td>\n",
       "      <td>1900</td>\n",
       "      <td>Summer</td>\n",
       "      <td>Paris</td>\n",
       "      <td>Tug-Of-War</td>\n",
       "      <td>Tug-Of-War Men's Tug-Of-War</td>\n",
       "      <td>Gold</td>\n",
       "    </tr>\n",
       "    <tr>\n",
       "      <th>26</th>\n",
       "      <td>8</td>\n",
       "      <td>Cornelia \"Cor\" Aalten (-Strannood)</td>\n",
       "      <td>F</td>\n",
       "      <td>18.0</td>\n",
       "      <td>168.000000</td>\n",
       "      <td>70.68906</td>\n",
       "      <td>Netherlands</td>\n",
       "      <td>NED</td>\n",
       "      <td>1932 Summer</td>\n",
       "      <td>1932</td>\n",
       "      <td>Summer</td>\n",
       "      <td>Los Angeles</td>\n",
       "      <td>Athletics</td>\n",
       "      <td>Athletics Women's 100 metres</td>\n",
       "      <td>Not Won</td>\n",
       "    </tr>\n",
       "  </tbody>\n",
       "</table>\n",
       "</div>"
      ],
      "text/plain": [
       "    ID                                Name Sex   Age      Height    Weight  \\\n",
       "0    1                           A Dijiang   M  24.0  180.000000  80.00000   \n",
       "1    2                            A Lamusi   M  23.0  170.000000  60.00000   \n",
       "2    3                 Gunnar Nielsen Aaby   M  24.0  175.515551  70.68906   \n",
       "3    4                Edgar Lindenau Aabye   M  34.0  175.515551  70.68906   \n",
       "26   8  Cornelia \"Cor\" Aalten (-Strannood)   F  18.0  168.000000  70.68906   \n",
       "\n",
       "              Team  NOC        Games  Year  Season         City       Sport  \\\n",
       "0            China  CHN  1992 Summer  1992  Summer    Barcelona  Basketball   \n",
       "1            China  CHN  2012 Summer  2012  Summer       London        Judo   \n",
       "2          Denmark  DEN  1920 Summer  1920  Summer    Antwerpen    Football   \n",
       "3   Denmark/Sweden  DEN  1900 Summer  1900  Summer        Paris  Tug-Of-War   \n",
       "26     Netherlands  NED  1932 Summer  1932  Summer  Los Angeles   Athletics   \n",
       "\n",
       "                           Event    Medal  \n",
       "0    Basketball Men's Basketball  Not Won  \n",
       "1   Judo Men's Extra-Lightweight  Not Won  \n",
       "2        Football Men's Football  Not Won  \n",
       "3    Tug-Of-War Men's Tug-Of-War     Gold  \n",
       "26  Athletics Women's 100 metres  Not Won  "
      ]
     },
     "execution_count": 59,
     "metadata": {},
     "output_type": "execute_result"
    }
   ],
   "source": [
    "df1_summer.head()"
   ]
  },
  {
   "cell_type": "markdown",
   "id": "752dc4d2",
   "metadata": {
    "papermill": {
     "duration": 0.18327,
     "end_time": "2022-03-22T08:27:02.463137",
     "exception": false,
     "start_time": "2022-03-22T08:27:02.279867",
     "status": "completed"
    },
    "tags": []
   },
   "source": [
    "Lots of sports are team event so we cannot directly apply the value_count() and find the sports with maximum contribution in olympics. We will attempt to consider the team events as individual events. \n",
    "\n",
    "So, we will first drop the rows which are from the same year, played by the same team in the same sport and in the same event."
   ]
  },
  {
   "cell_type": "code",
   "execution_count": 60,
   "id": "9202323d",
   "metadata": {
    "execution": {
     "iopub.execute_input": "2022-03-22T08:27:02.849587Z",
     "iopub.status.busy": "2022-03-22T08:27:02.844449Z",
     "iopub.status.idle": "2022-03-22T08:27:03.032042Z",
     "shell.execute_reply": "2022-03-22T08:27:03.032587Z",
     "shell.execute_reply.started": "2022-03-22T08:00:25.653096Z"
    },
    "papermill": {
     "duration": 0.383611,
     "end_time": "2022-03-22T08:27:03.032797",
     "exception": false,
     "start_time": "2022-03-22T08:27:02.649186",
     "status": "completed"
    },
    "tags": []
   },
   "outputs": [
    {
     "data": {
      "text/html": [
       "<div>\n",
       "<style scoped>\n",
       "    .dataframe tbody tr th:only-of-type {\n",
       "        vertical-align: middle;\n",
       "    }\n",
       "\n",
       "    .dataframe tbody tr th {\n",
       "        vertical-align: top;\n",
       "    }\n",
       "\n",
       "    .dataframe thead th {\n",
       "        text-align: right;\n",
       "    }\n",
       "</style>\n",
       "<table border=\"1\" class=\"dataframe\">\n",
       "  <thead>\n",
       "    <tr style=\"text-align: right;\">\n",
       "      <th></th>\n",
       "      <th>ID</th>\n",
       "      <th>Name</th>\n",
       "      <th>Sex</th>\n",
       "      <th>Age</th>\n",
       "      <th>Height</th>\n",
       "      <th>Weight</th>\n",
       "      <th>Team</th>\n",
       "      <th>NOC</th>\n",
       "      <th>Games</th>\n",
       "      <th>Year</th>\n",
       "      <th>Season</th>\n",
       "      <th>City</th>\n",
       "      <th>Sport</th>\n",
       "      <th>Event</th>\n",
       "      <th>Medal</th>\n",
       "    </tr>\n",
       "  </thead>\n",
       "  <tbody>\n",
       "    <tr>\n",
       "      <th>70117</th>\n",
       "      <td>35708</td>\n",
       "      <td>Marie Lon Flameng</td>\n",
       "      <td>M</td>\n",
       "      <td>18.000000</td>\n",
       "      <td>175.515551</td>\n",
       "      <td>70.68906</td>\n",
       "      <td>France</td>\n",
       "      <td>FRA</td>\n",
       "      <td>1896 Summer</td>\n",
       "      <td>1896</td>\n",
       "      <td>Summer</td>\n",
       "      <td>Athina</td>\n",
       "      <td>Cycling</td>\n",
       "      <td>Cycling Men's 10,000 metres</td>\n",
       "      <td>Silver</td>\n",
       "    </tr>\n",
       "    <tr>\n",
       "      <th>182919</th>\n",
       "      <td>91932</td>\n",
       "      <td>Khios \"Konstantinos\" Paspatis</td>\n",
       "      <td>M</td>\n",
       "      <td>17.000000</td>\n",
       "      <td>175.515551</td>\n",
       "      <td>70.68906</td>\n",
       "      <td>Greece-2</td>\n",
       "      <td>GRE</td>\n",
       "      <td>1896 Summer</td>\n",
       "      <td>1896</td>\n",
       "      <td>Summer</td>\n",
       "      <td>Athina</td>\n",
       "      <td>Tennis</td>\n",
       "      <td>Tennis Men's Doubles</td>\n",
       "      <td>Not Won</td>\n",
       "    </tr>\n",
       "    <tr>\n",
       "      <th>7998</th>\n",
       "      <td>4431</td>\n",
       "      <td>Georgios Anninos</td>\n",
       "      <td>M</td>\n",
       "      <td>25.674053</td>\n",
       "      <td>175.515551</td>\n",
       "      <td>70.68906</td>\n",
       "      <td>Greece</td>\n",
       "      <td>GRE</td>\n",
       "      <td>1896 Summer</td>\n",
       "      <td>1896</td>\n",
       "      <td>Summer</td>\n",
       "      <td>Athina</td>\n",
       "      <td>Swimming</td>\n",
       "      <td>Swimming Men's 100 metres Freestyle</td>\n",
       "      <td>Not Won</td>\n",
       "    </tr>\n",
       "    <tr>\n",
       "      <th>56763</th>\n",
       "      <td>29084</td>\n",
       "      <td>Kurt Wilhelm Doerry</td>\n",
       "      <td>M</td>\n",
       "      <td>21.000000</td>\n",
       "      <td>179.000000</td>\n",
       "      <td>73.00000</td>\n",
       "      <td>Germany</td>\n",
       "      <td>GER</td>\n",
       "      <td>1896 Summer</td>\n",
       "      <td>1896</td>\n",
       "      <td>Summer</td>\n",
       "      <td>Athina</td>\n",
       "      <td>Athletics</td>\n",
       "      <td>Athletics Men's 400 metres</td>\n",
       "      <td>Not Won</td>\n",
       "    </tr>\n",
       "    <tr>\n",
       "      <th>76565</th>\n",
       "      <td>38860</td>\n",
       "      <td>Robert \"Bob\" Garrett</td>\n",
       "      <td>M</td>\n",
       "      <td>20.000000</td>\n",
       "      <td>188.000000</td>\n",
       "      <td>81.00000</td>\n",
       "      <td>United States</td>\n",
       "      <td>USA</td>\n",
       "      <td>1896 Summer</td>\n",
       "      <td>1896</td>\n",
       "      <td>Summer</td>\n",
       "      <td>Athina</td>\n",
       "      <td>Athletics</td>\n",
       "      <td>Athletics Men's Discus Throw</td>\n",
       "      <td>Gold</td>\n",
       "    </tr>\n",
       "    <tr>\n",
       "      <th>...</th>\n",
       "      <td>...</td>\n",
       "      <td>...</td>\n",
       "      <td>...</td>\n",
       "      <td>...</td>\n",
       "      <td>...</td>\n",
       "      <td>...</td>\n",
       "      <td>...</td>\n",
       "      <td>...</td>\n",
       "      <td>...</td>\n",
       "      <td>...</td>\n",
       "      <td>...</td>\n",
       "      <td>...</td>\n",
       "      <td>...</td>\n",
       "      <td>...</td>\n",
       "      <td>...</td>\n",
       "    </tr>\n",
       "    <tr>\n",
       "      <th>214651</th>\n",
       "      <td>107763</td>\n",
       "      <td>Brandon Schuster</td>\n",
       "      <td>M</td>\n",
       "      <td>18.000000</td>\n",
       "      <td>188.000000</td>\n",
       "      <td>75.00000</td>\n",
       "      <td>Samoa</td>\n",
       "      <td>SAM</td>\n",
       "      <td>2016 Summer</td>\n",
       "      <td>2016</td>\n",
       "      <td>Summer</td>\n",
       "      <td>Rio de Janeiro</td>\n",
       "      <td>Swimming</td>\n",
       "      <td>Swimming Men's 200 metres Freestyle</td>\n",
       "      <td>Not Won</td>\n",
       "    </tr>\n",
       "    <tr>\n",
       "      <th>132197</th>\n",
       "      <td>66530</td>\n",
       "      <td>Arthur Lanigan-O'Keeffe</td>\n",
       "      <td>M</td>\n",
       "      <td>24.000000</td>\n",
       "      <td>182.000000</td>\n",
       "      <td>76.00000</td>\n",
       "      <td>Ireland</td>\n",
       "      <td>IRL</td>\n",
       "      <td>2016 Summer</td>\n",
       "      <td>2016</td>\n",
       "      <td>Summer</td>\n",
       "      <td>Rio de Janeiro</td>\n",
       "      <td>Modern Pentathlon</td>\n",
       "      <td>Modern Pentathlon Men's Individual</td>\n",
       "      <td>Not Won</td>\n",
       "    </tr>\n",
       "    <tr>\n",
       "      <th>19616</th>\n",
       "      <td>10351</td>\n",
       "      <td>Katarna Bereov</td>\n",
       "      <td>F</td>\n",
       "      <td>28.000000</td>\n",
       "      <td>162.000000</td>\n",
       "      <td>49.00000</td>\n",
       "      <td>Slovakia</td>\n",
       "      <td>SVK</td>\n",
       "      <td>2016 Summer</td>\n",
       "      <td>2016</td>\n",
       "      <td>Summer</td>\n",
       "      <td>Rio de Janeiro</td>\n",
       "      <td>Athletics</td>\n",
       "      <td>Athletics Women's Marathon</td>\n",
       "      <td>Not Won</td>\n",
       "    </tr>\n",
       "    <tr>\n",
       "      <th>73762</th>\n",
       "      <td>37482</td>\n",
       "      <td>Takuro Fujii</td>\n",
       "      <td>M</td>\n",
       "      <td>31.000000</td>\n",
       "      <td>184.000000</td>\n",
       "      <td>82.00000</td>\n",
       "      <td>Japan</td>\n",
       "      <td>JPN</td>\n",
       "      <td>2016 Summer</td>\n",
       "      <td>2016</td>\n",
       "      <td>Summer</td>\n",
       "      <td>Rio de Janeiro</td>\n",
       "      <td>Swimming</td>\n",
       "      <td>Swimming Men's 4 x 100 metres Medley Relay</td>\n",
       "      <td>Not Won</td>\n",
       "    </tr>\n",
       "    <tr>\n",
       "      <th>103008</th>\n",
       "      <td>52116</td>\n",
       "      <td>Filip Ingebrigtsen</td>\n",
       "      <td>M</td>\n",
       "      <td>23.000000</td>\n",
       "      <td>189.000000</td>\n",
       "      <td>70.68906</td>\n",
       "      <td>Norway</td>\n",
       "      <td>NOR</td>\n",
       "      <td>2016 Summer</td>\n",
       "      <td>2016</td>\n",
       "      <td>Summer</td>\n",
       "      <td>Rio de Janeiro</td>\n",
       "      <td>Athletics</td>\n",
       "      <td>Athletics Men's 1,500 metres</td>\n",
       "      <td>Not Won</td>\n",
       "    </tr>\n",
       "  </tbody>\n",
       "</table>\n",
       "<p>98858 rows × 15 columns</p>\n",
       "</div>"
      ],
      "text/plain": [
       "            ID                           Name Sex        Age      Height  \\\n",
       "70117    35708              Marie Lon Flameng   M  18.000000  175.515551   \n",
       "182919   91932  Khios \"Konstantinos\" Paspatis   M  17.000000  175.515551   \n",
       "7998      4431               Georgios Anninos   M  25.674053  175.515551   \n",
       "56763    29084            Kurt Wilhelm Doerry   M  21.000000  179.000000   \n",
       "76565    38860           Robert \"Bob\" Garrett   M  20.000000  188.000000   \n",
       "...        ...                            ...  ..        ...         ...   \n",
       "214651  107763               Brandon Schuster   M  18.000000  188.000000   \n",
       "132197   66530        Arthur Lanigan-O'Keeffe   M  24.000000  182.000000   \n",
       "19616    10351                 Katarna Bereov   F  28.000000  162.000000   \n",
       "73762    37482                   Takuro Fujii   M  31.000000  184.000000   \n",
       "103008   52116             Filip Ingebrigtsen   M  23.000000  189.000000   \n",
       "\n",
       "          Weight           Team  NOC        Games  Year  Season  \\\n",
       "70117   70.68906         France  FRA  1896 Summer  1896  Summer   \n",
       "182919  70.68906       Greece-2  GRE  1896 Summer  1896  Summer   \n",
       "7998    70.68906         Greece  GRE  1896 Summer  1896  Summer   \n",
       "56763   73.00000        Germany  GER  1896 Summer  1896  Summer   \n",
       "76565   81.00000  United States  USA  1896 Summer  1896  Summer   \n",
       "...          ...            ...  ...          ...   ...     ...   \n",
       "214651  75.00000          Samoa  SAM  2016 Summer  2016  Summer   \n",
       "132197  76.00000        Ireland  IRL  2016 Summer  2016  Summer   \n",
       "19616   49.00000       Slovakia  SVK  2016 Summer  2016  Summer   \n",
       "73762   82.00000          Japan  JPN  2016 Summer  2016  Summer   \n",
       "103008  70.68906         Norway  NOR  2016 Summer  2016  Summer   \n",
       "\n",
       "                  City              Sport  \\\n",
       "70117           Athina            Cycling   \n",
       "182919          Athina             Tennis   \n",
       "7998            Athina           Swimming   \n",
       "56763           Athina          Athletics   \n",
       "76565           Athina          Athletics   \n",
       "...                ...                ...   \n",
       "214651  Rio de Janeiro           Swimming   \n",
       "132197  Rio de Janeiro  Modern Pentathlon   \n",
       "19616   Rio de Janeiro          Athletics   \n",
       "73762   Rio de Janeiro           Swimming   \n",
       "103008  Rio de Janeiro          Athletics   \n",
       "\n",
       "                                             Event    Medal  \n",
       "70117                  Cycling Men's 10,000 metres   Silver  \n",
       "182919                        Tennis Men's Doubles  Not Won  \n",
       "7998           Swimming Men's 100 metres Freestyle  Not Won  \n",
       "56763                   Athletics Men's 400 metres  Not Won  \n",
       "76565                 Athletics Men's Discus Throw     Gold  \n",
       "...                                            ...      ...  \n",
       "214651         Swimming Men's 200 metres Freestyle  Not Won  \n",
       "132197          Modern Pentathlon Men's Individual  Not Won  \n",
       "19616                   Athletics Women's Marathon  Not Won  \n",
       "73762   Swimming Men's 4 x 100 metres Medley Relay  Not Won  \n",
       "103008                Athletics Men's 1,500 metres  Not Won  \n",
       "\n",
       "[98858 rows x 15 columns]"
      ]
     },
     "execution_count": 60,
     "metadata": {},
     "output_type": "execute_result"
    }
   ],
   "source": [
    "Sports_df = df1_summer[~(df1_summer[['Team','Sport','Year','Event']].duplicated(keep = 'first'))].sort_values('Year')\n",
    "Sports_df"
   ]
  },
  {
   "cell_type": "markdown",
   "id": "8b6a4376",
   "metadata": {
    "papermill": {
     "duration": 0.185599,
     "end_time": "2022-03-22T08:27:03.405389",
     "exception": false,
     "start_time": "2022-03-22T08:27:03.219790",
     "status": "completed"
    },
    "tags": []
   },
   "source": [
    "Let's plot the bar graph using countplot() to get the idea of sports which have the maximum contribution in the summer olympics from 1896 to 2016."
   ]
  },
  {
   "cell_type": "code",
   "execution_count": 61,
   "id": "e48549bb",
   "metadata": {
    "execution": {
     "iopub.execute_input": "2022-03-22T08:27:03.799486Z",
     "iopub.status.busy": "2022-03-22T08:27:03.795127Z",
     "iopub.status.idle": "2022-03-22T08:27:04.574884Z",
     "shell.execute_reply": "2022-03-22T08:27:04.574450Z",
     "shell.execute_reply.started": "2022-03-22T07:26:53.417090Z"
    },
    "papermill": {
     "duration": 0.984635,
     "end_time": "2022-03-22T08:27:04.574992",
     "exception": false,
     "start_time": "2022-03-22T08:27:03.590357",
     "status": "completed"
    },
    "tags": []
   },
   "outputs": [
    {
     "data": {
      "image/png": "[encoded data removed]",
      "text/plain": [
       "<Figure size 1440x720 with 1 Axes>"
      ]
     },
     "metadata": {
      "needs_background": "light"
     },
     "output_type": "display_data"
    }
   ],
   "source": [
    "plt.figure(figsize=(20, 10))\n",
    "plt.xticks(rotation = 75, fontsize = 14)\n",
    "sns.countplot(x = 'Sport', data = Sports_df)\n",
    "plt.title('Sports played in 120 years')\n",
    "plt.tight_layout()\n",
    "plt.show()"
   ]
  },
  {
   "cell_type": "markdown",
   "id": "245e81d3",
   "metadata": {
    "papermill": {
     "duration": 0.126179,
     "end_time": "2022-03-22T08:27:04.827514",
     "exception": false,
     "start_time": "2022-03-22T08:27:04.701335",
     "status": "completed"
    },
    "tags": []
   },
   "source": [
    "We can clearly see that Athletics has been the most prominent sports in the summer olympics history followed by the sports like Swimming, Wrestling, Gymnastics and Shooting. By doing a little bit of research I got to know that the International Olympic Committee has reportedly voted to drop **Wrestling** from the 2020 Olympics."
   ]
  },
  {
   "cell_type": "markdown",
   "id": "ffa14937",
   "metadata": {
    "papermill": {
     "duration": 0.127681,
     "end_time": "2022-03-22T08:27:05.082385",
     "exception": false,
     "start_time": "2022-03-22T08:27:04.954704",
     "status": "completed"
    },
    "tags": []
   },
   "source": [
    "### Question 5: What is the male and female participation trend?"
   ]
  },
  {
   "cell_type": "markdown",
   "id": "c96a67b9",
   "metadata": {
    "papermill": {
     "duration": 0.188934,
     "end_time": "2022-03-22T08:27:05.399057",
     "exception": false,
     "start_time": "2022-03-22T08:27:05.210123",
     "status": "completed"
    },
    "tags": []
   },
   "source": [
    "Let's find only male participation in summer olympics from 1896 to 2016."
   ]
  },
  {
   "cell_type": "code",
   "execution_count": 62,
   "id": "b5aa6812",
   "metadata": {
    "execution": {
     "iopub.execute_input": "2022-03-22T08:27:05.808842Z",
     "iopub.status.busy": "2022-03-22T08:27:05.776754Z",
     "iopub.status.idle": "2022-03-22T08:27:05.848531Z",
     "shell.execute_reply": "2022-03-22T08:27:05.848091Z",
     "shell.execute_reply.started": "2022-03-22T07:26:54.544266Z"
    },
    "papermill": {
     "duration": 0.26148,
     "end_time": "2022-03-22T08:27:05.848662",
     "exception": false,
     "start_time": "2022-03-22T08:27:05.587182",
     "status": "completed"
    },
    "tags": []
   },
   "outputs": [
    {
     "data": {
      "text/plain": [
       "1896     380\n",
       "1900    1865\n",
       "1904    1285\n",
       "1906    1722\n",
       "1908    3022\n",
       "1912    3953\n",
       "1920    4158\n",
       "1924    4876\n",
       "1928    4265\n",
       "1932    2200\n",
       "1936    5804\n",
       "1948    5698\n",
       "1952    6773\n",
       "1956    4234\n",
       "1960    6684\n",
       "1964    6354\n",
       "1968    6811\n",
       "1972    8111\n",
       "1976    6469\n",
       "1980    5435\n",
       "1984    7007\n",
       "1988    8494\n",
       "1992    8853\n",
       "1996    8772\n",
       "2000    8390\n",
       "2004    7897\n",
       "2008    7786\n",
       "2012    7105\n",
       "2016    7465\n",
       "Name: Year, dtype: int64"
      ]
     },
     "execution_count": 62,
     "metadata": {},
     "output_type": "execute_result"
    }
   ],
   "source": [
    "filt1 = df1_summer['Sex'] == 'M'\n",
    "Men_year = df1_summer[filt1]['Year'].value_counts().sort_index()\n",
    "Men_year"
   ]
  },
  {
   "cell_type": "markdown",
   "id": "96d10e2b",
   "metadata": {
    "papermill": {
     "duration": 0.187199,
     "end_time": "2022-03-22T08:27:06.159187",
     "exception": false,
     "start_time": "2022-03-22T08:27:05.971988",
     "status": "completed"
    },
    "tags": []
   },
   "source": [
    "Now, let's find only female participation in summer olympics from 1896 to 2016."
   ]
  },
  {
   "cell_type": "code",
   "execution_count": 63,
   "id": "ba90b06d",
   "metadata": {
    "execution": {
     "iopub.execute_input": "2022-03-22T08:27:06.434978Z",
     "iopub.status.busy": "2022-03-22T08:27:06.434488Z",
     "iopub.status.idle": "2022-03-22T08:27:06.484465Z",
     "shell.execute_reply": "2022-03-22T08:27:06.484843Z",
     "shell.execute_reply.started": "2022-03-22T07:26:54.619036Z"
    },
    "papermill": {
     "duration": 0.177474,
     "end_time": "2022-03-22T08:27:06.484978",
     "exception": false,
     "start_time": "2022-03-22T08:27:06.307504",
     "status": "completed"
    },
    "tags": []
   },
   "outputs": [
    {
     "data": {
      "text/plain": [
       "1900      33\n",
       "1904      16\n",
       "1906      11\n",
       "1908      47\n",
       "1912      87\n",
       "1920     134\n",
       "1924     234\n",
       "1928     391\n",
       "1932     265\n",
       "1936     447\n",
       "1948     610\n",
       "1952    1497\n",
       "1956     893\n",
       "1960    1435\n",
       "1964    1348\n",
       "1968    1777\n",
       "1972    2193\n",
       "1976    2172\n",
       "1980    1756\n",
       "1984    2447\n",
       "1988    3543\n",
       "1992    4124\n",
       "1996    5008\n",
       "2000    5431\n",
       "2004    5546\n",
       "2008    5816\n",
       "2012    5815\n",
       "2016    6223\n",
       "Name: Year, dtype: int64"
      ]
     },
     "execution_count": 63,
     "metadata": {},
     "output_type": "execute_result"
    }
   ],
   "source": [
    "filt2 = df1_summer['Sex'] == 'F'\n",
    "Women_year = df1_summer[filt2]['Year'].value_counts().sort_index()\n",
    "Women_year"
   ]
  },
  {
   "cell_type": "markdown",
   "id": "5c459f81",
   "metadata": {
    "papermill": {
     "duration": 0.126501,
     "end_time": "2022-03-22T08:27:06.736392",
     "exception": false,
     "start_time": "2022-03-22T08:27:06.609891",
     "status": "completed"
    },
    "tags": []
   },
   "source": [
    "Let's plot both the data series and check the male and female participation trend over the years."
   ]
  },
  {
   "cell_type": "code",
   "execution_count": 64,
   "id": "205fb71e",
   "metadata": {
    "execution": {
     "iopub.execute_input": "2022-03-22T08:27:07.053270Z",
     "iopub.status.busy": "2022-03-22T08:27:07.048485Z",
     "iopub.status.idle": "2022-03-22T08:27:07.293032Z",
     "shell.execute_reply": "2022-03-22T08:27:07.292478Z",
     "shell.execute_reply.started": "2022-03-22T07:26:54.680135Z"
    },
    "papermill": {
     "duration": 0.430104,
     "end_time": "2022-03-22T08:27:07.293221",
     "exception": false,
     "start_time": "2022-03-22T08:27:06.863117",
     "status": "completed"
    },
    "tags": []
   },
   "outputs": [
    {
     "data": {
      "image/png": "[encoded data removed]",
      "text/plain": [
       "<Figure size 720x432 with 1 Axes>"
      ]
     },
     "metadata": {
      "needs_background": "light"
     },
     "output_type": "display_data"
    }
   ],
   "source": [
    "plt.figure(figsize = (10,6))\n",
    "Men_year.plot(label = 'Men', color = '#9733FF')\n",
    "Women_year.plot(label = 'Women', color = '#33F7FF' )\n",
    "\n",
    "plt.xlabel('Years')\n",
    "plt.title('Variation in Male vs Female participation')\n",
    "plt.legend()\n",
    "plt.tight_layout()\n",
    "plt.show()"
   ]
  },
  {
   "cell_type": "markdown",
   "id": "f20ca7e7",
   "metadata": {
    "papermill": {
     "duration": 0.185541,
     "end_time": "2022-03-22T08:27:07.666800",
     "exception": false,
     "start_time": "2022-03-22T08:27:07.481259",
     "status": "completed"
    },
    "tags": []
   },
   "source": [
    "No data is available for the women during the 1896 Olympics. After crosschecking I got to know that the Women were not allowed to participate in 1896 olympics.\n",
    "\n",
    "Let's plot the bargraph for both Men and Women and see the the highs and lows of the participation year by year."
   ]
  },
  {
   "cell_type": "code",
   "execution_count": 65,
   "id": "83689360",
   "metadata": {
    "execution": {
     "iopub.execute_input": "2022-03-22T08:27:08.058696Z",
     "iopub.status.busy": "2022-03-22T08:27:08.058028Z",
     "iopub.status.idle": "2022-03-22T08:27:08.816634Z",
     "shell.execute_reply": "2022-03-22T08:27:08.817170Z",
     "shell.execute_reply.started": "2022-03-22T07:26:54.906851Z"
    },
    "papermill": {
     "duration": 0.958668,
     "end_time": "2022-03-22T08:27:08.817332",
     "exception": false,
     "start_time": "2022-03-22T08:27:07.858664",
     "status": "completed"
    },
    "tags": []
   },
   "outputs": [
    {
     "data": {
      "image/png": "[encoded data removed]",
      "text/plain": [
       "<Figure size 1440x720 with 1 Axes>"
      ]
     },
     "metadata": {
      "needs_background": "light"
     },
     "output_type": "display_data"
    }
   ],
   "source": [
    "plt.figure(figsize = (20,10))\n",
    "sns.countplot(x = 'Year', hue = 'Sex', data = df1_summer, palette = \"flare\")\n",
    "\n",
    "\n",
    "plt.xlabel('Years')\n",
    "plt.ylabel('No. of participants')\n",
    "plt.title('Men and Women participation over the years')\n",
    "\n",
    "plt.legend()\n",
    "plt.tight_layout()\n",
    "plt.show()"
   ]
  },
  {
   "cell_type": "markdown",
   "id": "b0cf7514",
   "metadata": {
    "papermill": {
     "duration": 0.191841,
     "end_time": "2022-03-22T08:27:09.199640",
     "exception": false,
     "start_time": "2022-03-22T08:27:09.007799",
     "status": "completed"
    },
    "tags": []
   },
   "source": [
    "We can clearly see that the overall participation of both Men and Women has increased over the years with a slight dip in Men participation after the years 1996. \n",
    "\n",
    "There were certain times in the century when the overall participation has dropped drastically, the reasons for that was the Great Depression of 1932, 1956 Olympic Bycott and 1980 Olympics Bycott, 1980 Olympics which was hosted in Moscow was bycotted by many nation due to Russia invasion of Afghanistan."
   ]
  },
  {
   "cell_type": "markdown",
   "id": "8284453b",
   "metadata": {
    "papermill": {
     "duration": 0.127049,
     "end_time": "2022-03-22T08:27:09.466963",
     "exception": false,
     "start_time": "2022-03-22T08:27:09.339914",
     "status": "completed"
    },
    "tags": []
   },
   "source": [
    "Now let's find the Sports in which Women have won the medals."
   ]
  },
  {
   "cell_type": "code",
   "execution_count": 66,
   "id": "bfb16b98",
   "metadata": {
    "execution": {
     "iopub.execute_input": "2022-03-22T08:27:09.792199Z",
     "iopub.status.busy": "2022-03-22T08:27:09.791664Z",
     "iopub.status.idle": "2022-03-22T08:27:09.818247Z",
     "shell.execute_reply": "2022-03-22T08:27:09.817602Z",
     "shell.execute_reply.started": "2022-03-22T08:07:29.405843Z"
    },
    "papermill": {
     "duration": 0.222932,
     "end_time": "2022-03-22T08:27:09.818381",
     "exception": false,
     "start_time": "2022-03-22T08:27:09.595449",
     "status": "completed"
    },
    "tags": []
   },
   "outputs": [
    {
     "data": {
      "text/html": [
       "<div>\n",
       "<style scoped>\n",
       "    .dataframe tbody tr th:only-of-type {\n",
       "        vertical-align: middle;\n",
       "    }\n",
       "\n",
       "    .dataframe tbody tr th {\n",
       "        vertical-align: top;\n",
       "    }\n",
       "\n",
       "    .dataframe thead th {\n",
       "        text-align: right;\n",
       "    }\n",
       "</style>\n",
       "<table border=\"1\" class=\"dataframe\">\n",
       "  <thead>\n",
       "    <tr style=\"text-align: right;\">\n",
       "      <th></th>\n",
       "      <th>ID</th>\n",
       "      <th>Name</th>\n",
       "      <th>Sex</th>\n",
       "      <th>Age</th>\n",
       "      <th>Height</th>\n",
       "      <th>Weight</th>\n",
       "      <th>Team</th>\n",
       "      <th>NOC</th>\n",
       "      <th>Games</th>\n",
       "      <th>Year</th>\n",
       "      <th>Season</th>\n",
       "      <th>City</th>\n",
       "      <th>Sport</th>\n",
       "      <th>Event</th>\n",
       "      <th>Medal</th>\n",
       "    </tr>\n",
       "  </thead>\n",
       "  <tbody>\n",
       "    <tr>\n",
       "      <th>79</th>\n",
       "      <td>21</td>\n",
       "      <td>Ragnhild Margrethe Aamodt</td>\n",
       "      <td>F</td>\n",
       "      <td>27.0</td>\n",
       "      <td>163.000000</td>\n",
       "      <td>70.68906</td>\n",
       "      <td>Norway</td>\n",
       "      <td>NOR</td>\n",
       "      <td>2008 Summer</td>\n",
       "      <td>2008</td>\n",
       "      <td>Summer</td>\n",
       "      <td>Beijing</td>\n",
       "      <td>Handball</td>\n",
       "      <td>Handball Women's Handball</td>\n",
       "      <td>Gold</td>\n",
       "    </tr>\n",
       "    <tr>\n",
       "      <th>91</th>\n",
       "      <td>29</td>\n",
       "      <td>Willemien Aardenburg</td>\n",
       "      <td>F</td>\n",
       "      <td>22.0</td>\n",
       "      <td>175.515551</td>\n",
       "      <td>70.68906</td>\n",
       "      <td>Netherlands</td>\n",
       "      <td>NED</td>\n",
       "      <td>1988 Summer</td>\n",
       "      <td>1988</td>\n",
       "      <td>Summer</td>\n",
       "      <td>Seoul</td>\n",
       "      <td>Hockey</td>\n",
       "      <td>Hockey Women's Hockey</td>\n",
       "      <td>Bronze</td>\n",
       "    </tr>\n",
       "    <tr>\n",
       "      <th>105</th>\n",
       "      <td>37</td>\n",
       "      <td>Ann Kristin Aarnes</td>\n",
       "      <td>F</td>\n",
       "      <td>23.0</td>\n",
       "      <td>182.000000</td>\n",
       "      <td>64.00000</td>\n",
       "      <td>Norway</td>\n",
       "      <td>NOR</td>\n",
       "      <td>1996 Summer</td>\n",
       "      <td>1996</td>\n",
       "      <td>Summer</td>\n",
       "      <td>Atlanta</td>\n",
       "      <td>Football</td>\n",
       "      <td>Football Women's Football</td>\n",
       "      <td>Bronze</td>\n",
       "    </tr>\n",
       "    <tr>\n",
       "      <th>161</th>\n",
       "      <td>65</td>\n",
       "      <td>Patimat Abakarova</td>\n",
       "      <td>F</td>\n",
       "      <td>21.0</td>\n",
       "      <td>165.000000</td>\n",
       "      <td>49.00000</td>\n",
       "      <td>Azerbaijan</td>\n",
       "      <td>AZE</td>\n",
       "      <td>2016 Summer</td>\n",
       "      <td>2016</td>\n",
       "      <td>Summer</td>\n",
       "      <td>Rio de Janeiro</td>\n",
       "      <td>Taekwondo</td>\n",
       "      <td>Taekwondo Women's Flyweight</td>\n",
       "      <td>Bronze</td>\n",
       "    </tr>\n",
       "    <tr>\n",
       "      <th>163</th>\n",
       "      <td>67</td>\n",
       "      <td>Mariya Vasilyevna Abakumova (-Tarabina)</td>\n",
       "      <td>F</td>\n",
       "      <td>22.0</td>\n",
       "      <td>179.000000</td>\n",
       "      <td>80.00000</td>\n",
       "      <td>Russia</td>\n",
       "      <td>RUS</td>\n",
       "      <td>2008 Summer</td>\n",
       "      <td>2008</td>\n",
       "      <td>Summer</td>\n",
       "      <td>Beijing</td>\n",
       "      <td>Athletics</td>\n",
       "      <td>Athletics Women's Javelin Throw</td>\n",
       "      <td>Silver</td>\n",
       "    </tr>\n",
       "  </tbody>\n",
       "</table>\n",
       "</div>"
      ],
      "text/plain": [
       "     ID                                     Name Sex   Age      Height  \\\n",
       "79   21                Ragnhild Margrethe Aamodt   F  27.0  163.000000   \n",
       "91   29                     Willemien Aardenburg   F  22.0  175.515551   \n",
       "105  37                       Ann Kristin Aarnes   F  23.0  182.000000   \n",
       "161  65                        Patimat Abakarova   F  21.0  165.000000   \n",
       "163  67  Mariya Vasilyevna Abakumova (-Tarabina)   F  22.0  179.000000   \n",
       "\n",
       "       Weight         Team  NOC        Games  Year  Season            City  \\\n",
       "79   70.68906       Norway  NOR  2008 Summer  2008  Summer         Beijing   \n",
       "91   70.68906  Netherlands  NED  1988 Summer  1988  Summer           Seoul   \n",
       "105  64.00000       Norway  NOR  1996 Summer  1996  Summer         Atlanta   \n",
       "161  49.00000   Azerbaijan  AZE  2016 Summer  2016  Summer  Rio de Janeiro   \n",
       "163  80.00000       Russia  RUS  2008 Summer  2008  Summer         Beijing   \n",
       "\n",
       "         Sport                            Event   Medal  \n",
       "79    Handball        Handball Women's Handball    Gold  \n",
       "91      Hockey            Hockey Women's Hockey  Bronze  \n",
       "105   Football        Football Women's Football  Bronze  \n",
       "161  Taekwondo      Taekwondo Women's Flyweight  Bronze  \n",
       "163  Athletics  Athletics Women's Javelin Throw  Silver  "
      ]
     },
     "execution_count": 66,
     "metadata": {},
     "output_type": "execute_result"
    }
   ],
   "source": [
    "filt = (df1_summer['Sex'] == 'F') & (df1_summer['Medal'] != 'Not Won' )\n",
    "Medal_women = df1_summer[filt]\n",
    "Medal_women.head()"
   ]
  },
  {
   "cell_type": "code",
   "execution_count": 67,
   "id": "165214b9",
   "metadata": {
    "execution": {
     "iopub.execute_input": "2022-03-22T08:27:10.226218Z",
     "iopub.status.busy": "2022-03-22T08:27:10.221865Z",
     "iopub.status.idle": "2022-03-22T08:27:10.969472Z",
     "shell.execute_reply": "2022-03-22T08:27:10.970122Z",
     "shell.execute_reply.started": "2022-03-22T07:26:55.678972Z"
    },
    "papermill": {
     "duration": 0.960378,
     "end_time": "2022-03-22T08:27:10.970285",
     "exception": false,
     "start_time": "2022-03-22T08:27:10.009907",
     "status": "completed"
    },
    "tags": []
   },
   "outputs": [
    {
     "data": {
      "image/png": "[encoded data removed]",
      "text/plain": [
       "<Figure size 1440x720 with 1 Axes>"
      ]
     },
     "metadata": {
      "needs_background": "light"
     },
     "output_type": "display_data"
    }
   ],
   "source": [
    "plt.figure(figsize = (20, 10))\n",
    "plt.xticks(rotation = 75)\n",
    "sns.countplot(x = 'Sport', data = Medal_women)\n",
    "plt.title('Sports in which women won Medals')\n",
    "plt.tight_layout()\n",
    "plt.show()"
   ]
  },
  {
   "cell_type": "markdown",
   "id": "6c29a03d",
   "metadata": {
    "papermill": {
     "duration": 0.13286,
     "end_time": "2022-03-22T08:27:11.232075",
     "exception": false,
     "start_time": "2022-03-22T08:27:11.099215",
     "status": "completed"
    },
    "tags": []
   },
   "source": [
    "Women win maximum medals in sports like Swimming, Athletics, Gymnastics, Running and Volleyball."
   ]
  },
  {
   "cell_type": "markdown",
   "id": "54a7ab56",
   "metadata": {
    "papermill": {
     "duration": 0.27431,
     "end_time": "2022-03-22T08:27:11.699889",
     "exception": false,
     "start_time": "2022-03-22T08:27:11.425579",
     "status": "completed"
    },
    "tags": []
   },
   "source": [
    "Now out of these sports in which women have won the Medals are there any sports which are only played by women? "
   ]
  },
  {
   "cell_type": "markdown",
   "id": "8c046238",
   "metadata": {
    "papermill": {
     "duration": 0.191755,
     "end_time": "2022-03-22T08:27:12.087944",
     "exception": false,
     "start_time": "2022-03-22T08:27:11.896189",
     "status": "completed"
    },
    "tags": []
   },
   "source": [
    "Let's group the dataframe by Sport and apply the value_counts() to find the number of participants from both Male and Female category in each sport ever played in the history of Olympics from 1896 to 2016."
   ]
  },
  {
   "cell_type": "code",
   "execution_count": 68,
   "id": "a6781844",
   "metadata": {
    "execution": {
     "iopub.execute_input": "2022-03-22T08:27:12.478106Z",
     "iopub.status.busy": "2022-03-22T08:27:12.477433Z",
     "iopub.status.idle": "2022-03-22T08:27:12.554247Z",
     "shell.execute_reply": "2022-03-22T08:27:12.554873Z",
     "shell.execute_reply.started": "2022-03-22T07:26:56.432022Z"
    },
    "papermill": {
     "duration": 0.273982,
     "end_time": "2022-03-22T08:27:12.555032",
     "exception": false,
     "start_time": "2022-03-22T08:27:12.281050",
     "status": "completed"
    },
    "tags": []
   },
   "outputs": [
    {
     "data": {
      "text/plain": [
       "Sport          Sex\n",
       "Aeronautics    M         1\n",
       "Alpinism       M         3\n",
       "               F         1\n",
       "Archery        M      1319\n",
       "               F      1015\n",
       "                      ... \n",
       "Water Polo     F       488\n",
       "Weightlifting  M      3474\n",
       "               F       463\n",
       "Wrestling      M      6850\n",
       "               F       304\n",
       "Name: Sex, Length: 89, dtype: int64"
      ]
     },
     "execution_count": 68,
     "metadata": {},
     "output_type": "execute_result"
    }
   ],
   "source": [
    "sport_group = df1_summer.groupby(['Sport']).Sex.value_counts()\n",
    "sport_group"
   ]
  },
  {
   "cell_type": "markdown",
   "id": "00e7c722",
   "metadata": {
    "papermill": {
     "duration": 0.189,
     "end_time": "2022-03-22T08:27:12.937290",
     "exception": false,
     "start_time": "2022-03-22T08:27:12.748290",
     "status": "completed"
    },
    "tags": []
   },
   "source": [
    "Now, lets find the sports which are only played by females and no male category is present for these sports."
   ]
  },
  {
   "cell_type": "code",
   "execution_count": 69,
   "id": "fc33c20a",
   "metadata": {
    "execution": {
     "iopub.execute_input": "2022-03-22T08:27:13.307115Z",
     "iopub.status.busy": "2022-03-22T08:27:13.306203Z",
     "iopub.status.idle": "2022-03-22T08:27:13.315426Z",
     "shell.execute_reply": "2022-03-22T08:27:13.316051Z",
     "shell.execute_reply.started": "2022-03-22T07:26:56.501857Z"
    },
    "papermill": {
     "duration": 0.195994,
     "end_time": "2022-03-22T08:27:13.316221",
     "exception": false,
     "start_time": "2022-03-22T08:27:13.120227",
     "status": "completed"
    },
    "tags": []
   },
   "outputs": [
    {
     "data": {
      "text/html": [
       "<div>\n",
       "<style scoped>\n",
       "    .dataframe tbody tr th:only-of-type {\n",
       "        vertical-align: middle;\n",
       "    }\n",
       "\n",
       "    .dataframe tbody tr th {\n",
       "        vertical-align: top;\n",
       "    }\n",
       "\n",
       "    .dataframe thead th {\n",
       "        text-align: right;\n",
       "    }\n",
       "</style>\n",
       "<table border=\"1\" class=\"dataframe\">\n",
       "  <thead>\n",
       "    <tr style=\"text-align: right;\">\n",
       "      <th>Sex</th>\n",
       "      <th>F</th>\n",
       "      <th>M</th>\n",
       "    </tr>\n",
       "    <tr>\n",
       "      <th>Sport</th>\n",
       "      <th></th>\n",
       "      <th></th>\n",
       "    </tr>\n",
       "  </thead>\n",
       "  <tbody>\n",
       "    <tr>\n",
       "      <th>Rhythmic Gymnastics</th>\n",
       "      <td>658.0</td>\n",
       "      <td>0.0</td>\n",
       "    </tr>\n",
       "    <tr>\n",
       "      <th>Softball</th>\n",
       "      <td>478.0</td>\n",
       "      <td>0.0</td>\n",
       "    </tr>\n",
       "    <tr>\n",
       "      <th>Synchronized Swimming</th>\n",
       "      <td>909.0</td>\n",
       "      <td>0.0</td>\n",
       "    </tr>\n",
       "  </tbody>\n",
       "</table>\n",
       "</div>"
      ],
      "text/plain": [
       "Sex                        F    M\n",
       "Sport                            \n",
       "Rhythmic Gymnastics    658.0  0.0\n",
       "Softball               478.0  0.0\n",
       "Synchronized Swimming  909.0  0.0"
      ]
     },
     "execution_count": 69,
     "metadata": {},
     "output_type": "execute_result"
    }
   ],
   "source": [
    "df_sport_group = sport_group.unstack()\n",
    "df_sport_group.fillna(0, inplace = True)\n",
    "Female_Events = df_sport_group[df_sport_group['M'] == 0]\n",
    "Female_Events.head()"
   ]
  },
  {
   "cell_type": "markdown",
   "id": "981300d4",
   "metadata": {
    "papermill": {
     "duration": 0.193397,
     "end_time": "2022-03-22T08:27:13.701682",
     "exception": false,
     "start_time": "2022-03-22T08:27:13.508285",
     "status": "completed"
    },
    "tags": []
   },
   "source": [
    "**Rhythmic Gymnastics, Softball, Synchronized Swimming** are only played by Female participants.\n",
    "\n",
    "Now, I am curious to know are there any sports which are only played by Male participants."
   ]
  },
  {
   "cell_type": "code",
   "execution_count": 70,
   "id": "a3e27424",
   "metadata": {
    "execution": {
     "iopub.execute_input": "2022-03-22T08:27:14.107075Z",
     "iopub.status.busy": "2022-03-22T08:27:14.106212Z",
     "iopub.status.idle": "2022-03-22T08:27:14.111099Z",
     "shell.execute_reply": "2022-03-22T08:27:14.110577Z",
     "shell.execute_reply.started": "2022-03-22T07:26:56.520477Z"
    },
    "papermill": {
     "duration": 0.214069,
     "end_time": "2022-03-22T08:27:14.111210",
     "exception": false,
     "start_time": "2022-03-22T08:27:13.897141",
     "status": "completed"
    },
    "tags": []
   },
   "outputs": [
    {
     "data": {
      "text/html": [
       "<div>\n",
       "<style scoped>\n",
       "    .dataframe tbody tr th:only-of-type {\n",
       "        vertical-align: middle;\n",
       "    }\n",
       "\n",
       "    .dataframe tbody tr th {\n",
       "        vertical-align: top;\n",
       "    }\n",
       "\n",
       "    .dataframe thead th {\n",
       "        text-align: right;\n",
       "    }\n",
       "</style>\n",
       "<table border=\"1\" class=\"dataframe\">\n",
       "  <thead>\n",
       "    <tr style=\"text-align: right;\">\n",
       "      <th>Sex</th>\n",
       "      <th>F</th>\n",
       "      <th>M</th>\n",
       "    </tr>\n",
       "    <tr>\n",
       "      <th>Sport</th>\n",
       "      <th></th>\n",
       "      <th></th>\n",
       "    </tr>\n",
       "  </thead>\n",
       "  <tbody>\n",
       "    <tr>\n",
       "      <th>Aeronautics</th>\n",
       "      <td>0.0</td>\n",
       "      <td>1.0</td>\n",
       "    </tr>\n",
       "    <tr>\n",
       "      <th>Baseball</th>\n",
       "      <td>0.0</td>\n",
       "      <td>894.0</td>\n",
       "    </tr>\n",
       "    <tr>\n",
       "      <th>Basque Pelota</th>\n",
       "      <td>0.0</td>\n",
       "      <td>2.0</td>\n",
       "    </tr>\n",
       "    <tr>\n",
       "      <th>Cricket</th>\n",
       "      <td>0.0</td>\n",
       "      <td>24.0</td>\n",
       "    </tr>\n",
       "    <tr>\n",
       "      <th>Ice Hockey</th>\n",
       "      <td>0.0</td>\n",
       "      <td>60.0</td>\n",
       "    </tr>\n",
       "    <tr>\n",
       "      <th>Jeu De Paume</th>\n",
       "      <td>0.0</td>\n",
       "      <td>11.0</td>\n",
       "    </tr>\n",
       "    <tr>\n",
       "      <th>Lacrosse</th>\n",
       "      <td>0.0</td>\n",
       "      <td>60.0</td>\n",
       "    </tr>\n",
       "    <tr>\n",
       "      <th>Polo</th>\n",
       "      <td>0.0</td>\n",
       "      <td>95.0</td>\n",
       "    </tr>\n",
       "    <tr>\n",
       "      <th>Racquets</th>\n",
       "      <td>0.0</td>\n",
       "      <td>12.0</td>\n",
       "    </tr>\n",
       "    <tr>\n",
       "      <th>Roque</th>\n",
       "      <td>0.0</td>\n",
       "      <td>4.0</td>\n",
       "    </tr>\n",
       "    <tr>\n",
       "      <th>Rugby</th>\n",
       "      <td>0.0</td>\n",
       "      <td>162.0</td>\n",
       "    </tr>\n",
       "    <tr>\n",
       "      <th>Tug-Of-War</th>\n",
       "      <td>0.0</td>\n",
       "      <td>170.0</td>\n",
       "    </tr>\n",
       "  </tbody>\n",
       "</table>\n",
       "</div>"
      ],
      "text/plain": [
       "Sex              F      M\n",
       "Sport                    \n",
       "Aeronautics    0.0    1.0\n",
       "Baseball       0.0  894.0\n",
       "Basque Pelota  0.0    2.0\n",
       "Cricket        0.0   24.0\n",
       "Ice Hockey     0.0   60.0\n",
       "Jeu De Paume   0.0   11.0\n",
       "Lacrosse       0.0   60.0\n",
       "Polo           0.0   95.0\n",
       "Racquets       0.0   12.0\n",
       "Roque          0.0    4.0\n",
       "Rugby          0.0  162.0\n",
       "Tug-Of-War     0.0  170.0"
      ]
     },
     "execution_count": 70,
     "metadata": {},
     "output_type": "execute_result"
    }
   ],
   "source": [
    "df_sport_group = sport_group.unstack()\n",
    "df_sport_group.fillna(0, inplace = True)\n",
    "Male_Events = df_sport_group[df_sport_group['F'] == 0]\n",
    "Male_Events.head(20)"
   ]
  },
  {
   "cell_type": "markdown",
   "id": "68a757cc",
   "metadata": {
    "papermill": {
     "duration": 0.196201,
     "end_time": "2022-03-22T08:27:14.440354",
     "exception": false,
     "start_time": "2022-03-22T08:27:14.244153",
     "status": "completed"
    },
    "tags": []
   },
   "source": [
    "So, there are **12** sports which are only played by Male participants, although I have not checked whether all of them are still continued by the Olympics committee."
   ]
  },
  {
   "cell_type": "markdown",
   "id": "20fabf58",
   "metadata": {
    "papermill": {
     "duration": 0.196778,
     "end_time": "2022-03-22T08:27:14.834271",
     "exception": false,
     "start_time": "2022-03-22T08:27:14.637493",
     "status": "completed"
    },
    "tags": []
   },
   "source": [
    "## Summary\n",
    "\n",
    "\n",
    "   * United Stated has bragged the maximum number of Medals in the history of Olympics. \n",
    "   \n",
    "   * Soviet Union first participated in 1952 for the first time but its still in the top three positions before 1991, this show the strength of the participants from Soviet Union. \n",
    "   \n",
    "   * After 1991, there are 3 countries Australia, Russia and Germany after United States which are in the medal winning race.\n",
    "   \n",
    "   * Every year the number of Participants have increased in Olympics with exception in 1932, 1956 and 1980.\n",
    "   \n",
    "   * 97% participants in olympics are of age between 15-40, with maximum partipants with age 23 years.\n",
    "   \n",
    "   * There are some sports which are even played by the people of age more than 60. 68% people above the age of 60 have participated in Art Competitions. It formed the part of the modern Olympic Games during its early years, from 1912 to 1948.\n",
    "   \n",
    "   * Sports like Athletics, Swimming, Wrestling, Gymnastics and Shooting are the top five sports which have maximum contribution in terms of participants to the summer olympic games.\n",
    "   \n",
    "   * Men participation in Summer Olympics has dropped after the year 1996. Overall participation dropped in 1932, 1956 and 1980 due to Great Depression and the Olympics Bycott by the various countries.\n",
    "   \n",
    "   * Women win maximum medals in sports like Swimming, Athletics, Gymnastics, Running and Volleyball.\n",
    "   \n",
    "   * There are 3 sports which are only played by Women and 12 sports which are only played by Men."
   ]
  },
  {
   "cell_type": "markdown",
   "id": "20eb53e1",
   "metadata": {
    "papermill": {
     "duration": 0.194668,
     "end_time": "2022-03-22T08:27:15.225778",
     "exception": false,
     "start_time": "2022-03-22T08:27:15.031110",
     "status": "completed"
    },
    "tags": []
   },
   "source": [
    "If you liked the notebook then please upvote it and if you have any suggestions then do let me know in the comment section."
   ]
  },
  {
   "cell_type": "code",
   "execution_count": null,
   "id": "8cc6c97f",
   "metadata": {
    "papermill": {
     "duration": 0.196226,
     "end_time": "2022-03-22T08:27:15.617928",
     "exception": false,
     "start_time": "2022-03-22T08:27:15.421702",
     "status": "completed"
    },
    "tags": []
   },
   "outputs": [],
   "source": []
  }
 ],
 "metadata": {
  "kernelspec": {
   "display_name": "Python 3",
   "language": "python",
   "name": "python3"
  },
  "language_info": {
   "codemirror_mode": {
    "name": "ipython",
    "version": 3
   },
   "file_extension": ".py",
   "mimetype": "text/x-python",
   "name": "python",
   "nbconvert_exporter": "python",
   "pygments_lexer": "ipython3",
   "version": "3.7.12"
  },
  "papermill": {
   "default_parameters": {},
   "duration": 70.543917,
   "end_time": "2022-03-22T08:27:16.726683",
   "environment_variables": {},
   "exception": null,
   "input_path": "__notebook__.ipynb",
   "output_path": "__notebook__.ipynb",
   "parameters": {},
   "start_time": "2022-03-22T08:26:06.182766",
   "version": "2.3.3"
  }
 },
 "nbformat": 4,
 "nbformat_minor": 5
}
